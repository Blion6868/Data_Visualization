{
 "cells": [
  {
   "cell_type": "code",
   "execution_count": 38,
   "id": "ranking-fashion",
   "metadata": {},
   "outputs": [],
   "source": [
    "import pandas as pd\n",
    "import matplotlib.pyplot as plt\n",
    "import seaborn as sns\n",
    "import numpy as np\n",
    "import plotly.express as px\n",
    "\n",
    "plt.rcParams['font.sans-serif'] = 'Helvetica'"
   ]
  },
  {
   "cell_type": "markdown",
   "id": "conservative-verification",
   "metadata": {},
   "source": [
    "Data courtesy of Kaggle: https://www.kaggle.com/datasets/drahulsingh/best-selling-books"
   ]
  },
  {
   "cell_type": "code",
   "execution_count": 2,
   "id": "royal-houston",
   "metadata": {},
   "outputs": [
    {
     "data": {
      "text/html": [
       "<div>\n",
       "<style scoped>\n",
       "    .dataframe tbody tr th:only-of-type {\n",
       "        vertical-align: middle;\n",
       "    }\n",
       "\n",
       "    .dataframe tbody tr th {\n",
       "        vertical-align: top;\n",
       "    }\n",
       "\n",
       "    .dataframe thead th {\n",
       "        text-align: right;\n",
       "    }\n",
       "</style>\n",
       "<table border=\"1\" class=\"dataframe\">\n",
       "  <thead>\n",
       "    <tr style=\"text-align: right;\">\n",
       "      <th></th>\n",
       "      <th>Book</th>\n",
       "      <th>Author(s)</th>\n",
       "      <th>Original language</th>\n",
       "      <th>First published</th>\n",
       "      <th>Approximate sales in millions</th>\n",
       "      <th>Genre</th>\n",
       "    </tr>\n",
       "  </thead>\n",
       "  <tbody>\n",
       "    <tr>\n",
       "      <th>0</th>\n",
       "      <td>A Tale of Two Cities</td>\n",
       "      <td>Charles Dickens</td>\n",
       "      <td>English</td>\n",
       "      <td>1859</td>\n",
       "      <td>200.0</td>\n",
       "      <td>Historical fiction</td>\n",
       "    </tr>\n",
       "    <tr>\n",
       "      <th>1</th>\n",
       "      <td>The Little Prince (Le Petit Prince)</td>\n",
       "      <td>Antoine de Saint-Exupéry</td>\n",
       "      <td>French</td>\n",
       "      <td>1943</td>\n",
       "      <td>200.0</td>\n",
       "      <td>Novella</td>\n",
       "    </tr>\n",
       "    <tr>\n",
       "      <th>2</th>\n",
       "      <td>Harry Potter and the Philosopher's Stone</td>\n",
       "      <td>J. K. Rowling</td>\n",
       "      <td>English</td>\n",
       "      <td>1997</td>\n",
       "      <td>120.0</td>\n",
       "      <td>Fantasy</td>\n",
       "    </tr>\n",
       "    <tr>\n",
       "      <th>3</th>\n",
       "      <td>And Then There Were None</td>\n",
       "      <td>Agatha Christie</td>\n",
       "      <td>English</td>\n",
       "      <td>1939</td>\n",
       "      <td>100.0</td>\n",
       "      <td>Mystery</td>\n",
       "    </tr>\n",
       "    <tr>\n",
       "      <th>4</th>\n",
       "      <td>Dream of the Red Chamber (紅樓夢)</td>\n",
       "      <td>Cao Xueqin</td>\n",
       "      <td>Chinese</td>\n",
       "      <td>1791</td>\n",
       "      <td>100.0</td>\n",
       "      <td>Family saga</td>\n",
       "    </tr>\n",
       "  </tbody>\n",
       "</table>\n",
       "</div>"
      ],
      "text/plain": [
       "                                       Book                 Author(s)  \\\n",
       "0                      A Tale of Two Cities           Charles Dickens   \n",
       "1       The Little Prince (Le Petit Prince)  Antoine de Saint-Exupéry   \n",
       "2  Harry Potter and the Philosopher's Stone             J. K. Rowling   \n",
       "3                  And Then There Were None           Agatha Christie   \n",
       "4            Dream of the Red Chamber (紅樓夢)                Cao Xueqin   \n",
       "\n",
       "  Original language  First published  Approximate sales in millions  \\\n",
       "0           English             1859                          200.0   \n",
       "1            French             1943                          200.0   \n",
       "2           English             1997                          120.0   \n",
       "3           English             1939                          100.0   \n",
       "4           Chinese             1791                          100.0   \n",
       "\n",
       "                Genre  \n",
       "0  Historical fiction  \n",
       "1             Novella  \n",
       "2             Fantasy  \n",
       "3             Mystery  \n",
       "4         Family saga  "
      ]
     },
     "execution_count": 2,
     "metadata": {},
     "output_type": "execute_result"
    }
   ],
   "source": [
    "#load data\n",
    "\n",
    "df = pd.read_csv(r\"C:\\Users\\bryan\\Desktop\\books.csv\")\n",
    "df.head()"
   ]
  },
  {
   "cell_type": "code",
   "execution_count": 3,
   "id": "twenty-contemporary",
   "metadata": {},
   "outputs": [
    {
     "data": {
      "text/plain": [
       "Book                              0\n",
       "Author(s)                         0\n",
       "Original language                 0\n",
       "First published                   0\n",
       "Approximate sales in millions     0\n",
       "Genre                            56\n",
       "dtype: int64"
      ]
     },
     "execution_count": 3,
     "metadata": {},
     "output_type": "execute_result"
    }
   ],
   "source": [
    "#see if there are any missing values\n",
    "\n",
    "df.isnull().sum()"
   ]
  },
  {
   "cell_type": "code",
   "execution_count": 4,
   "id": "oriental-thing",
   "metadata": {},
   "outputs": [],
   "source": [
    "df.dropna(subset=['Genre'], inplace=True)"
   ]
  },
  {
   "cell_type": "code",
   "execution_count": 5,
   "id": "environmental-tobago",
   "metadata": {},
   "outputs": [
    {
     "data": {
      "text/plain": [
       "Book                             0\n",
       "Author(s)                        0\n",
       "Original language                0\n",
       "First published                  0\n",
       "Approximate sales in millions    0\n",
       "Genre                            0\n",
       "dtype: int64"
      ]
     },
     "execution_count": 5,
     "metadata": {},
     "output_type": "execute_result"
    }
   ],
   "source": [
    "df.isnull().sum()"
   ]
  },
  {
   "cell_type": "code",
   "execution_count": 6,
   "id": "ready-mention",
   "metadata": {},
   "outputs": [
    {
     "data": {
      "text/html": [
       "<div>\n",
       "<style scoped>\n",
       "    .dataframe tbody tr th:only-of-type {\n",
       "        vertical-align: middle;\n",
       "    }\n",
       "\n",
       "    .dataframe tbody tr th {\n",
       "        vertical-align: top;\n",
       "    }\n",
       "\n",
       "    .dataframe thead th {\n",
       "        text-align: right;\n",
       "    }\n",
       "</style>\n",
       "<table border=\"1\" class=\"dataframe\">\n",
       "  <thead>\n",
       "    <tr style=\"text-align: right;\">\n",
       "      <th></th>\n",
       "      <th>First published</th>\n",
       "      <th>Approximate sales in millions</th>\n",
       "    </tr>\n",
       "  </thead>\n",
       "  <tbody>\n",
       "    <tr>\n",
       "      <th>count</th>\n",
       "      <td>118.000000</td>\n",
       "      <td>118.000000</td>\n",
       "    </tr>\n",
       "    <tr>\n",
       "      <th>mean</th>\n",
       "      <td>1961.483051</td>\n",
       "      <td>38.765254</td>\n",
       "    </tr>\n",
       "    <tr>\n",
       "      <th>std</th>\n",
       "      <td>44.992636</td>\n",
       "      <td>30.295672</td>\n",
       "    </tr>\n",
       "    <tr>\n",
       "      <th>min</th>\n",
       "      <td>1788.000000</td>\n",
       "      <td>10.400000</td>\n",
       "    </tr>\n",
       "    <tr>\n",
       "      <th>25%</th>\n",
       "      <td>1945.000000</td>\n",
       "      <td>20.000000</td>\n",
       "    </tr>\n",
       "    <tr>\n",
       "      <th>50%</th>\n",
       "      <td>1971.000000</td>\n",
       "      <td>30.000000</td>\n",
       "    </tr>\n",
       "    <tr>\n",
       "      <th>75%</th>\n",
       "      <td>1992.750000</td>\n",
       "      <td>50.000000</td>\n",
       "    </tr>\n",
       "    <tr>\n",
       "      <th>max</th>\n",
       "      <td>2018.000000</td>\n",
       "      <td>200.000000</td>\n",
       "    </tr>\n",
       "  </tbody>\n",
       "</table>\n",
       "</div>"
      ],
      "text/plain": [
       "       First published  Approximate sales in millions\n",
       "count       118.000000                     118.000000\n",
       "mean       1961.483051                      38.765254\n",
       "std          44.992636                      30.295672\n",
       "min        1788.000000                      10.400000\n",
       "25%        1945.000000                      20.000000\n",
       "50%        1971.000000                      30.000000\n",
       "75%        1992.750000                      50.000000\n",
       "max        2018.000000                     200.000000"
      ]
     },
     "execution_count": 6,
     "metadata": {},
     "output_type": "execute_result"
    }
   ],
   "source": [
    "df.describe()"
   ]
  },
  {
   "cell_type": "code",
   "execution_count": 7,
   "id": "sonic-hierarchy",
   "metadata": {},
   "outputs": [
    {
     "data": {
      "text/plain": [
       "(118, 6)"
      ]
     },
     "execution_count": 7,
     "metadata": {},
     "output_type": "execute_result"
    }
   ],
   "source": [
    "df.shape"
   ]
  },
  {
   "cell_type": "code",
   "execution_count": 8,
   "id": "furnished-swimming",
   "metadata": {},
   "outputs": [
    {
     "name": "stdout",
     "output_type": "stream",
     "text": [
      "<class 'pandas.core.frame.DataFrame'>\n",
      "Int64Index: 118 entries, 0 to 145\n",
      "Data columns (total 6 columns):\n",
      " #   Column                         Non-Null Count  Dtype  \n",
      "---  ------                         --------------  -----  \n",
      " 0   Book                           118 non-null    object \n",
      " 1   Author(s)                      118 non-null    object \n",
      " 2   Original language              118 non-null    object \n",
      " 3   First published                118 non-null    int64  \n",
      " 4   Approximate sales in millions  118 non-null    float64\n",
      " 5   Genre                          118 non-null    object \n",
      "dtypes: float64(1), int64(1), object(4)\n",
      "memory usage: 6.5+ KB\n"
     ]
    }
   ],
   "source": [
    "df.info()"
   ]
  },
  {
   "cell_type": "code",
   "execution_count": 39,
   "id": "defined-support",
   "metadata": {},
   "outputs": [
    {
     "data": {
      "image/png": "[encoded data removed]",
      "text/plain": [
       "<Figure size 720x432 with 1 Axes>"
      ]
     },
     "metadata": {
      "needs_background": "light"
     },
     "output_type": "display_data"
    }
   ],
   "source": [
    "#plot the top ten bestsellers\n",
    "\n",
    "titles = df.sort_values(by='Approximate sales in millions', ascending=False).head(10)\n",
    "plt.figure(figsize=(10, 6))\n",
    "plt.bar(titles['Book'], titles['Approximate sales in millions'])\n",
    "plt.xticks(rotation=15, ha='right');"
   ]
  },
  {
   "cell_type": "code",
   "execution_count": 10,
   "id": "documented-blame",
   "metadata": {},
   "outputs": [
    {
     "data": {
      "image/png": "[encoded data removed]",
      "text/plain": [
       "<Figure size 1296x576 with 1 Axes>"
      ]
     },
     "metadata": {
      "needs_background": "light"
     },
     "output_type": "display_data"
    }
   ],
   "source": [
    "#plot genre count\n",
    "\n",
    "plt.figure(figsize=(18, 8))\n",
    "sns.countplot(data=df, x='Genre')\n",
    "plt.xticks(rotation=90)\n",
    "plt.show()"
   ]
  },
  {
   "cell_type": "code",
   "execution_count": 11,
   "id": "located-punch",
   "metadata": {},
   "outputs": [
    {
     "data": {
      "text/html": [
       "<div>\n",
       "<style scoped>\n",
       "    .dataframe tbody tr th:only-of-type {\n",
       "        vertical-align: middle;\n",
       "    }\n",
       "\n",
       "    .dataframe tbody tr th {\n",
       "        vertical-align: top;\n",
       "    }\n",
       "\n",
       "    .dataframe thead th {\n",
       "        text-align: right;\n",
       "    }\n",
       "</style>\n",
       "<table border=\"1\" class=\"dataframe\">\n",
       "  <thead>\n",
       "    <tr style=\"text-align: right;\">\n",
       "      <th></th>\n",
       "      <th>First published</th>\n",
       "      <th>Approximate sales in millions</th>\n",
       "    </tr>\n",
       "    <tr>\n",
       "      <th>Genre</th>\n",
       "      <th></th>\n",
       "      <th></th>\n",
       "    </tr>\n",
       "  </thead>\n",
       "  <tbody>\n",
       "    <tr>\n",
       "      <th>Adventure</th>\n",
       "      <td>1887.0</td>\n",
       "      <td>83.0</td>\n",
       "    </tr>\n",
       "    <tr>\n",
       "      <th>Autobiographical novel</th>\n",
       "      <td>1981.0</td>\n",
       "      <td>18.0</td>\n",
       "    </tr>\n",
       "    <tr>\n",
       "      <th>Autobiography</th>\n",
       "      <td>1946.0</td>\n",
       "      <td>20.0</td>\n",
       "    </tr>\n",
       "    <tr>\n",
       "      <th>Bildungsroman, Historical fiction</th>\n",
       "      <td>2003.0</td>\n",
       "      <td>31.5</td>\n",
       "    </tr>\n",
       "    <tr>\n",
       "      <th>Biographical novel</th>\n",
       "      <td>1934.0</td>\n",
       "      <td>25.0</td>\n",
       "    </tr>\n",
       "    <tr>\n",
       "      <th>...</th>\n",
       "      <td>...</td>\n",
       "      <td>...</td>\n",
       "    </tr>\n",
       "    <tr>\n",
       "      <th>Young Adult novel, adventure, war, science fiction, action thriller</th>\n",
       "      <td>2010.0</td>\n",
       "      <td>20.0</td>\n",
       "    </tr>\n",
       "    <tr>\n",
       "      <th>Young adult fiction</th>\n",
       "      <td>2008.0</td>\n",
       "      <td>29.0</td>\n",
       "    </tr>\n",
       "    <tr>\n",
       "      <th>Young adult historical novel</th>\n",
       "      <td>1945.0</td>\n",
       "      <td>26.0</td>\n",
       "    </tr>\n",
       "    <tr>\n",
       "      <th>Young adult novel</th>\n",
       "      <td>1982.0</td>\n",
       "      <td>20.0</td>\n",
       "    </tr>\n",
       "    <tr>\n",
       "      <th>Young adult romantic novel</th>\n",
       "      <td>2012.0</td>\n",
       "      <td>23.0</td>\n",
       "    </tr>\n",
       "  </tbody>\n",
       "</table>\n",
       "<p>80 rows × 2 columns</p>\n",
       "</div>"
      ],
      "text/plain": [
       "                                                    First published  \\\n",
       "Genre                                                                 \n",
       "Adventure                                                    1887.0   \n",
       "Autobiographical novel                                       1981.0   \n",
       "Autobiography                                                1946.0   \n",
       "Bildungsroman, Historical fiction                            2003.0   \n",
       "Biographical novel                                           1934.0   \n",
       "...                                                             ...   \n",
       "Young Adult novel, adventure, war, science fict...           2010.0   \n",
       "Young adult fiction                                          2008.0   \n",
       "Young adult historical novel                                 1945.0   \n",
       "Young adult novel                                            1982.0   \n",
       "Young adult romantic novel                                   2012.0   \n",
       "\n",
       "                                                    Approximate sales in millions  \n",
       "Genre                                                                              \n",
       "Adventure                                                                    83.0  \n",
       "Autobiographical novel                                                       18.0  \n",
       "Autobiography                                                                20.0  \n",
       "Bildungsroman, Historical fiction                                            31.5  \n",
       "Biographical novel                                                           25.0  \n",
       "...                                                                           ...  \n",
       "Young Adult novel, adventure, war, science fict...                           20.0  \n",
       "Young adult fiction                                                          29.0  \n",
       "Young adult historical novel                                                 26.0  \n",
       "Young adult novel                                                            20.0  \n",
       "Young adult romantic novel                                                   23.0  \n",
       "\n",
       "[80 rows x 2 columns]"
      ]
     },
     "execution_count": 11,
     "metadata": {},
     "output_type": "execute_result"
    }
   ],
   "source": [
    "df.groupby('Genre').mean()"
   ]
  },
  {
   "cell_type": "code",
   "execution_count": 12,
   "id": "earlier-siemens",
   "metadata": {},
   "outputs": [
    {
     "data": {
      "image/png": "[encoded data removed]",
      "text/plain": [
       "<Figure size 1296x576 with 1 Axes>"
      ]
     },
     "metadata": {
      "needs_background": "light"
     },
     "output_type": "display_data"
    }
   ],
   "source": [
    "#determine the top 10 genres\n",
    "\n",
    "top_genres = df['Genre'].value_counts().head(10)\n",
    "top_genres = top_genres.sort_values(ascending=False) \n",
    "\n",
    "plt.figure(figsize=(18, 8))\n",
    "sns.countplot(data=df[df['Genre'].isin(top_genres.index)], x='Genre', order=top_genres.index)\n",
    "plt.xticks(rotation=15, ha='right')\n",
    "plt.show()"
   ]
  },
  {
   "cell_type": "code",
   "execution_count": 51,
   "id": "complete-baltimore",
   "metadata": {},
   "outputs": [
    {
     "data": {
      "text/html": [
       "<div>\n",
       "<style scoped>\n",
       "    .dataframe tbody tr th:only-of-type {\n",
       "        vertical-align: middle;\n",
       "    }\n",
       "\n",
       "    .dataframe tbody tr th {\n",
       "        vertical-align: top;\n",
       "    }\n",
       "\n",
       "    .dataframe thead th {\n",
       "        text-align: right;\n",
       "    }\n",
       "</style>\n",
       "<table border=\"1\" class=\"dataframe\">\n",
       "  <thead>\n",
       "    <tr style=\"text-align: right;\">\n",
       "      <th></th>\n",
       "      <th>First published</th>\n",
       "      <th>Approximate sales in millions</th>\n",
       "    </tr>\n",
       "    <tr>\n",
       "      <th>Genre</th>\n",
       "      <th></th>\n",
       "      <th></th>\n",
       "    </tr>\n",
       "  </thead>\n",
       "  <tbody>\n",
       "    <tr>\n",
       "      <th>Adventure</th>\n",
       "      <td>1887.0</td>\n",
       "      <td>83.0</td>\n",
       "    </tr>\n",
       "    <tr>\n",
       "      <th>Autobiographical novel</th>\n",
       "      <td>1981.0</td>\n",
       "      <td>18.0</td>\n",
       "    </tr>\n",
       "    <tr>\n",
       "      <th>Autobiography</th>\n",
       "      <td>1946.0</td>\n",
       "      <td>20.0</td>\n",
       "    </tr>\n",
       "    <tr>\n",
       "      <th>Bildungsroman, Historical fiction</th>\n",
       "      <td>2003.0</td>\n",
       "      <td>31.5</td>\n",
       "    </tr>\n",
       "    <tr>\n",
       "      <th>Biographical novel</th>\n",
       "      <td>1934.0</td>\n",
       "      <td>25.0</td>\n",
       "    </tr>\n",
       "    <tr>\n",
       "      <th>...</th>\n",
       "      <td>...</td>\n",
       "      <td>...</td>\n",
       "    </tr>\n",
       "    <tr>\n",
       "      <th>Young Adult novel, adventure, war, science fiction, action thriller</th>\n",
       "      <td>2010.0</td>\n",
       "      <td>20.0</td>\n",
       "    </tr>\n",
       "    <tr>\n",
       "      <th>Young adult fiction</th>\n",
       "      <td>2008.0</td>\n",
       "      <td>29.0</td>\n",
       "    </tr>\n",
       "    <tr>\n",
       "      <th>Young adult historical novel</th>\n",
       "      <td>1945.0</td>\n",
       "      <td>26.0</td>\n",
       "    </tr>\n",
       "    <tr>\n",
       "      <th>Young adult novel</th>\n",
       "      <td>1982.0</td>\n",
       "      <td>20.0</td>\n",
       "    </tr>\n",
       "    <tr>\n",
       "      <th>Young adult romantic novel</th>\n",
       "      <td>2012.0</td>\n",
       "      <td>23.0</td>\n",
       "    </tr>\n",
       "  </tbody>\n",
       "</table>\n",
       "<p>80 rows × 2 columns</p>\n",
       "</div>"
      ],
      "text/plain": [
       "                                                    First published  \\\n",
       "Genre                                                                 \n",
       "Adventure                                                    1887.0   \n",
       "Autobiographical novel                                       1981.0   \n",
       "Autobiography                                                1946.0   \n",
       "Bildungsroman, Historical fiction                            2003.0   \n",
       "Biographical novel                                           1934.0   \n",
       "...                                                             ...   \n",
       "Young Adult novel, adventure, war, science fict...           2010.0   \n",
       "Young adult fiction                                          2008.0   \n",
       "Young adult historical novel                                 1945.0   \n",
       "Young adult novel                                            1982.0   \n",
       "Young adult romantic novel                                   2012.0   \n",
       "\n",
       "                                                    Approximate sales in millions  \n",
       "Genre                                                                              \n",
       "Adventure                                                                    83.0  \n",
       "Autobiographical novel                                                       18.0  \n",
       "Autobiography                                                                20.0  \n",
       "Bildungsroman, Historical fiction                                            31.5  \n",
       "Biographical novel                                                           25.0  \n",
       "...                                                                           ...  \n",
       "Young Adult novel, adventure, war, science fict...                           20.0  \n",
       "Young adult fiction                                                          29.0  \n",
       "Young adult historical novel                                                 26.0  \n",
       "Young adult novel                                                            20.0  \n",
       "Young adult romantic novel                                                   23.0  \n",
       "\n",
       "[80 rows x 2 columns]"
      ]
     },
     "execution_count": 51,
     "metadata": {},
     "output_type": "execute_result"
    }
   ],
   "source": [
    "df.groupby('Genre').mean()"
   ]
  },
  {
   "cell_type": "code",
   "execution_count": 13,
   "id": "short-response",
   "metadata": {},
   "outputs": [
    {
     "data": {
      "text/plain": [
       "2      Harry Potter and the Philosopher's Stone\n",
       "5                                    The Hobbit\n",
       "10      Harry Potter and the Chamber of Secrets\n",
       "11     Harry Potter and the Prisoner of Azkaban\n",
       "12          Harry Potter and the Goblet of Fire\n",
       "13    Harry Potter and the Order of the Phoenix\n",
       "14       Harry Potter and the Half-Blood Prince\n",
       "15         Harry Potter and the Deathly Hallows\n",
       "16                 The Alchemist (O Alquimista)\n",
       "29                               Watership Down\n",
       "Name: Book, dtype: object"
      ]
     },
     "execution_count": 13,
     "metadata": {},
     "output_type": "execute_result"
    }
   ],
   "source": [
    "#determine titles for the Fantasy genre\n",
    "\n",
    "df[df['Genre'] == 'Fantasy']['Book']"
   ]
  },
  {
   "cell_type": "code",
   "execution_count": 14,
   "id": "collect-spanking",
   "metadata": {},
   "outputs": [
    {
     "data": {
      "text/plain": [
       "22                                    Lolita\n",
       "32                            The Ginger Man\n",
       "42                             Kane and Abel\n",
       "51                       Valley of the Dolls\n",
       "66                          Paul et Virginie\n",
       "70    Virgin Soil Upturned (Поднятая целина)\n",
       "74                                 The Shack\n",
       "86                        Things Fall Apart \n",
       "Name: Book, dtype: object"
      ]
     },
     "execution_count": 14,
     "metadata": {},
     "output_type": "execute_result"
    }
   ],
   "source": [
    "#determine titles for the novel genre\n",
    "\n",
    "df[df['Genre'] == 'Novel']['Book']"
   ]
  },
  {
   "cell_type": "code",
   "execution_count": 15,
   "id": "diagnostic-winter",
   "metadata": {},
   "outputs": [
    {
     "data": {
      "image/png": "[encoded data removed]",
      "text/plain": [
       "<Figure size 1296x576 with 1 Axes>"
      ]
     },
     "metadata": {
      "needs_background": "light"
     },
     "output_type": "display_data"
    }
   ],
   "source": [
    "#Determine authors with the most books on the best seller list\n",
    "\n",
    "top_authors = df['Author(s)'].value_counts().head(10)\n",
    "top_authors = top_authors.sort_values(ascending=False) \n",
    "\n",
    "plt.figure(figsize=(18, 8))\n",
    "sns.countplot(data=df[df['Author(s)'].isin(top_authors.index)], x='Author(s)', order=top_authors.index)\n",
    "plt.xticks(rotation=15, ha='right')\n",
    "plt.show()"
   ]
  },
  {
   "cell_type": "code",
   "execution_count": 50,
   "id": "union-chess",
   "metadata": {},
   "outputs": [
    {
     "data": {
      "text/html": [
       "<div>\n",
       "<style scoped>\n",
       "    .dataframe tbody tr th:only-of-type {\n",
       "        vertical-align: middle;\n",
       "    }\n",
       "\n",
       "    .dataframe tbody tr th {\n",
       "        vertical-align: top;\n",
       "    }\n",
       "\n",
       "    .dataframe thead th {\n",
       "        text-align: right;\n",
       "    }\n",
       "</style>\n",
       "<table border=\"1\" class=\"dataframe\">\n",
       "  <thead>\n",
       "    <tr style=\"text-align: right;\">\n",
       "      <th></th>\n",
       "      <th>First published</th>\n",
       "      <th>Approximate sales in millions</th>\n",
       "    </tr>\n",
       "    <tr>\n",
       "      <th>Author(s)</th>\n",
       "      <th></th>\n",
       "      <th></th>\n",
       "    </tr>\n",
       "  </thead>\n",
       "  <tbody>\n",
       "    <tr>\n",
       "      <th>Agatha Christie</th>\n",
       "      <td>1939.0</td>\n",
       "      <td>100.0</td>\n",
       "    </tr>\n",
       "    <tr>\n",
       "      <th>Alexander Alexandrovich Fadeyev</th>\n",
       "      <td>1945.0</td>\n",
       "      <td>26.0</td>\n",
       "    </tr>\n",
       "    <tr>\n",
       "      <th>Anna Sewell</th>\n",
       "      <td>1877.0</td>\n",
       "      <td>50.0</td>\n",
       "    </tr>\n",
       "    <tr>\n",
       "      <th>Anne Frank</th>\n",
       "      <td>1947.0</td>\n",
       "      <td>35.0</td>\n",
       "    </tr>\n",
       "    <tr>\n",
       "      <th>Anthony Doerr</th>\n",
       "      <td>2014.0</td>\n",
       "      <td>15.3</td>\n",
       "    </tr>\n",
       "    <tr>\n",
       "      <th>...</th>\n",
       "      <td>...</td>\n",
       "      <td>...</td>\n",
       "    </tr>\n",
       "    <tr>\n",
       "      <th>Wayne Dyer</th>\n",
       "      <td>1976.0</td>\n",
       "      <td>35.0</td>\n",
       "    </tr>\n",
       "    <tr>\n",
       "      <th>William Bradford Huie</th>\n",
       "      <td>1951.0</td>\n",
       "      <td>30.0</td>\n",
       "    </tr>\n",
       "    <tr>\n",
       "      <th>William P. Young</th>\n",
       "      <td>2007.0</td>\n",
       "      <td>22.5</td>\n",
       "    </tr>\n",
       "    <tr>\n",
       "      <th>William Peter Blatty</th>\n",
       "      <td>1971.0</td>\n",
       "      <td>11.0</td>\n",
       "    </tr>\n",
       "    <tr>\n",
       "      <th>Xaviera Hollander</th>\n",
       "      <td>1971.0</td>\n",
       "      <td>20.0</td>\n",
       "    </tr>\n",
       "  </tbody>\n",
       "</table>\n",
       "<p>104 rows × 2 columns</p>\n",
       "</div>"
      ],
      "text/plain": [
       "                                 First published  \\\n",
       "Author(s)                                          \n",
       "Agatha Christie                           1939.0   \n",
       "Alexander Alexandrovich Fadeyev           1945.0   \n",
       "Anna Sewell                               1877.0   \n",
       "Anne Frank                                1947.0   \n",
       "Anthony Doerr                             2014.0   \n",
       "...                                          ...   \n",
       "Wayne Dyer                                1976.0   \n",
       "William Bradford Huie                     1951.0   \n",
       "William P. Young                          2007.0   \n",
       "William Peter Blatty                      1971.0   \n",
       "Xaviera Hollander                         1971.0   \n",
       "\n",
       "                                 Approximate sales in millions  \n",
       "Author(s)                                                       \n",
       "Agatha Christie                                          100.0  \n",
       "Alexander Alexandrovich Fadeyev                           26.0  \n",
       "Anna Sewell                                               50.0  \n",
       "Anne Frank                                                35.0  \n",
       "Anthony Doerr                                             15.3  \n",
       "...                                                        ...  \n",
       "Wayne Dyer                                                35.0  \n",
       "William Bradford Huie                                     30.0  \n",
       "William P. Young                                          22.5  \n",
       "William Peter Blatty                                      11.0  \n",
       "Xaviera Hollander                                         20.0  \n",
       "\n",
       "[104 rows x 2 columns]"
      ]
     },
     "execution_count": 50,
     "metadata": {},
     "output_type": "execute_result"
    }
   ],
   "source": [
    "df.groupby('Author(s)').mean()"
   ]
  },
  {
   "cell_type": "code",
   "execution_count": 17,
   "id": "after-undergraduate",
   "metadata": {},
   "outputs": [
    {
     "data": {
      "text/plain": [
       "2      Harry Potter and the Philosopher's Stone\n",
       "10      Harry Potter and the Chamber of Secrets\n",
       "11     Harry Potter and the Prisoner of Azkaban\n",
       "12          Harry Potter and the Goblet of Fire\n",
       "13    Harry Potter and the Order of the Phoenix\n",
       "14       Harry Potter and the Half-Blood Prince\n",
       "15         Harry Potter and the Deathly Hallows\n",
       "Name: Book, dtype: object"
      ]
     },
     "execution_count": 17,
     "metadata": {},
     "output_type": "execute_result"
    }
   ],
   "source": [
    "#determine titels for J.K. Rowling's books\n",
    "\n",
    "df[df['Author(s)'] == 'J. K. Rowling']['Book']"
   ]
  },
  {
   "cell_type": "code",
   "execution_count": 18,
   "id": "understanding-distinction",
   "metadata": {},
   "outputs": [
    {
     "data": {
      "image/png": "[encoded data removed]",
      "text/plain": [
       "<Figure size 1296x576 with 1 Axes>"
      ]
     },
     "metadata": {
      "needs_background": "light"
     },
     "output_type": "display_data"
    }
   ],
   "source": [
    "#Plot the sales in millions\n",
    "\n",
    "plt.figure(figsize=(18, 8))\n",
    "sns.histplot(data=df, x='Approximate sales in millions', bins=30, kde=True)\n",
    "plt.show()"
   ]
  },
  {
   "cell_type": "code",
   "execution_count": 46,
   "id": "proved-collect",
   "metadata": {},
   "outputs": [
    {
     "data": {
      "text/plain": [
       "38.76525423728813"
      ]
     },
     "execution_count": 46,
     "metadata": {},
     "output_type": "execute_result"
    }
   ],
   "source": [
    "df['Approximate sales in millions'].mean()"
   ]
  },
  {
   "cell_type": "markdown",
   "id": "roman-israeli",
   "metadata": {},
   "source": [
    "Clearly, there are a number of outliers around 200 million. To isolate these further, let's use a boxplot"
   ]
  },
  {
   "cell_type": "code",
   "execution_count": 19,
   "id": "narrative-underground",
   "metadata": {},
   "outputs": [
    {
     "data": {
      "text/plain": [
       "<AxesSubplot:xlabel='Approximate sales in millions'>"
      ]
     },
     "execution_count": 19,
     "metadata": {},
     "output_type": "execute_result"
    },
    {
     "data": {
      "image/png": "[encoded data removed]",
      "text/plain": [
       "<Figure size 1296x576 with 1 Axes>"
      ]
     },
     "metadata": {
      "needs_background": "light"
     },
     "output_type": "display_data"
    }
   ],
   "source": [
    "plt.figure(figsize=(18, 8))\n",
    "sns.boxplot(data=df, x=\"Approximate sales in millions\", hue=\"Author(s)\")"
   ]
  },
  {
   "cell_type": "code",
   "execution_count": 20,
   "id": "exotic-balance",
   "metadata": {},
   "outputs": [
    {
     "data": {
      "text/plain": [
       "<AxesSubplot:xlabel='Approximate sales in millions'>"
      ]
     },
     "execution_count": 20,
     "metadata": {},
     "output_type": "execute_result"
    },
    {
     "data": {
      "image/png": "[encoded data removed]",
      "text/plain": [
       "<Figure size 1296x576 with 1 Axes>"
      ]
     },
     "metadata": {
      "needs_background": "light"
     },
     "output_type": "display_data"
    }
   ],
   "source": [
    "plt.figure(figsize=(18, 8))\n",
    "sns.boxplot(data=df, x=\"Approximate sales in millions\", hue=\"Book\")"
   ]
  },
  {
   "cell_type": "code",
   "execution_count": 21,
   "id": "supported-costa",
   "metadata": {},
   "outputs": [
    {
     "data": {
      "text/html": [
       "<div>\n",
       "<style scoped>\n",
       "    .dataframe tbody tr th:only-of-type {\n",
       "        vertical-align: middle;\n",
       "    }\n",
       "\n",
       "    .dataframe tbody tr th {\n",
       "        vertical-align: top;\n",
       "    }\n",
       "\n",
       "    .dataframe thead th {\n",
       "        text-align: right;\n",
       "    }\n",
       "</style>\n",
       "<table border=\"1\" class=\"dataframe\">\n",
       "  <thead>\n",
       "    <tr style=\"text-align: right;\">\n",
       "      <th></th>\n",
       "      <th>Book</th>\n",
       "      <th>Author(s)</th>\n",
       "      <th>Original language</th>\n",
       "      <th>First published</th>\n",
       "      <th>Approximate sales in millions</th>\n",
       "      <th>Genre</th>\n",
       "    </tr>\n",
       "  </thead>\n",
       "  <tbody>\n",
       "    <tr>\n",
       "      <th>0</th>\n",
       "      <td>A Tale of Two Cities</td>\n",
       "      <td>Charles Dickens</td>\n",
       "      <td>English</td>\n",
       "      <td>1859</td>\n",
       "      <td>200.0</td>\n",
       "      <td>Historical fiction</td>\n",
       "    </tr>\n",
       "    <tr>\n",
       "      <th>1</th>\n",
       "      <td>The Little Prince (Le Petit Prince)</td>\n",
       "      <td>Antoine de Saint-Exupéry</td>\n",
       "      <td>French</td>\n",
       "      <td>1943</td>\n",
       "      <td>200.0</td>\n",
       "      <td>Novella</td>\n",
       "    </tr>\n",
       "    <tr>\n",
       "      <th>2</th>\n",
       "      <td>Harry Potter and the Philosopher's Stone</td>\n",
       "      <td>J. K. Rowling</td>\n",
       "      <td>English</td>\n",
       "      <td>1997</td>\n",
       "      <td>120.0</td>\n",
       "      <td>Fantasy</td>\n",
       "    </tr>\n",
       "    <tr>\n",
       "      <th>3</th>\n",
       "      <td>And Then There Were None</td>\n",
       "      <td>Agatha Christie</td>\n",
       "      <td>English</td>\n",
       "      <td>1939</td>\n",
       "      <td>100.0</td>\n",
       "      <td>Mystery</td>\n",
       "    </tr>\n",
       "    <tr>\n",
       "      <th>4</th>\n",
       "      <td>Dream of the Red Chamber (紅樓夢)</td>\n",
       "      <td>Cao Xueqin</td>\n",
       "      <td>Chinese</td>\n",
       "      <td>1791</td>\n",
       "      <td>100.0</td>\n",
       "      <td>Family saga</td>\n",
       "    </tr>\n",
       "    <tr>\n",
       "      <th>5</th>\n",
       "      <td>The Hobbit</td>\n",
       "      <td>J. R. R. Tolkien</td>\n",
       "      <td>English</td>\n",
       "      <td>1937</td>\n",
       "      <td>100.0</td>\n",
       "      <td>Fantasy</td>\n",
       "    </tr>\n",
       "  </tbody>\n",
       "</table>\n",
       "</div>"
      ],
      "text/plain": [
       "                                       Book                 Author(s)  \\\n",
       "0                      A Tale of Two Cities           Charles Dickens   \n",
       "1       The Little Prince (Le Petit Prince)  Antoine de Saint-Exupéry   \n",
       "2  Harry Potter and the Philosopher's Stone             J. K. Rowling   \n",
       "3                  And Then There Were None           Agatha Christie   \n",
       "4            Dream of the Red Chamber (紅樓夢)                Cao Xueqin   \n",
       "5                                The Hobbit          J. R. R. Tolkien   \n",
       "\n",
       "  Original language  First published  Approximate sales in millions  \\\n",
       "0           English             1859                          200.0   \n",
       "1            French             1943                          200.0   \n",
       "2           English             1997                          120.0   \n",
       "3           English             1939                          100.0   \n",
       "4           Chinese             1791                          100.0   \n",
       "5           English             1937                          100.0   \n",
       "\n",
       "                Genre  \n",
       "0  Historical fiction  \n",
       "1             Novella  \n",
       "2             Fantasy  \n",
       "3             Mystery  \n",
       "4         Family saga  \n",
       "5             Fantasy  "
      ]
     },
     "execution_count": 21,
     "metadata": {},
     "output_type": "execute_result"
    }
   ],
   "source": [
    "#determine outliers\n",
    "\n",
    "df[df['Approximate sales in millions'] >= 100.0]"
   ]
  },
  {
   "cell_type": "code",
   "execution_count": 22,
   "id": "brave-indication",
   "metadata": {},
   "outputs": [
    {
     "data": {
      "image/png": "[encoded data removed]",
      "text/plain": [
       "<Figure size 1296x576 with 1 Axes>"
      ]
     },
     "metadata": {
      "needs_background": "light"
     },
     "output_type": "display_data"
    }
   ],
   "source": [
    "#determine the top 10 years with the most bestsellers\n",
    "\n",
    "top_years = df['First published'].value_counts().head(10)\n",
    "top_years = top_years.sort_values(ascending=False)\n",
    "\n",
    "plt.figure(figsize=(18, 8))\n",
    "sns.countplot(data=df[df['First published'].isin(top_years.index)], x='First published', order = top_years.index)\n",
    "plt.xticks(rotation=0)\n",
    "plt.show()"
   ]
  },
  {
   "cell_type": "code",
   "execution_count": 41,
   "id": "advance-syndication",
   "metadata": {},
   "outputs": [
    {
     "data": {
      "text/plain": [
       "16     The Alchemist (O Alquimista)\n",
       "65          A Brief History of Time\n",
       "80                   Kitchen (キッチン)\n",
       "108                         Matilda\n",
       "Name: Book, dtype: object"
      ]
     },
     "execution_count": 41,
     "metadata": {},
     "output_type": "execute_result"
    }
   ],
   "source": [
    "#what are the bestseller titles in 1988?\n",
    "\n",
    "df[df['First published'] == 1988]['Book']"
   ]
  },
  {
   "cell_type": "code",
   "execution_count": 42,
   "id": "continuous-knife",
   "metadata": {},
   "outputs": [
    {
     "data": {
      "text/plain": [
       "38                                  Flowers in the Attic\n",
       "42                                         Kane and Abel\n",
       "112    The Neverending Story (Die unendliche Geschichte)\n",
       "125                 The Hitchhiker's Guide to the Galaxy\n",
       "Name: Book, dtype: object"
      ]
     },
     "execution_count": 42,
     "metadata": {},
     "output_type": "execute_result"
    }
   ],
   "source": [
    "#what are the bestseller titles in 1979?\n",
    "\n",
    "df[df['First published'] == 1979]['Book']"
   ]
  },
  {
   "cell_type": "code",
   "execution_count": 45,
   "id": "collect-laugh",
   "metadata": {},
   "outputs": [
    {
     "data": {
      "text/plain": [
       "9                                      The Da Vinci Code\n",
       "13             Harry Potter and the Order of the Phoenix\n",
       "14                Harry Potter and the Half-Blood Prince\n",
       "50                                       The Kite Runner\n",
       "53               How to Win Friends and Influence People\n",
       "55                                    Gone with the Wind\n",
       "59     The Girl with the Dragon Tattoo (Män som hatar...\n",
       "72                                The Fault in Our Stars\n",
       "75                             Uncle Styopa (Дядя Стёпа)\n",
       "83                                             Gone Girl\n",
       "109                                       The Book Thief\n",
       "145                                  Fifty Shades Darker\n",
       "Name: Book, dtype: object"
      ]
     },
     "execution_count": 45,
     "metadata": {},
     "output_type": "execute_result"
    }
   ],
   "source": [
    "#bestsellers from the next best years for bestsellers\n",
    "\n",
    "years_to_select = [2012, 2005, 1936, 2003]\n",
    "df[df['First published'].isin(years_to_select)]['Book']"
   ]
  },
  {
   "cell_type": "code",
   "execution_count": 27,
   "id": "committed-transportation",
   "metadata": {},
   "outputs": [
    {
     "data": {
      "text/plain": [
       "38     Gothic horror, Family saga\n",
       "42                          Novel\n",
       "112         Children's Literature\n",
       "125               Science fiction\n",
       "Name: Genre, dtype: object"
      ]
     },
     "execution_count": 27,
     "metadata": {},
     "output_type": "execute_result"
    }
   ],
   "source": [
    "#most popular genres in 1979?\n",
    "\n",
    "df[df['First published'] == 1979]['Genre']"
   ]
  },
  {
   "cell_type": "code",
   "execution_count": 28,
   "id": "streaming-membership",
   "metadata": {},
   "outputs": [
    {
     "data": {
      "text/plain": [
       "16                   Fantasy\n",
       "65           Popular science\n",
       "80            Japanese novel\n",
       "108    Children's Literature\n",
       "Name: Genre, dtype: object"
      ]
     },
     "execution_count": 28,
     "metadata": {},
     "output_type": "execute_result"
    }
   ],
   "source": [
    "#most popular genres in 1988?\n",
    "\n",
    "df[df['First published'] == 1988]['Genre']"
   ]
  },
  {
   "cell_type": "code",
   "execution_count": 29,
   "id": "neither-silly",
   "metadata": {},
   "outputs": [
    {
     "data": {
      "text/plain": [
       "31     Children's fiction\n",
       "100             Self-help\n",
       "Name: Genre, dtype: object"
      ]
     },
     "execution_count": 29,
     "metadata": {},
     "output_type": "execute_result"
    }
   ],
   "source": [
    "#most popular genres in 1952?\n",
    "\n",
    "df[df['First published'] == 1952]['Genre']"
   ]
  },
  {
   "cell_type": "code",
   "execution_count": 40,
   "id": "applied-powder",
   "metadata": {},
   "outputs": [
    {
     "data": {
      "image/png": "[encoded data removed]",
      "text/plain": [
       "<Figure size 1296x576 with 1 Axes>"
      ]
     },
     "metadata": {
      "needs_background": "light"
     },
     "output_type": "display_data"
    }
   ],
   "source": [
    "#top language\n",
    "\n",
    "top_language = df['Original language'].value_counts().head(10)\n",
    "top_language = top_language.sort_values(ascending=False)\n",
    "\n",
    "plt.figure(figsize=(18, 8))\n",
    "sns.countplot(data=df[df['Original language'].isin(top_language.index)], x='Original language', order = top_language.index)\n",
    "plt.xticks(rotation=0)\n",
    "plt.show()"
   ]
  },
  {
   "cell_type": "code",
   "execution_count": 53,
   "id": "innovative-forwarding",
   "metadata": {},
   "outputs": [
    {
     "data": {
      "application/vnd.plotly.v1+json": {
       "config": {
        "plotlyServerURL": "https://plot.ly"
       },
       "data": [
        {
         "branchvalues": "total",
         "customdata": [
          [
           100
          ],
          [
           26
          ],
          [
           50
          ],
          [
           35
          ],
          [
           15.3
          ],
          [
           200
          ],
          [
           20
          ],
          [
           20
          ],
          [
           45
          ],
          [
           50
          ],
          [
           30
          ],
          [
           85
          ],
          [
           100
          ],
          [
           40
          ],
          [
           35
          ],
          [
           200
          ],
          [
           20
          ],
          [
           33
          ],
          [
           30
          ],
          [
           30
          ],
          [
           80
          ],
          [
           39
          ],
          [
           30
          ],
          [
           18
          ],
          [
           20
          ],
          [
           14
          ],
          [
           50
          ],
          [
           13.249999999999998
          ],
          [
           40
          ],
          [
           43
          ],
          [
           20
          ],
          [
           20
          ],
          [
           21
          ],
          [
           30
          ],
          [
           20
          ],
          [
           50
          ],
          [
           30
          ],
          [
           20
          ],
          [
           20
          ],
          [
           83
          ],
          [
           40
          ],
          [
           25
          ],
          [
           20
          ],
          [
           65
          ],
          [
           79.41379310344827
          ],
          [
           50
          ],
          [
           100
          ],
          [
           50
          ],
          [
           31
          ],
          [
           25
          ],
          [
           23
          ],
          [
           20
          ],
          [
           20
          ],
          [
           37
          ],
          [
           20
          ],
          [
           50
          ],
          [
           23
          ],
          [
           40
          ],
          [
           15
          ],
          [
           25
          ],
          [
           31.5
          ],
          [
           36
          ],
          [
           50
          ],
          [
           12
          ],
          [
           50
          ],
          [
           50
          ],
          [
           30
          ],
          [
           16
          ],
          [
           20
          ],
          [
           21
          ],
          [
           20
          ],
          [
           16
          ],
          [
           20
          ],
          [
           16
          ],
          [
           24
          ],
          [
           36.4
          ],
          [
           20
          ],
          [
           20
          ],
          [
           23
          ],
          [
           65
          ],
          [
           20
          ],
          [
           20
          ],
          [
           50
          ],
          [
           44
          ],
          [
           33
          ],
          [
           17
          ],
          [
           20
          ],
          [
           28
          ],
          [
           60
          ],
          [
           20
          ],
          [
           21
          ],
          [
           50
          ],
          [
           29
          ],
          [
           25
          ],
          [
           25
          ],
          [
           30
          ],
          [
           20
          ],
          [
           21
          ],
          [
           20
          ],
          [
           29
          ],
          [
           18
          ],
          [
           20
          ],
          [
           50
          ],
          [
           40
          ],
          [
           80
          ],
          [
           50
          ],
          [
           35
          ],
          [
           30
          ],
          [
           22.5
          ],
          [
           11
          ],
          [
           20
          ],
          [
           83
          ],
          [
           18
          ],
          [
           20
          ],
          [
           31.5
          ],
          [
           25
          ],
          [
           32.94871794871795
          ],
          [
           16
          ],
          [
           43
          ],
          [
           21
          ],
          [
           20
          ],
          [
           50
          ],
          [
           50
          ],
          [
           41.666666666666664
          ],
          [
           20
          ],
          [
           42.1025641025641
          ],
          [
           20
          ],
          [
           33
          ],
          [
           20
          ],
          [
           65
          ],
          [
           18
          ],
          [
           21
          ],
          [
           20
          ],
          [
           80
          ],
          [
           12
          ],
          [
           30
          ],
          [
           13.249999999999998
          ],
          [
           40
          ],
          [
           100
          ],
          [
           80.28869047619048
          ],
          [
           65
          ],
          [
           85
          ],
          [
           35
          ],
          [
           20
          ],
          [
           30
          ],
          [
           30
          ],
          [
           40
          ],
          [
           30
          ],
          [
           147.88135593220338
          ],
          [
           15.3
          ],
          [
           35
          ],
          [
           36
          ],
          [
           50
          ],
          [
           11
          ],
          [
           20
          ],
          [
           50
          ],
          [
           50
          ],
          [
           20
          ],
          [
           100
          ],
          [
           80
          ],
          [
           39
          ],
          [
           23
          ],
          [
           39.1270783847981
          ],
          [
           25
          ],
          [
           24
          ],
          [
           30
          ],
          [
           200
          ],
          [
           44
          ],
          [
           40
          ],
          [
           20
          ],
          [
           25
          ],
          [
           40
          ],
          [
           20
          ],
          [
           60
          ],
          [
           21
          ],
          [
           33
          ],
          [
           20
          ],
          [
           20
          ],
          [
           14
          ],
          [
           20
          ],
          [
           20
          ],
          [
           33.095238095238095
          ],
          [
           29
          ],
          [
           20
          ],
          [
           50
          ],
          [
           20
          ],
          [
           36.4
          ],
          [
           40
          ],
          [
           21.6046511627907
          ],
          [
           20
          ],
          [
           20
          ],
          [
           20
          ],
          [
           50
          ],
          [
           16
          ],
          [
           21
          ],
          [
           20
          ],
          [
           29
          ],
          [
           26
          ],
          [
           20
          ],
          [
           23
          ],
          [
           86.66666666666667
          ],
          [
           20
          ],
          [
           35
          ],
          [
           58.14172266864938
          ],
          [
           180.55555555555554
          ],
          [
           36.69767441860465
          ],
          [
           68
          ],
          [
           43.8235294117647
          ],
          [
           19.05263157894737
          ],
          [
           33.333333333333336
          ],
          [
           65
          ],
          [
           28.84920440636475
          ],
          [
           50
          ],
          [
           30
          ]
         ],
         "domain": {
          "x": [
           0,
           1
          ],
          "y": [
           0,
           1
          ]
         },
         "hovertemplate": "labels=%{label}<br>Approximate sales in millions_sum=%{value}<br>parent=%{parent}<br>id=%{id}<br>Approximate sales in millions=%{color}<extra></extra>",
         "ids": [
          "English/Mystery/Agatha Christie",
          "Russian/Young adult historical novel/Alexander Alexandrovich Fadeyev",
          "English/Children's literature/Anna Sewell",
          "Dutch/Historical non-fiction, Autobiography, Memoir, Bildungsroman / Coming of Age, Jewish literature/Anne Frank",
          "English/Historical fiction, war novel/Anthony Doerr",
          "French/Novella/Antoine de Saint-Exupéry",
          "English/Pregnancy guide/Arlene Eisenberg and Heidi Murkoff",
          "Japanese/Japanese novel/Banana Yoshimoto",
          "English/Children's Literature/Beatrix Potter",
          "English/Manual/Benjamin Spock",
          "English/Self-help/Bill Wilson",
          "English/Fantasy, Children's fiction/C. S. Lewis",
          "Chinese/Family saga/Cao Xueqin",
          "English/Popular science, Anthropology, Astrophysics, Cosmology, Philosophy, History/Carl Sagan",
          "Italian/Fantasy, Children's fiction/Carlo Collodi",
          "English/Historical fiction/Charles Dickens",
          "English/Novel/Chinua Achebe",
          "English/Romantic family saga/Colleen McCullough",
          "English/Self-help/Dale Carnegie",
          "English/Fiction/Dan Brown",
          "English/Mystery thriller/Dan Brown",
          "English/Mystery-thriller/Dan Brown",
          "English/Gothic novel/Daphne du Maurier",
          "English/Coming-of-age Murder mystery/Delia Owens",
          "English/Social Science, Anthropology, Psychology/Desmond Morris",
          "English/Science fiction/Douglas Adams",
          "English/Children's fiction/E. B. White; illustrated by Garth Williams",
          "English/Erotica/E. L. James",
          "English/Essay/Literature/Elbert Hubbard",
          "English/Children's Literature, picture book/Eric Carle",
          "English/Romantic novel/Erica Jong",
          "German/War novel/Erich Maria Remarque",
          "English/Romance novel/Erich Segal",
          "English/Novel, tragedy/F. Scott Fitzgerald",
          "English/Science fiction novel/Frank Herbert",
          "Spanish/Magic realism/Gabriel García Márquez",
          "English/Dystopian, political fiction, social science fiction/George Orwell",
          "English/Satirical allegorical novella, Political satire, Dystopian Fiction, Roman à clef/George Orwell",
          "English/Crime thriller novel/Gillian Flynn",
          "English/Adventure/H. Rider Haggard",
          "English/Southern Gothic, Bildungsroman/Harper Lee",
          "English/Biographical novel/Irving Stone",
          "Russian/Science fiction novel/Ivan Yefremov",
          "English/Coming-of-age/J. D. Salinger",
          "English/Fantasy/J. K. Rowling",
          "English/Novel/J. P. Donleavy",
          "English/Fantasy/J. R. R. Tolkien",
          "English/War, thriller/Jack Higgins",
          "English/Novel/Jacqueline Susann",
          "French/Novel/Jacques-Henri Bernardin de Saint-Pierre",
          "English/New-age spiritual novel/James Redfield",
          "English/Classic regency novel, romance/Jane Austen",
          "Czech/Unfinished satirical dark comedy novel/Jaroslav Hašek",
          "English/Novel/Jeffrey Archer",
          "Chinese/Semi-autobiographical novel/Jiang Rong",
          "German/Children's fiction/Johanna Spyri",
          "English/Young adult romantic novel/John Green",
          "Norwegian/Philosophical novel, Young adult/Jostein Gaarder",
          "English/Historical fiction/Ken Follett",
          "English/Children's literature/Kenneth Grahame",
          "English/Bildungsroman, Historical fiction/Khaled Hosseini",
          "Russian/Historical novel/Leo Tolstoy",
          "English/Historical fiction/Lew Wallace",
          "English/Dystopian fiction/Lois Lowry",
          "English/Self-help/Louise Hay",
          "English/Children's novel/Lucy Maud Montgomery",
          "English/Historical fiction/Margaret Mitchell",
          "English/Children's Literature/Margaret Wise Brown",
          "English/Feminist novel/Marilyn French",
          "English/Crime novel/Mario Puzo",
          "English/Picaresque novel, Bildungsroman, satire, Robinsonade/Mark Twain",
          "English/Young Adult Fiction/Markus Zusak",
          "English/Children's picture book/Maurice Sendak",
          "German/Children's Literature/Michael Ende",
          "Russian/Novel/Mikhail Sholokhov",
          "Russian/Socialist realist novel/Nikolai Ostrovsky",
          "English/Self-help/Norman Vincent Peale",
          "Hindi/Autobiography/Paramahansa Yogananda",
          "English/Thriller/Paula Hawkins",
          "Portuguese/Fantasy/Paulo Coelho",
          "English/Thriller/Peter Benchley",
          "English/Self-help/Rhonda Byrne",
          "English/Fantasy/Richard Adams",
          "English/Novella, Self-help/Richard Bach",
          "English/Christian literature/Rick Warren",
          "English/Children's Literature/Roald Dahl",
          "English/Children's fantasy novel/Roald Dahl",
          "English/Children's novel/Roald Dahl",
          "English/Romance/Robert James Waller",
          "English/Children's literature, picture book, fiction/Robert Munsch",
          "Russian/Children's Literature, picture book/Sergey Mikhalkov",
          "English/Sexology/Shere Hite",
          "English/Self-help, motivational, business fable, psychology, leadership, parable/Spencer Johnson",
          "English/Popular science/Stephen Hawking",
          "English/Self-help/Stephen R. Covey",
          "Swedish/Fiction/Stieg Larsson",
          "English/Young adult novel/Sue Townsend",
          "English/Young Adult novel, adventure, dystopian, science fiction/Suzanne Collins",
          "English/Young Adult novel, adventure, war, science fiction, action thriller/Suzanne Collins",
          "English/Young adult fiction/Suzanne Collins",
          "Japanese/Autobiographical novel/Tetsuko Kuroyanagi",
          "Norwegian/Travel literature/Thor Heyerdahl",
          "Italian/Historical novel, mystery/Umberto Eco",
          "English/Gothic horror, Family saga/V. C. Andrews",
          "Hindi/Detective/Ved Prakash Sharma",
          "English/Novel/Vladimir Nabokov",
          "English/Self-help/Wayne Dyer",
          "English/Fiction/William Bradford Huie",
          "English/Novel/William P. Young",
          "English/Horror/William Peter Blatty",
          "English/Memoir/Xaviera Hollander",
          "English/Adventure",
          "Japanese/Autobiographical novel",
          "Hindi/Autobiography",
          "English/Bildungsroman, Historical fiction",
          "English/Biographical novel",
          "English/Children's Literature",
          "German/Children's Literature",
          "English/Children's Literature, picture book",
          "Russian/Children's Literature, picture book",
          "English/Children's fantasy novel",
          "English/Children's fiction",
          "German/Children's fiction",
          "English/Children's literature",
          "English/Children's literature, picture book, fiction",
          "English/Children's novel",
          "English/Children's picture book",
          "English/Christian literature",
          "English/Classic regency novel, romance",
          "English/Coming-of-age",
          "English/Coming-of-age Murder mystery",
          "English/Crime novel",
          "English/Crime thriller novel",
          "Hindi/Detective",
          "English/Dystopian fiction",
          "English/Dystopian, political fiction, social science fiction",
          "English/Erotica",
          "English/Essay/Literature",
          "Chinese/Family saga",
          "English/Fantasy",
          "Portuguese/Fantasy",
          "English/Fantasy, Children's fiction",
          "Italian/Fantasy, Children's fiction",
          "English/Feminist novel",
          "English/Fiction",
          "Swedish/Fiction",
          "English/Gothic horror, Family saga",
          "English/Gothic novel",
          "English/Historical fiction",
          "English/Historical fiction, war novel",
          "Dutch/Historical non-fiction, Autobiography, Memoir, Bildungsroman / Coming of Age, Jewish literature",
          "Russian/Historical novel",
          "Italian/Historical novel, mystery",
          "English/Horror",
          "Japanese/Japanese novel",
          "Spanish/Magic realism",
          "English/Manual",
          "English/Memoir",
          "English/Mystery",
          "English/Mystery thriller",
          "English/Mystery-thriller",
          "English/New-age spiritual novel",
          "English/Novel",
          "French/Novel",
          "Russian/Novel",
          "English/Novel, tragedy",
          "French/Novella",
          "English/Novella, Self-help",
          "Norwegian/Philosophical novel, Young adult",
          "English/Picaresque novel, Bildungsroman, satire, Robinsonade",
          "English/Popular science",
          "English/Popular science, Anthropology, Astrophysics, Cosmology, Philosophy, History",
          "English/Pregnancy guide",
          "English/Romance",
          "English/Romance novel",
          "English/Romantic family saga",
          "English/Romantic novel",
          "English/Satirical allegorical novella, Political satire, Dystopian Fiction, Roman à clef",
          "English/Science fiction",
          "English/Science fiction novel",
          "Russian/Science fiction novel",
          "English/Self-help",
          "English/Self-help, motivational, business fable, psychology, leadership, parable",
          "Chinese/Semi-autobiographical novel",
          "English/Sexology",
          "English/Social Science, Anthropology, Psychology",
          "Russian/Socialist realist novel",
          "English/Southern Gothic, Bildungsroman",
          "English/Thriller",
          "Norwegian/Travel literature",
          "Czech/Unfinished satirical dark comedy novel",
          "German/War novel",
          "English/War, thriller",
          "English/Young Adult Fiction",
          "English/Young Adult novel, adventure, dystopian, science fiction",
          "English/Young Adult novel, adventure, war, science fiction, action thriller",
          "English/Young adult fiction",
          "Russian/Young adult historical novel",
          "English/Young adult novel",
          "English/Young adult romantic novel",
          "Chinese",
          "Czech",
          "Dutch",
          "English",
          "French",
          "German",
          "Hindi",
          "Italian",
          "Japanese",
          "Norwegian",
          "Portuguese",
          "Russian",
          "Spanish",
          "Swedish"
         ],
         "labels": [
          "Agatha Christie",
          "Alexander Alexandrovich Fadeyev",
          "Anna Sewell",
          "Anne Frank",
          "Anthony Doerr",
          "Antoine de Saint-Exupéry",
          "Arlene Eisenberg and Heidi Murkoff",
          "Banana Yoshimoto",
          "Beatrix Potter",
          "Benjamin Spock",
          "Bill Wilson",
          "C. S. Lewis",
          "Cao Xueqin",
          "Carl Sagan",
          "Carlo Collodi",
          "Charles Dickens",
          "Chinua Achebe",
          "Colleen McCullough",
          "Dale Carnegie",
          "Dan Brown",
          "Dan Brown",
          "Dan Brown",
          "Daphne du Maurier",
          "Delia Owens",
          "Desmond Morris",
          "Douglas Adams",
          "E. B. White; illustrated by Garth Williams",
          "E. L. James",
          "Elbert Hubbard",
          "Eric Carle",
          "Erica Jong",
          "Erich Maria Remarque",
          "Erich Segal",
          "F. Scott Fitzgerald",
          "Frank Herbert",
          "Gabriel García Márquez",
          "George Orwell",
          "George Orwell",
          "Gillian Flynn",
          "H. Rider Haggard",
          "Harper Lee",
          "Irving Stone",
          "Ivan Yefremov",
          "J. D. Salinger",
          "J. K. Rowling",
          "J. P. Donleavy",
          "J. R. R. Tolkien",
          "Jack Higgins",
          "Jacqueline Susann",
          "Jacques-Henri Bernardin de Saint-Pierre",
          "James Redfield",
          "Jane Austen",
          "Jaroslav Hašek",
          "Jeffrey Archer",
          "Jiang Rong",
          "Johanna Spyri",
          "John Green",
          "Jostein Gaarder",
          "Ken Follett",
          "Kenneth Grahame",
          "Khaled Hosseini",
          "Leo Tolstoy",
          "Lew Wallace",
          "Lois Lowry",
          "Louise Hay",
          "Lucy Maud Montgomery",
          "Margaret Mitchell",
          "Margaret Wise Brown",
          "Marilyn French",
          "Mario Puzo",
          "Mark Twain",
          "Markus Zusak",
          "Maurice Sendak",
          "Michael Ende",
          "Mikhail Sholokhov",
          "Nikolai Ostrovsky",
          "Norman Vincent Peale",
          "Paramahansa Yogananda",
          "Paula Hawkins",
          "Paulo Coelho",
          "Peter Benchley",
          "Rhonda Byrne",
          "Richard Adams",
          "Richard Bach",
          "Rick Warren",
          "Roald Dahl",
          "Roald Dahl",
          "Roald Dahl",
          "Robert James Waller",
          "Robert Munsch",
          "Sergey Mikhalkov",
          "Shere Hite",
          "Spencer Johnson",
          "Stephen Hawking",
          "Stephen R. Covey",
          "Stieg Larsson",
          "Sue Townsend",
          "Suzanne Collins",
          "Suzanne Collins",
          "Suzanne Collins",
          "Tetsuko Kuroyanagi",
          "Thor Heyerdahl",
          "Umberto Eco",
          "V. C. Andrews",
          "Ved Prakash Sharma",
          "Vladimir Nabokov",
          "Wayne Dyer",
          "William Bradford Huie",
          "William P. Young",
          "William Peter Blatty",
          "Xaviera Hollander",
          "Adventure",
          "Autobiographical novel",
          "Autobiography",
          "Bildungsroman, Historical fiction",
          "Biographical novel",
          "Children's Literature",
          "Children's Literature",
          "Children's Literature, picture book",
          "Children's Literature, picture book",
          "Children's fantasy novel",
          "Children's fiction",
          "Children's fiction",
          "Children's literature",
          "Children's literature, picture book, fiction",
          "Children's novel",
          "Children's picture book",
          "Christian literature",
          "Classic regency novel, romance",
          "Coming-of-age",
          "Coming-of-age Murder mystery",
          "Crime novel",
          "Crime thriller novel",
          "Detective",
          "Dystopian fiction",
          "Dystopian, political fiction, social science fiction",
          "Erotica",
          "Essay/Literature",
          "Family saga",
          "Fantasy",
          "Fantasy",
          "Fantasy, Children's fiction",
          "Fantasy, Children's fiction",
          "Feminist novel",
          "Fiction",
          "Fiction",
          "Gothic horror, Family saga",
          "Gothic novel",
          "Historical fiction",
          "Historical fiction, war novel",
          "Historical non-fiction, Autobiography, Memoir, Bildungsroman / Coming of Age, Jewish literature",
          "Historical novel",
          "Historical novel, mystery",
          "Horror",
          "Japanese novel",
          "Magic realism",
          "Manual",
          "Memoir",
          "Mystery",
          "Mystery thriller",
          "Mystery-thriller",
          "New-age spiritual novel",
          "Novel",
          "Novel",
          "Novel",
          "Novel, tragedy",
          "Novella",
          "Novella, Self-help",
          "Philosophical novel, Young adult",
          "Picaresque novel, Bildungsroman, satire, Robinsonade",
          "Popular science",
          "Popular science, Anthropology, Astrophysics, Cosmology, Philosophy, History",
          "Pregnancy guide",
          "Romance",
          "Romance novel",
          "Romantic family saga",
          "Romantic novel",
          "Satirical allegorical novella, Political satire, Dystopian Fiction, Roman à clef",
          "Science fiction",
          "Science fiction novel",
          "Science fiction novel",
          "Self-help",
          "Self-help, motivational, business fable, psychology, leadership, parable",
          "Semi-autobiographical novel",
          "Sexology",
          "Social Science, Anthropology, Psychology",
          "Socialist realist novel",
          "Southern Gothic, Bildungsroman",
          "Thriller",
          "Travel literature",
          "Unfinished satirical dark comedy novel",
          "War novel",
          "War, thriller",
          "Young Adult Fiction",
          "Young Adult novel, adventure, dystopian, science fiction",
          "Young Adult novel, adventure, war, science fiction, action thriller",
          "Young adult fiction",
          "Young adult historical novel",
          "Young adult novel",
          "Young adult romantic novel",
          "Chinese",
          "Czech",
          "Dutch",
          "English",
          "French",
          "German",
          "Hindi",
          "Italian",
          "Japanese",
          "Norwegian",
          "Portuguese",
          "Russian",
          "Spanish",
          "Swedish"
         ],
         "marker": {
          "coloraxis": "coloraxis",
          "colors": [
           100,
           26,
           50,
           35,
           15.3,
           200,
           20,
           20,
           45,
           50,
           30,
           85,
           100,
           40,
           35,
           200,
           20,
           33,
           30,
           30,
           80,
           39,
           30,
           18,
           20,
           14,
           50,
           13.249999999999998,
           40,
           43,
           20,
           20,
           21,
           30,
           20,
           50,
           30,
           20,
           20,
           83,
           40,
           25,
           20,
           65,
           79.41379310344827,
           50,
           100,
           50,
           31,
           25,
           23,
           20,
           20,
           37,
           20,
           50,
           23,
           40,
           15,
           25,
           31.5,
           36,
           50,
           12,
           50,
           50,
           30,
           16,
           20,
           21,
           20,
           16,
           20,
           16,
           24,
           36.4,
           20,
           20,
           23,
           65,
           20,
           20,
           50,
           44,
           33,
           17,
           20,
           28,
           60,
           20,
           21,
           50,
           29,
           25,
           25,
           30,
           20,
           21,
           20,
           29,
           18,
           20,
           50,
           40,
           80,
           50,
           35,
           30,
           22.5,
           11,
           20,
           83,
           18,
           20,
           31.5,
           25,
           32.94871794871795,
           16,
           43,
           21,
           20,
           50,
           50,
           41.666666666666664,
           20,
           42.1025641025641,
           20,
           33,
           20,
           65,
           18,
           21,
           20,
           80,
           12,
           30,
           13.249999999999998,
           40,
           100,
           80.28869047619048,
           65,
           85,
           35,
           20,
           30,
           30,
           40,
           30,
           147.88135593220338,
           15.3,
           35,
           36,
           50,
           11,
           20,
           50,
           50,
           20,
           100,
           80,
           39,
           23,
           39.1270783847981,
           25,
           24,
           30,
           200,
           44,
           40,
           20,
           25,
           40,
           20,
           60,
           21,
           33,
           20,
           20,
           14,
           20,
           20,
           33.095238095238095,
           29,
           20,
           50,
           20,
           36.4,
           40,
           21.6046511627907,
           20,
           20,
           20,
           50,
           16,
           21,
           20,
           29,
           26,
           20,
           23,
           86.66666666666667,
           20,
           35,
           58.14172266864938,
           180.55555555555554,
           36.69767441860465,
           68,
           43.8235294117647,
           19.05263157894737,
           33.333333333333336,
           65,
           28.84920440636475,
           50,
           30
          ]
         },
         "name": "",
         "parents": [
          "English/Mystery",
          "Russian/Young adult historical novel",
          "English/Children's literature",
          "Dutch/Historical non-fiction, Autobiography, Memoir, Bildungsroman / Coming of Age, Jewish literature",
          "English/Historical fiction, war novel",
          "French/Novella",
          "English/Pregnancy guide",
          "Japanese/Japanese novel",
          "English/Children's Literature",
          "English/Manual",
          "English/Self-help",
          "English/Fantasy, Children's fiction",
          "Chinese/Family saga",
          "English/Popular science, Anthropology, Astrophysics, Cosmology, Philosophy, History",
          "Italian/Fantasy, Children's fiction",
          "English/Historical fiction",
          "English/Novel",
          "English/Romantic family saga",
          "English/Self-help",
          "English/Fiction",
          "English/Mystery thriller",
          "English/Mystery-thriller",
          "English/Gothic novel",
          "English/Coming-of-age Murder mystery",
          "English/Social Science, Anthropology, Psychology",
          "English/Science fiction",
          "English/Children's fiction",
          "English/Erotica",
          "English/Essay/Literature",
          "English/Children's Literature, picture book",
          "English/Romantic novel",
          "German/War novel",
          "English/Romance novel",
          "English/Novel, tragedy",
          "English/Science fiction novel",
          "Spanish/Magic realism",
          "English/Dystopian, political fiction, social science fiction",
          "English/Satirical allegorical novella, Political satire, Dystopian Fiction, Roman à clef",
          "English/Crime thriller novel",
          "English/Adventure",
          "English/Southern Gothic, Bildungsroman",
          "English/Biographical novel",
          "Russian/Science fiction novel",
          "English/Coming-of-age",
          "English/Fantasy",
          "English/Novel",
          "English/Fantasy",
          "English/War, thriller",
          "English/Novel",
          "French/Novel",
          "English/New-age spiritual novel",
          "English/Classic regency novel, romance",
          "Czech/Unfinished satirical dark comedy novel",
          "English/Novel",
          "Chinese/Semi-autobiographical novel",
          "German/Children's fiction",
          "English/Young adult romantic novel",
          "Norwegian/Philosophical novel, Young adult",
          "English/Historical fiction",
          "English/Children's literature",
          "English/Bildungsroman, Historical fiction",
          "Russian/Historical novel",
          "English/Historical fiction",
          "English/Dystopian fiction",
          "English/Self-help",
          "English/Children's novel",
          "English/Historical fiction",
          "English/Children's Literature",
          "English/Feminist novel",
          "English/Crime novel",
          "English/Picaresque novel, Bildungsroman, satire, Robinsonade",
          "English/Young Adult Fiction",
          "English/Children's picture book",
          "German/Children's Literature",
          "Russian/Novel",
          "Russian/Socialist realist novel",
          "English/Self-help",
          "Hindi/Autobiography",
          "English/Thriller",
          "Portuguese/Fantasy",
          "English/Thriller",
          "English/Self-help",
          "English/Fantasy",
          "English/Novella, Self-help",
          "English/Christian literature",
          "English/Children's Literature",
          "English/Children's fantasy novel",
          "English/Children's novel",
          "English/Romance",
          "English/Children's literature, picture book, fiction",
          "Russian/Children's Literature, picture book",
          "English/Sexology",
          "English/Self-help, motivational, business fable, psychology, leadership, parable",
          "English/Popular science",
          "English/Self-help",
          "Swedish/Fiction",
          "English/Young adult novel",
          "English/Young Adult novel, adventure, dystopian, science fiction",
          "English/Young Adult novel, adventure, war, science fiction, action thriller",
          "English/Young adult fiction",
          "Japanese/Autobiographical novel",
          "Norwegian/Travel literature",
          "Italian/Historical novel, mystery",
          "English/Gothic horror, Family saga",
          "Hindi/Detective",
          "English/Novel",
          "English/Self-help",
          "English/Fiction",
          "English/Novel",
          "English/Horror",
          "English/Memoir",
          "English",
          "Japanese",
          "Hindi",
          "English",
          "English",
          "English",
          "German",
          "English",
          "Russian",
          "English",
          "English",
          "German",
          "English",
          "English",
          "English",
          "English",
          "English",
          "English",
          "English",
          "English",
          "English",
          "English",
          "Hindi",
          "English",
          "English",
          "English",
          "English",
          "Chinese",
          "English",
          "Portuguese",
          "English",
          "Italian",
          "English",
          "English",
          "Swedish",
          "English",
          "English",
          "English",
          "English",
          "Dutch",
          "Russian",
          "Italian",
          "English",
          "Japanese",
          "Spanish",
          "English",
          "English",
          "English",
          "English",
          "English",
          "English",
          "English",
          "French",
          "Russian",
          "English",
          "French",
          "English",
          "Norwegian",
          "English",
          "English",
          "English",
          "English",
          "English",
          "English",
          "English",
          "English",
          "English",
          "English",
          "English",
          "Russian",
          "English",
          "English",
          "Chinese",
          "English",
          "English",
          "Russian",
          "English",
          "English",
          "Norwegian",
          "Czech",
          "German",
          "English",
          "English",
          "English",
          "English",
          "English",
          "Russian",
          "English",
          "English",
          "",
          "",
          "",
          "",
          "",
          "",
          "",
          "",
          "",
          "",
          "",
          "",
          "",
          ""
         ],
         "type": "sunburst",
         "values": [
          100,
          26,
          50,
          35,
          15.3,
          200,
          20,
          20,
          45,
          50,
          30,
          85,
          100,
          40,
          35,
          200,
          20,
          33,
          30,
          30,
          80,
          39,
          30,
          18,
          20,
          14,
          50,
          25.6,
          40,
          43,
          20,
          20,
          21,
          30,
          20,
          50,
          30,
          20,
          20,
          83,
          40,
          25,
          20,
          65,
          522,
          50,
          100,
          50,
          31,
          25,
          23,
          20,
          20,
          37,
          20,
          50,
          23,
          40,
          15,
          25,
          31.5,
          36,
          50,
          12,
          50,
          50,
          30,
          16,
          20,
          21,
          20,
          16,
          20,
          16,
          24,
          36.4,
          20,
          20,
          23,
          65,
          20,
          20,
          50,
          44,
          33,
          17,
          20,
          28,
          60,
          20,
          21,
          50,
          29,
          25,
          25,
          30,
          20,
          21,
          20,
          29,
          18,
          20,
          50,
          40,
          80,
          50,
          35,
          30,
          22.5,
          11,
          20,
          83,
          18,
          20,
          31.5,
          25,
          78,
          16,
          43,
          21,
          20,
          50,
          50,
          75,
          20,
          78,
          20,
          33,
          20,
          65,
          18,
          21,
          20,
          80,
          12,
          30,
          25.6,
          40,
          100,
          672,
          65,
          85,
          35,
          20,
          60,
          30,
          40,
          30,
          295,
          15.3,
          35,
          36,
          50,
          11,
          20,
          50,
          50,
          20,
          100,
          80,
          39,
          23,
          210.5,
          25,
          24,
          30,
          200,
          44,
          40,
          20,
          25,
          40,
          20,
          60,
          21,
          33,
          20,
          20,
          14,
          20,
          20,
          210,
          29,
          20,
          50,
          20,
          36.4,
          40,
          43,
          20,
          20,
          20,
          50,
          16,
          21,
          20,
          29,
          26,
          20,
          23,
          120,
          20,
          35,
          3496.9,
          225,
          86,
          100,
          85,
          38,
          60,
          65,
          163.4,
          50,
          30
         ]
        }
       ],
       "layout": {
        "coloraxis": {
         "colorbar": {
          "title": {
           "text": "Approximate sales in millions"
          }
         },
         "colorscale": [
          [
           0,
           "#0d0887"
          ],
          [
           0.1111111111111111,
           "#46039f"
          ],
          [
           0.2222222222222222,
           "#7201a8"
          ],
          [
           0.3333333333333333,
           "#9c179e"
          ],
          [
           0.4444444444444444,
           "#bd3786"
          ],
          [
           0.5555555555555556,
           "#d8576b"
          ],
          [
           0.6666666666666666,
           "#ed7953"
          ],
          [
           0.7777777777777778,
           "#fb9f3a"
          ],
          [
           0.8888888888888888,
           "#fdca26"
          ],
          [
           1,
           "#f0f921"
          ]
         ]
        },
        "height": 600,
        "legend": {
         "tracegroupgap": 0
        },
        "template": {
         "data": {
          "bar": [
           {
            "error_x": {
             "color": "#2a3f5f"
            },
            "error_y": {
             "color": "#2a3f5f"
            },
            "marker": {
             "line": {
              "color": "#E5ECF6",
              "width": 0.5
             },
             "pattern": {
              "fillmode": "overlay",
              "size": 10,
              "solidity": 0.2
             }
            },
            "type": "bar"
           }
          ],
          "barpolar": [
           {
            "marker": {
             "line": {
              "color": "#E5ECF6",
              "width": 0.5
             },
             "pattern": {
              "fillmode": "overlay",
              "size": 10,
              "solidity": 0.2
             }
            },
            "type": "barpolar"
           }
          ],
          "carpet": [
           {
            "aaxis": {
             "endlinecolor": "#2a3f5f",
             "gridcolor": "white",
             "linecolor": "white",
             "minorgridcolor": "white",
             "startlinecolor": "#2a3f5f"
            },
            "baxis": {
             "endlinecolor": "#2a3f5f",
             "gridcolor": "white",
             "linecolor": "white",
             "minorgridcolor": "white",
             "startlinecolor": "#2a3f5f"
            },
            "type": "carpet"
           }
          ],
          "choropleth": [
           {
            "colorbar": {
             "outlinewidth": 0,
             "ticks": ""
            },
            "type": "choropleth"
           }
          ],
          "contour": [
           {
            "colorbar": {
             "outlinewidth": 0,
             "ticks": ""
            },
            "colorscale": [
             [
              0,
              "#0d0887"
             ],
             [
              0.1111111111111111,
              "#46039f"
             ],
             [
              0.2222222222222222,
              "#7201a8"
             ],
             [
              0.3333333333333333,
              "#9c179e"
             ],
             [
              0.4444444444444444,
              "#bd3786"
             ],
             [
              0.5555555555555556,
              "#d8576b"
             ],
             [
              0.6666666666666666,
              "#ed7953"
             ],
             [
              0.7777777777777778,
              "#fb9f3a"
             ],
             [
              0.8888888888888888,
              "#fdca26"
             ],
             [
              1,
              "#f0f921"
             ]
            ],
            "type": "contour"
           }
          ],
          "contourcarpet": [
           {
            "colorbar": {
             "outlinewidth": 0,
             "ticks": ""
            },
            "type": "contourcarpet"
           }
          ],
          "heatmap": [
           {
            "colorbar": {
             "outlinewidth": 0,
             "ticks": ""
            },
            "colorscale": [
             [
              0,
              "#0d0887"
             ],
             [
              0.1111111111111111,
              "#46039f"
             ],
             [
              0.2222222222222222,
              "#7201a8"
             ],
             [
              0.3333333333333333,
              "#9c179e"
             ],
             [
              0.4444444444444444,
              "#bd3786"
             ],
             [
              0.5555555555555556,
              "#d8576b"
             ],
             [
              0.6666666666666666,
              "#ed7953"
             ],
             [
              0.7777777777777778,
              "#fb9f3a"
             ],
             [
              0.8888888888888888,
              "#fdca26"
             ],
             [
              1,
              "#f0f921"
             ]
            ],
            "type": "heatmap"
           }
          ],
          "heatmapgl": [
           {
            "colorbar": {
             "outlinewidth": 0,
             "ticks": ""
            },
            "colorscale": [
             [
              0,
              "#0d0887"
             ],
             [
              0.1111111111111111,
              "#46039f"
             ],
             [
              0.2222222222222222,
              "#7201a8"
             ],
             [
              0.3333333333333333,
              "#9c179e"
             ],
             [
              0.4444444444444444,
              "#bd3786"
             ],
             [
              0.5555555555555556,
              "#d8576b"
             ],
             [
              0.6666666666666666,
              "#ed7953"
             ],
             [
              0.7777777777777778,
              "#fb9f3a"
             ],
             [
              0.8888888888888888,
              "#fdca26"
             ],
             [
              1,
              "#f0f921"
             ]
            ],
            "type": "heatmapgl"
           }
          ],
          "histogram": [
           {
            "marker": {
             "pattern": {
              "fillmode": "overlay",
              "size": 10,
              "solidity": 0.2
             }
            },
            "type": "histogram"
           }
          ],
          "histogram2d": [
           {
            "colorbar": {
             "outlinewidth": 0,
             "ticks": ""
            },
            "colorscale": [
             [
              0,
              "#0d0887"
             ],
             [
              0.1111111111111111,
              "#46039f"
             ],
             [
              0.2222222222222222,
              "#7201a8"
             ],
             [
              0.3333333333333333,
              "#9c179e"
             ],
             [
              0.4444444444444444,
              "#bd3786"
             ],
             [
              0.5555555555555556,
              "#d8576b"
             ],
             [
              0.6666666666666666,
              "#ed7953"
             ],
             [
              0.7777777777777778,
              "#fb9f3a"
             ],
             [
              0.8888888888888888,
              "#fdca26"
             ],
             [
              1,
              "#f0f921"
             ]
            ],
            "type": "histogram2d"
           }
          ],
          "histogram2dcontour": [
           {
            "colorbar": {
             "outlinewidth": 0,
             "ticks": ""
            },
            "colorscale": [
             [
              0,
              "#0d0887"
             ],
             [
              0.1111111111111111,
              "#46039f"
             ],
             [
              0.2222222222222222,
              "#7201a8"
             ],
             [
              0.3333333333333333,
              "#9c179e"
             ],
             [
              0.4444444444444444,
              "#bd3786"
             ],
             [
              0.5555555555555556,
              "#d8576b"
             ],
             [
              0.6666666666666666,
              "#ed7953"
             ],
             [
              0.7777777777777778,
              "#fb9f3a"
             ],
             [
              0.8888888888888888,
              "#fdca26"
             ],
             [
              1,
              "#f0f921"
             ]
            ],
            "type": "histogram2dcontour"
           }
          ],
          "mesh3d": [
           {
            "colorbar": {
             "outlinewidth": 0,
             "ticks": ""
            },
            "type": "mesh3d"
           }
          ],
          "parcoords": [
           {
            "line": {
             "colorbar": {
              "outlinewidth": 0,
              "ticks": ""
             }
            },
            "type": "parcoords"
           }
          ],
          "pie": [
           {
            "automargin": true,
            "type": "pie"
           }
          ],
          "scatter": [
           {
            "fillpattern": {
             "fillmode": "overlay",
             "size": 10,
             "solidity": 0.2
            },
            "type": "scatter"
           }
          ],
          "scatter3d": [
           {
            "line": {
             "colorbar": {
              "outlinewidth": 0,
              "ticks": ""
             }
            },
            "marker": {
             "colorbar": {
              "outlinewidth": 0,
              "ticks": ""
             }
            },
            "type": "scatter3d"
           }
          ],
          "scattercarpet": [
           {
            "marker": {
             "colorbar": {
              "outlinewidth": 0,
              "ticks": ""
             }
            },
            "type": "scattercarpet"
           }
          ],
          "scattergeo": [
           {
            "marker": {
             "colorbar": {
              "outlinewidth": 0,
              "ticks": ""
             }
            },
            "type": "scattergeo"
           }
          ],
          "scattergl": [
           {
            "marker": {
             "colorbar": {
              "outlinewidth": 0,
              "ticks": ""
             }
            },
            "type": "scattergl"
           }
          ],
          "scattermapbox": [
           {
            "marker": {
             "colorbar": {
              "outlinewidth": 0,
              "ticks": ""
             }
            },
            "type": "scattermapbox"
           }
          ],
          "scatterpolar": [
           {
            "marker": {
             "colorbar": {
              "outlinewidth": 0,
              "ticks": ""
             }
            },
            "type": "scatterpolar"
           }
          ],
          "scatterpolargl": [
           {
            "marker": {
             "colorbar": {
              "outlinewidth": 0,
              "ticks": ""
             }
            },
            "type": "scatterpolargl"
           }
          ],
          "scatterternary": [
           {
            "marker": {
             "colorbar": {
              "outlinewidth": 0,
              "ticks": ""
             }
            },
            "type": "scatterternary"
           }
          ],
          "surface": [
           {
            "colorbar": {
             "outlinewidth": 0,
             "ticks": ""
            },
            "colorscale": [
             [
              0,
              "#0d0887"
             ],
             [
              0.1111111111111111,
              "#46039f"
             ],
             [
              0.2222222222222222,
              "#7201a8"
             ],
             [
              0.3333333333333333,
              "#9c179e"
             ],
             [
              0.4444444444444444,
              "#bd3786"
             ],
             [
              0.5555555555555556,
              "#d8576b"
             ],
             [
              0.6666666666666666,
              "#ed7953"
             ],
             [
              0.7777777777777778,
              "#fb9f3a"
             ],
             [
              0.8888888888888888,
              "#fdca26"
             ],
             [
              1,
              "#f0f921"
             ]
            ],
            "type": "surface"
           }
          ],
          "table": [
           {
            "cells": {
             "fill": {
              "color": "#EBF0F8"
             },
             "line": {
              "color": "white"
             }
            },
            "header": {
             "fill": {
              "color": "#C8D4E3"
             },
             "line": {
              "color": "white"
             }
            },
            "type": "table"
           }
          ]
         },
         "layout": {
          "annotationdefaults": {
           "arrowcolor": "#2a3f5f",
           "arrowhead": 0,
           "arrowwidth": 1
          },
          "autotypenumbers": "strict",
          "coloraxis": {
           "colorbar": {
            "outlinewidth": 0,
            "ticks": ""
           }
          },
          "colorscale": {
           "diverging": [
            [
             0,
             "#8e0152"
            ],
            [
             0.1,
             "#c51b7d"
            ],
            [
             0.2,
             "#de77ae"
            ],
            [
             0.3,
             "#f1b6da"
            ],
            [
             0.4,
             "#fde0ef"
            ],
            [
             0.5,
             "#f7f7f7"
            ],
            [
             0.6,
             "#e6f5d0"
            ],
            [
             0.7,
             "#b8e186"
            ],
            [
             0.8,
             "#7fbc41"
            ],
            [
             0.9,
             "#4d9221"
            ],
            [
             1,
             "#276419"
            ]
           ],
           "sequential": [
            [
             0,
             "#0d0887"
            ],
            [
             0.1111111111111111,
             "#46039f"
            ],
            [
             0.2222222222222222,
             "#7201a8"
            ],
            [
             0.3333333333333333,
             "#9c179e"
            ],
            [
             0.4444444444444444,
             "#bd3786"
            ],
            [
             0.5555555555555556,
             "#d8576b"
            ],
            [
             0.6666666666666666,
             "#ed7953"
            ],
            [
             0.7777777777777778,
             "#fb9f3a"
            ],
            [
             0.8888888888888888,
             "#fdca26"
            ],
            [
             1,
             "#f0f921"
            ]
           ],
           "sequentialminus": [
            [
             0,
             "#0d0887"
            ],
            [
             0.1111111111111111,
             "#46039f"
            ],
            [
             0.2222222222222222,
             "#7201a8"
            ],
            [
             0.3333333333333333,
             "#9c179e"
            ],
            [
             0.4444444444444444,
             "#bd3786"
            ],
            [
             0.5555555555555556,
             "#d8576b"
            ],
            [
             0.6666666666666666,
             "#ed7953"
            ],
            [
             0.7777777777777778,
             "#fb9f3a"
            ],
            [
             0.8888888888888888,
             "#fdca26"
            ],
            [
             1,
             "#f0f921"
            ]
           ]
          },
          "colorway": [
           "#636efa",
           "#EF553B",
           "#00cc96",
           "#ab63fa",
           "#FFA15A",
           "#19d3f3",
           "#FF6692",
           "#B6E880",
           "#FF97FF",
           "#FECB52"
          ],
          "font": {
           "color": "#2a3f5f"
          },
          "geo": {
           "bgcolor": "white",
           "lakecolor": "white",
           "landcolor": "#E5ECF6",
           "showlakes": true,
           "showland": true,
           "subunitcolor": "white"
          },
          "hoverlabel": {
           "align": "left"
          },
          "hovermode": "closest",
          "mapbox": {
           "style": "light"
          },
          "paper_bgcolor": "white",
          "plot_bgcolor": "#E5ECF6",
          "polar": {
           "angularaxis": {
            "gridcolor": "white",
            "linecolor": "white",
            "ticks": ""
           },
           "bgcolor": "#E5ECF6",
           "radialaxis": {
            "gridcolor": "white",
            "linecolor": "white",
            "ticks": ""
           }
          },
          "scene": {
           "xaxis": {
            "backgroundcolor": "#E5ECF6",
            "gridcolor": "white",
            "gridwidth": 2,
            "linecolor": "white",
            "showbackground": true,
            "ticks": "",
            "zerolinecolor": "white"
           },
           "yaxis": {
            "backgroundcolor": "#E5ECF6",
            "gridcolor": "white",
            "gridwidth": 2,
            "linecolor": "white",
            "showbackground": true,
            "ticks": "",
            "zerolinecolor": "white"
           },
           "zaxis": {
            "backgroundcolor": "#E5ECF6",
            "gridcolor": "white",
            "gridwidth": 2,
            "linecolor": "white",
            "showbackground": true,
            "ticks": "",
            "zerolinecolor": "white"
           }
          },
          "shapedefaults": {
           "line": {
            "color": "#2a3f5f"
           }
          },
          "ternary": {
           "aaxis": {
            "gridcolor": "white",
            "linecolor": "white",
            "ticks": ""
           },
           "baxis": {
            "gridcolor": "white",
            "linecolor": "white",
            "ticks": ""
           },
           "bgcolor": "#E5ECF6",
           "caxis": {
            "gridcolor": "white",
            "linecolor": "white",
            "ticks": ""
           }
          },
          "title": {
           "x": 0.05
          },
          "xaxis": {
           "automargin": true,
           "gridcolor": "white",
           "linecolor": "white",
           "ticks": "",
           "title": {
            "standoff": 15
           },
           "zerolinecolor": "white",
           "zerolinewidth": 2
          },
          "yaxis": {
           "automargin": true,
           "gridcolor": "white",
           "linecolor": "white",
           "ticks": "",
           "title": {
            "standoff": 15
           },
           "zerolinecolor": "white",
           "zerolinewidth": 2
          }
         }
        },
        "title": {
         "pad": {
          "l": 330
         },
         "text": "Approximate sales of Books in millions"
        },
        "width": 800
       }
      },
      "text/html": [
       "<div>                            <div id=\"554bbaee-ebe5-4a88-8339-f8a9713fb07e\" class=\"plotly-graph-div\" style=\"height:600px; width:800px;\"></div>            <script type=\"text/javascript\">                require([\"plotly\"], function(Plotly) {                    window.PLOTLYENV=window.PLOTLYENV || {};                                    if (document.getElementById(\"554bbaee-ebe5-4a88-8339-f8a9713fb07e\")) {                    Plotly.newPlot(                        \"554bbaee-ebe5-4a88-8339-f8a9713fb07e\",                        [{\"branchvalues\":\"total\",\"customdata\":[[100.0],[26.0],[50.0],[35.0],[15.3],[200.0],[20.0],[20.0],[45.0],[50.0],[30.0],[85.0],[100.0],[40.0],[35.0],[200.0],[20.0],[33.0],[30.0],[30.0],[80.0],[39.0],[30.0],[18.0],[20.0],[14.0],[50.0],[13.249999999999998],[40.0],[43.0],[20.0],[20.0],[21.0],[30.0],[20.0],[50.0],[30.0],[20.0],[20.0],[83.0],[40.0],[25.0],[20.0],[65.0],[79.41379310344827],[50.0],[100.0],[50.0],[31.0],[25.0],[23.0],[20.0],[20.0],[37.0],[20.0],[50.0],[23.0],[40.0],[15.0],[25.0],[31.5],[36.0],[50.0],[12.0],[50.0],[50.0],[30.0],[16.0],[20.0],[21.0],[20.0],[16.0],[20.0],[16.0],[24.0],[36.4],[20.0],[20.0],[23.0],[65.0],[20.0],[20.0],[50.0],[44.0],[33.0],[17.0],[20.0],[28.0],[60.0],[20.0],[21.0],[50.0],[29.0],[25.0],[25.0],[30.0],[20.0],[21.0],[20.0],[29.0],[18.0],[20.0],[50.0],[40.0],[80.0],[50.0],[35.0],[30.0],[22.5],[11.0],[20.0],[83.0],[18.0],[20.0],[31.5],[25.0],[32.94871794871795],[16.0],[43.0],[21.0],[20.0],[50.0],[50.0],[41.666666666666664],[20.0],[42.1025641025641],[20.0],[33.0],[20.0],[65.0],[18.0],[21.0],[20.0],[80.0],[12.0],[30.0],[13.249999999999998],[40.0],[100.0],[80.28869047619048],[65.0],[85.0],[35.0],[20.0],[30.0],[30.0],[40.0],[30.0],[147.88135593220338],[15.3],[35.0],[36.0],[50.0],[11.0],[20.0],[50.0],[50.0],[20.0],[100.0],[80.0],[39.0],[23.0],[39.1270783847981],[25.0],[24.0],[30.0],[200.0],[44.0],[40.0],[20.0],[25.0],[40.0],[20.0],[60.0],[21.0],[33.0],[20.0],[20.0],[14.0],[20.0],[20.0],[33.095238095238095],[29.0],[20.0],[50.0],[20.0],[36.4],[40.0],[21.6046511627907],[20.0],[20.0],[20.0],[50.0],[16.0],[21.0],[20.0],[29.0],[26.0],[20.0],[23.0],[86.66666666666667],[20.0],[35.0],[58.14172266864938],[180.55555555555554],[36.69767441860465],[68.0],[43.8235294117647],[19.05263157894737],[33.333333333333336],[65.0],[28.84920440636475],[50.0],[30.0]],\"domain\":{\"x\":[0.0,1.0],\"y\":[0.0,1.0]},\"hovertemplate\":\"labels=%{label}<br>Approximate sales in millions_sum=%{value}<br>parent=%{parent}<br>id=%{id}<br>Approximate sales in millions=%{color}<extra></extra>\",\"ids\":[\"English/Mystery/Agatha Christie\",\"Russian/Young adult historical novel/Alexander Alexandrovich Fadeyev\",\"English/Children's literature/Anna Sewell\",\"Dutch/Historical non-fiction, Autobiography, Memoir, Bildungsroman / Coming of Age, Jewish literature/Anne Frank\",\"English/Historical fiction, war novel/Anthony Doerr\",\"French/Novella/Antoine de Saint-Exup\\u00e9ry\",\"English/Pregnancy guide/Arlene Eisenberg and Heidi Murkoff\",\"Japanese/Japanese novel/Banana Yoshimoto\",\"English/Children's Literature/Beatrix Potter\",\"English/Manual/Benjamin Spock\",\"English/Self-help/Bill Wilson\",\"English/Fantasy, Children's fiction/C. S. Lewis\",\"Chinese/Family saga/Cao Xueqin\",\"English/Popular science, Anthropology, Astrophysics, Cosmology, Philosophy, History/Carl Sagan\",\"Italian/Fantasy, Children's fiction/Carlo Collodi\",\"English/Historical fiction/Charles Dickens\",\"English/Novel/Chinua Achebe\",\"English/Romantic family saga/Colleen McCullough\",\"English/Self-help/Dale Carnegie\",\"English/Fiction/Dan Brown\",\"English/Mystery thriller/Dan Brown\",\"English/Mystery-thriller/Dan Brown\",\"English/Gothic novel/Daphne du Maurier\",\"English/Coming-of-age Murder mystery/Delia Owens\",\"English/Social Science, Anthropology, Psychology/Desmond Morris\",\"English/Science fiction/Douglas Adams\",\"English/Children's fiction/E. B. White; illustrated by Garth Williams\",\"English/Erotica/E. L. James\",\"English/Essay/Literature/Elbert Hubbard\",\"English/Children's Literature, picture book/Eric Carle\",\"English/Romantic novel/Erica Jong\",\"German/War novel/Erich Maria Remarque\",\"English/Romance novel/Erich Segal\",\"English/Novel, tragedy/F. Scott Fitzgerald\",\"English/Science fiction novel/Frank Herbert\",\"Spanish/Magic realism/Gabriel Garc\\u00eda M\\u00e1rquez\",\"English/Dystopian, political fiction, social science fiction/George Orwell\",\"English/Satirical allegorical novella, Political satire, Dystopian Fiction, Roman \\u00e0 clef/George Orwell\",\"English/Crime thriller novel/Gillian Flynn\",\"English/Adventure/H. Rider Haggard\",\"English/Southern Gothic, Bildungsroman/Harper Lee\",\"English/Biographical novel/Irving Stone\",\"Russian/Science fiction novel/Ivan Yefremov\",\"English/Coming-of-age/J. D. Salinger\",\"English/Fantasy/J. K. Rowling\",\"English/Novel/J. P. Donleavy\",\"English/Fantasy/J. R. R. Tolkien\",\"English/War, thriller/Jack Higgins\",\"English/Novel/Jacqueline Susann\",\"French/Novel/Jacques-Henri Bernardin de Saint-Pierre\",\"English/New-age spiritual novel/James Redfield\",\"English/Classic regency novel, romance/Jane Austen\",\"Czech/Unfinished satirical dark comedy novel/Jaroslav Ha\\u0161ek\",\"English/Novel/Jeffrey Archer\",\"Chinese/Semi-autobiographical novel/Jiang Rong\",\"German/Children's fiction/Johanna Spyri\",\"English/Young adult romantic novel/John Green\",\"Norwegian/Philosophical novel, Young adult/Jostein Gaarder\",\"English/Historical fiction/Ken Follett\",\"English/Children's literature/Kenneth Grahame\",\"English/Bildungsroman, Historical fiction/Khaled Hosseini\",\"Russian/Historical novel/Leo Tolstoy\",\"English/Historical fiction/Lew Wallace\",\"English/Dystopian fiction/Lois Lowry\",\"English/Self-help/Louise Hay\",\"English/Children's novel/Lucy Maud Montgomery\",\"English/Historical fiction/Margaret Mitchell\",\"English/Children's Literature/Margaret Wise Brown\",\"English/Feminist novel/Marilyn French\",\"English/Crime novel/Mario Puzo\",\"English/Picaresque novel, Bildungsroman, satire, Robinsonade/Mark Twain\",\"English/Young Adult Fiction/Markus Zusak\",\"English/Children's picture book/Maurice Sendak\",\"German/Children's Literature/Michael Ende\",\"Russian/Novel/Mikhail Sholokhov\",\"Russian/Socialist realist novel/Nikolai Ostrovsky\",\"English/Self-help/Norman Vincent Peale\",\"Hindi/Autobiography/Paramahansa Yogananda\",\"English/Thriller/Paula Hawkins\",\"Portuguese/Fantasy/Paulo Coelho\",\"English/Thriller/Peter Benchley\",\"English/Self-help/Rhonda Byrne\",\"English/Fantasy/Richard Adams\",\"English/Novella, Self-help/Richard Bach\",\"English/Christian literature/Rick Warren\",\"English/Children's Literature/Roald Dahl\",\"English/Children's fantasy novel/Roald Dahl\",\"English/Children's novel/Roald Dahl\",\"English/Romance/Robert James Waller\",\"English/Children's literature, picture book, fiction/Robert Munsch\",\"Russian/Children's Literature, picture book/Sergey Mikhalkov\",\"English/Sexology/Shere Hite\",\"English/Self-help, motivational, business fable, psychology, leadership, parable/Spencer Johnson\",\"English/Popular science/Stephen Hawking\",\"English/Self-help/Stephen R. Covey\",\"Swedish/Fiction/Stieg Larsson\",\"English/Young adult novel/Sue Townsend\",\"English/Young Adult novel, adventure, dystopian, science fiction/Suzanne Collins\",\"English/Young Adult novel, adventure, war, science fiction, action thriller/Suzanne Collins\",\"English/Young adult fiction/Suzanne Collins\",\"Japanese/Autobiographical novel/Tetsuko Kuroyanagi\",\"Norwegian/Travel literature/Thor Heyerdahl\",\"Italian/Historical novel, mystery/Umberto Eco\",\"English/Gothic horror, Family saga/V. C. Andrews\",\"Hindi/Detective/Ved Prakash Sharma\",\"English/Novel/Vladimir Nabokov\",\"English/Self-help/Wayne Dyer\",\"English/Fiction/William Bradford Huie\",\"English/Novel/William P. Young\",\"English/Horror/William Peter Blatty\",\"English/Memoir/Xaviera Hollander\",\"English/Adventure\",\"Japanese/Autobiographical novel\",\"Hindi/Autobiography\",\"English/Bildungsroman, Historical fiction\",\"English/Biographical novel\",\"English/Children's Literature\",\"German/Children's Literature\",\"English/Children's Literature, picture book\",\"Russian/Children's Literature, picture book\",\"English/Children's fantasy novel\",\"English/Children's fiction\",\"German/Children's fiction\",\"English/Children's literature\",\"English/Children's literature, picture book, fiction\",\"English/Children's novel\",\"English/Children's picture book\",\"English/Christian literature\",\"English/Classic regency novel, romance\",\"English/Coming-of-age\",\"English/Coming-of-age Murder mystery\",\"English/Crime novel\",\"English/Crime thriller novel\",\"Hindi/Detective\",\"English/Dystopian fiction\",\"English/Dystopian, political fiction, social science fiction\",\"English/Erotica\",\"English/Essay/Literature\",\"Chinese/Family saga\",\"English/Fantasy\",\"Portuguese/Fantasy\",\"English/Fantasy, Children's fiction\",\"Italian/Fantasy, Children's fiction\",\"English/Feminist novel\",\"English/Fiction\",\"Swedish/Fiction\",\"English/Gothic horror, Family saga\",\"English/Gothic novel\",\"English/Historical fiction\",\"English/Historical fiction, war novel\",\"Dutch/Historical non-fiction, Autobiography, Memoir, Bildungsroman / Coming of Age, Jewish literature\",\"Russian/Historical novel\",\"Italian/Historical novel, mystery\",\"English/Horror\",\"Japanese/Japanese novel\",\"Spanish/Magic realism\",\"English/Manual\",\"English/Memoir\",\"English/Mystery\",\"English/Mystery thriller\",\"English/Mystery-thriller\",\"English/New-age spiritual novel\",\"English/Novel\",\"French/Novel\",\"Russian/Novel\",\"English/Novel, tragedy\",\"French/Novella\",\"English/Novella, Self-help\",\"Norwegian/Philosophical novel, Young adult\",\"English/Picaresque novel, Bildungsroman, satire, Robinsonade\",\"English/Popular science\",\"English/Popular science, Anthropology, Astrophysics, Cosmology, Philosophy, History\",\"English/Pregnancy guide\",\"English/Romance\",\"English/Romance novel\",\"English/Romantic family saga\",\"English/Romantic novel\",\"English/Satirical allegorical novella, Political satire, Dystopian Fiction, Roman \\u00e0 clef\",\"English/Science fiction\",\"English/Science fiction novel\",\"Russian/Science fiction novel\",\"English/Self-help\",\"English/Self-help, motivational, business fable, psychology, leadership, parable\",\"Chinese/Semi-autobiographical novel\",\"English/Sexology\",\"English/Social Science, Anthropology, Psychology\",\"Russian/Socialist realist novel\",\"English/Southern Gothic, Bildungsroman\",\"English/Thriller\",\"Norwegian/Travel literature\",\"Czech/Unfinished satirical dark comedy novel\",\"German/War novel\",\"English/War, thriller\",\"English/Young Adult Fiction\",\"English/Young Adult novel, adventure, dystopian, science fiction\",\"English/Young Adult novel, adventure, war, science fiction, action thriller\",\"English/Young adult fiction\",\"Russian/Young adult historical novel\",\"English/Young adult novel\",\"English/Young adult romantic novel\",\"Chinese\",\"Czech\",\"Dutch\",\"English\",\"French\",\"German\",\"Hindi\",\"Italian\",\"Japanese\",\"Norwegian\",\"Portuguese\",\"Russian\",\"Spanish\",\"Swedish\"],\"labels\":[\"Agatha Christie\",\"Alexander Alexandrovich Fadeyev\",\"Anna Sewell\",\"Anne Frank\",\"Anthony Doerr\",\"Antoine de Saint-Exup\\u00e9ry\",\"Arlene Eisenberg and Heidi Murkoff\",\"Banana Yoshimoto\",\"Beatrix Potter\",\"Benjamin Spock\",\"Bill Wilson\",\"C. S. Lewis\",\"Cao Xueqin\",\"Carl Sagan\",\"Carlo Collodi\",\"Charles Dickens\",\"Chinua Achebe\",\"Colleen McCullough\",\"Dale Carnegie\",\"Dan Brown\",\"Dan Brown\",\"Dan Brown\",\"Daphne du Maurier\",\"Delia Owens\",\"Desmond Morris\",\"Douglas Adams\",\"E. B. White; illustrated by Garth Williams\",\"E. L. James\",\"Elbert Hubbard\",\"Eric Carle\",\"Erica Jong\",\"Erich Maria Remarque\",\"Erich Segal\",\"F. Scott Fitzgerald\",\"Frank Herbert\",\"Gabriel Garc\\u00eda M\\u00e1rquez\",\"George Orwell\",\"George Orwell\",\"Gillian Flynn\",\"H. Rider Haggard\",\"Harper Lee\",\"Irving Stone\",\"Ivan Yefremov\",\"J. D. Salinger\",\"J. K. Rowling\",\"J. P. Donleavy\",\"J. R. R. Tolkien\",\"Jack Higgins\",\"Jacqueline Susann\",\"Jacques-Henri Bernardin de Saint-Pierre\",\"James Redfield\",\"Jane Austen\",\"Jaroslav Ha\\u0161ek\",\"Jeffrey Archer\",\"Jiang Rong\",\"Johanna Spyri\",\"John Green\",\"Jostein Gaarder\",\"Ken Follett\",\"Kenneth Grahame\",\"Khaled Hosseini\",\"Leo Tolstoy\",\"Lew Wallace\",\"Lois Lowry\",\"Louise Hay\",\"Lucy Maud Montgomery\",\"Margaret Mitchell\",\"Margaret Wise Brown\",\"Marilyn French\",\"Mario Puzo\",\"Mark Twain\",\"Markus Zusak\",\"Maurice Sendak\",\"Michael Ende\",\"Mikhail Sholokhov\",\"Nikolai Ostrovsky\",\"Norman Vincent Peale\",\"Paramahansa Yogananda\",\"Paula Hawkins\",\"Paulo Coelho\",\"Peter Benchley\",\"Rhonda Byrne\",\"Richard Adams\",\"Richard Bach\",\"Rick Warren\",\"Roald Dahl\",\"Roald Dahl\",\"Roald Dahl\",\"Robert James Waller\",\"Robert Munsch\",\"Sergey Mikhalkov\",\"Shere Hite\",\"Spencer Johnson\",\"Stephen Hawking\",\"Stephen R. Covey\",\"Stieg Larsson\",\"Sue Townsend\",\"Suzanne Collins\",\"Suzanne Collins\",\"Suzanne Collins\",\"Tetsuko Kuroyanagi\",\"Thor Heyerdahl\",\"Umberto Eco\",\"V. C. Andrews\",\"Ved Prakash Sharma\",\"Vladimir Nabokov\",\"Wayne Dyer\",\"William Bradford Huie\",\"William P. Young\",\"William Peter Blatty\",\"Xaviera Hollander\",\"Adventure\",\"Autobiographical novel\",\"Autobiography\",\"Bildungsroman, Historical fiction\",\"Biographical novel\",\"Children's Literature\",\"Children's Literature\",\"Children's Literature, picture book\",\"Children's Literature, picture book\",\"Children's fantasy novel\",\"Children's fiction\",\"Children's fiction\",\"Children's literature\",\"Children's literature, picture book, fiction\",\"Children's novel\",\"Children's picture book\",\"Christian literature\",\"Classic regency novel, romance\",\"Coming-of-age\",\"Coming-of-age Murder mystery\",\"Crime novel\",\"Crime thriller novel\",\"Detective\",\"Dystopian fiction\",\"Dystopian, political fiction, social science fiction\",\"Erotica\",\"Essay/Literature\",\"Family saga\",\"Fantasy\",\"Fantasy\",\"Fantasy, Children's fiction\",\"Fantasy, Children's fiction\",\"Feminist novel\",\"Fiction\",\"Fiction\",\"Gothic horror, Family saga\",\"Gothic novel\",\"Historical fiction\",\"Historical fiction, war novel\",\"Historical non-fiction, Autobiography, Memoir, Bildungsroman / Coming of Age, Jewish literature\",\"Historical novel\",\"Historical novel, mystery\",\"Horror\",\"Japanese novel\",\"Magic realism\",\"Manual\",\"Memoir\",\"Mystery\",\"Mystery thriller\",\"Mystery-thriller\",\"New-age spiritual novel\",\"Novel\",\"Novel\",\"Novel\",\"Novel, tragedy\",\"Novella\",\"Novella, Self-help\",\"Philosophical novel, Young adult\",\"Picaresque novel, Bildungsroman, satire, Robinsonade\",\"Popular science\",\"Popular science, Anthropology, Astrophysics, Cosmology, Philosophy, History\",\"Pregnancy guide\",\"Romance\",\"Romance novel\",\"Romantic family saga\",\"Romantic novel\",\"Satirical allegorical novella, Political satire, Dystopian Fiction, Roman \\u00e0 clef\",\"Science fiction\",\"Science fiction novel\",\"Science fiction novel\",\"Self-help\",\"Self-help, motivational, business fable, psychology, leadership, parable\",\"Semi-autobiographical novel\",\"Sexology\",\"Social Science, Anthropology, Psychology\",\"Socialist realist novel\",\"Southern Gothic, Bildungsroman\",\"Thriller\",\"Travel literature\",\"Unfinished satirical dark comedy novel\",\"War novel\",\"War, thriller\",\"Young Adult Fiction\",\"Young Adult novel, adventure, dystopian, science fiction\",\"Young Adult novel, adventure, war, science fiction, action thriller\",\"Young adult fiction\",\"Young adult historical novel\",\"Young adult novel\",\"Young adult romantic novel\",\"Chinese\",\"Czech\",\"Dutch\",\"English\",\"French\",\"German\",\"Hindi\",\"Italian\",\"Japanese\",\"Norwegian\",\"Portuguese\",\"Russian\",\"Spanish\",\"Swedish\"],\"marker\":{\"coloraxis\":\"coloraxis\",\"colors\":[100.0,26.0,50.0,35.0,15.3,200.0,20.0,20.0,45.0,50.0,30.0,85.0,100.0,40.0,35.0,200.0,20.0,33.0,30.0,30.0,80.0,39.0,30.0,18.0,20.0,14.0,50.0,13.249999999999998,40.0,43.0,20.0,20.0,21.0,30.0,20.0,50.0,30.0,20.0,20.0,83.0,40.0,25.0,20.0,65.0,79.41379310344827,50.0,100.0,50.0,31.0,25.0,23.0,20.0,20.0,37.0,20.0,50.0,23.0,40.0,15.0,25.0,31.5,36.0,50.0,12.0,50.0,50.0,30.0,16.0,20.0,21.0,20.0,16.0,20.0,16.0,24.0,36.4,20.0,20.0,23.0,65.0,20.0,20.0,50.0,44.0,33.0,17.0,20.0,28.0,60.0,20.0,21.0,50.0,29.0,25.0,25.0,30.0,20.0,21.0,20.0,29.0,18.0,20.0,50.0,40.0,80.0,50.0,35.0,30.0,22.5,11.0,20.0,83.0,18.0,20.0,31.5,25.0,32.94871794871795,16.0,43.0,21.0,20.0,50.0,50.0,41.666666666666664,20.0,42.1025641025641,20.0,33.0,20.0,65.0,18.0,21.0,20.0,80.0,12.0,30.0,13.249999999999998,40.0,100.0,80.28869047619048,65.0,85.0,35.0,20.0,30.0,30.0,40.0,30.0,147.88135593220338,15.3,35.0,36.0,50.0,11.0,20.0,50.0,50.0,20.0,100.0,80.0,39.0,23.0,39.1270783847981,25.0,24.0,30.0,200.0,44.0,40.0,20.0,25.0,40.0,20.0,60.0,21.0,33.0,20.0,20.0,14.0,20.0,20.0,33.095238095238095,29.0,20.0,50.0,20.0,36.4,40.0,21.6046511627907,20.0,20.0,20.0,50.0,16.0,21.0,20.0,29.0,26.0,20.0,23.0,86.66666666666667,20.0,35.0,58.14172266864938,180.55555555555554,36.69767441860465,68.0,43.8235294117647,19.05263157894737,33.333333333333336,65.0,28.84920440636475,50.0,30.0]},\"name\":\"\",\"parents\":[\"English/Mystery\",\"Russian/Young adult historical novel\",\"English/Children's literature\",\"Dutch/Historical non-fiction, Autobiography, Memoir, Bildungsroman / Coming of Age, Jewish literature\",\"English/Historical fiction, war novel\",\"French/Novella\",\"English/Pregnancy guide\",\"Japanese/Japanese novel\",\"English/Children's Literature\",\"English/Manual\",\"English/Self-help\",\"English/Fantasy, Children's fiction\",\"Chinese/Family saga\",\"English/Popular science, Anthropology, Astrophysics, Cosmology, Philosophy, History\",\"Italian/Fantasy, Children's fiction\",\"English/Historical fiction\",\"English/Novel\",\"English/Romantic family saga\",\"English/Self-help\",\"English/Fiction\",\"English/Mystery thriller\",\"English/Mystery-thriller\",\"English/Gothic novel\",\"English/Coming-of-age Murder mystery\",\"English/Social Science, Anthropology, Psychology\",\"English/Science fiction\",\"English/Children's fiction\",\"English/Erotica\",\"English/Essay/Literature\",\"English/Children's Literature, picture book\",\"English/Romantic novel\",\"German/War novel\",\"English/Romance novel\",\"English/Novel, tragedy\",\"English/Science fiction novel\",\"Spanish/Magic realism\",\"English/Dystopian, political fiction, social science fiction\",\"English/Satirical allegorical novella, Political satire, Dystopian Fiction, Roman \\u00e0 clef\",\"English/Crime thriller novel\",\"English/Adventure\",\"English/Southern Gothic, Bildungsroman\",\"English/Biographical novel\",\"Russian/Science fiction novel\",\"English/Coming-of-age\",\"English/Fantasy\",\"English/Novel\",\"English/Fantasy\",\"English/War, thriller\",\"English/Novel\",\"French/Novel\",\"English/New-age spiritual novel\",\"English/Classic regency novel, romance\",\"Czech/Unfinished satirical dark comedy novel\",\"English/Novel\",\"Chinese/Semi-autobiographical novel\",\"German/Children's fiction\",\"English/Young adult romantic novel\",\"Norwegian/Philosophical novel, Young adult\",\"English/Historical fiction\",\"English/Children's literature\",\"English/Bildungsroman, Historical fiction\",\"Russian/Historical novel\",\"English/Historical fiction\",\"English/Dystopian fiction\",\"English/Self-help\",\"English/Children's novel\",\"English/Historical fiction\",\"English/Children's Literature\",\"English/Feminist novel\",\"English/Crime novel\",\"English/Picaresque novel, Bildungsroman, satire, Robinsonade\",\"English/Young Adult Fiction\",\"English/Children's picture book\",\"German/Children's Literature\",\"Russian/Novel\",\"Russian/Socialist realist novel\",\"English/Self-help\",\"Hindi/Autobiography\",\"English/Thriller\",\"Portuguese/Fantasy\",\"English/Thriller\",\"English/Self-help\",\"English/Fantasy\",\"English/Novella, Self-help\",\"English/Christian literature\",\"English/Children's Literature\",\"English/Children's fantasy novel\",\"English/Children's novel\",\"English/Romance\",\"English/Children's literature, picture book, fiction\",\"Russian/Children's Literature, picture book\",\"English/Sexology\",\"English/Self-help, motivational, business fable, psychology, leadership, parable\",\"English/Popular science\",\"English/Self-help\",\"Swedish/Fiction\",\"English/Young adult novel\",\"English/Young Adult novel, adventure, dystopian, science fiction\",\"English/Young Adult novel, adventure, war, science fiction, action thriller\",\"English/Young adult fiction\",\"Japanese/Autobiographical novel\",\"Norwegian/Travel literature\",\"Italian/Historical novel, mystery\",\"English/Gothic horror, Family saga\",\"Hindi/Detective\",\"English/Novel\",\"English/Self-help\",\"English/Fiction\",\"English/Novel\",\"English/Horror\",\"English/Memoir\",\"English\",\"Japanese\",\"Hindi\",\"English\",\"English\",\"English\",\"German\",\"English\",\"Russian\",\"English\",\"English\",\"German\",\"English\",\"English\",\"English\",\"English\",\"English\",\"English\",\"English\",\"English\",\"English\",\"English\",\"Hindi\",\"English\",\"English\",\"English\",\"English\",\"Chinese\",\"English\",\"Portuguese\",\"English\",\"Italian\",\"English\",\"English\",\"Swedish\",\"English\",\"English\",\"English\",\"English\",\"Dutch\",\"Russian\",\"Italian\",\"English\",\"Japanese\",\"Spanish\",\"English\",\"English\",\"English\",\"English\",\"English\",\"English\",\"English\",\"French\",\"Russian\",\"English\",\"French\",\"English\",\"Norwegian\",\"English\",\"English\",\"English\",\"English\",\"English\",\"English\",\"English\",\"English\",\"English\",\"English\",\"English\",\"Russian\",\"English\",\"English\",\"Chinese\",\"English\",\"English\",\"Russian\",\"English\",\"English\",\"Norwegian\",\"Czech\",\"German\",\"English\",\"English\",\"English\",\"English\",\"English\",\"Russian\",\"English\",\"English\",\"\",\"\",\"\",\"\",\"\",\"\",\"\",\"\",\"\",\"\",\"\",\"\",\"\",\"\"],\"values\":[100.0,26.0,50.0,35.0,15.3,200.0,20.0,20.0,45.0,50.0,30.0,85.0,100.0,40.0,35.0,200.0,20.0,33.0,30.0,30.0,80.0,39.0,30.0,18.0,20.0,14.0,50.0,25.6,40.0,43.0,20.0,20.0,21.0,30.0,20.0,50.0,30.0,20.0,20.0,83.0,40.0,25.0,20.0,65.0,522.0,50.0,100.0,50.0,31.0,25.0,23.0,20.0,20.0,37.0,20.0,50.0,23.0,40.0,15.0,25.0,31.5,36.0,50.0,12.0,50.0,50.0,30.0,16.0,20.0,21.0,20.0,16.0,20.0,16.0,24.0,36.4,20.0,20.0,23.0,65.0,20.0,20.0,50.0,44.0,33.0,17.0,20.0,28.0,60.0,20.0,21.0,50.0,29.0,25.0,25.0,30.0,20.0,21.0,20.0,29.0,18.0,20.0,50.0,40.0,80.0,50.0,35.0,30.0,22.5,11.0,20.0,83.0,18.0,20.0,31.5,25.0,78.0,16.0,43.0,21.0,20.0,50.0,50.0,75.0,20.0,78.0,20.0,33.0,20.0,65.0,18.0,21.0,20.0,80.0,12.0,30.0,25.6,40.0,100.0,672.0,65.0,85.0,35.0,20.0,60.0,30.0,40.0,30.0,295.0,15.3,35.0,36.0,50.0,11.0,20.0,50.0,50.0,20.0,100.0,80.0,39.0,23.0,210.5,25.0,24.0,30.0,200.0,44.0,40.0,20.0,25.0,40.0,20.0,60.0,21.0,33.0,20.0,20.0,14.0,20.0,20.0,210.0,29.0,20.0,50.0,20.0,36.4,40.0,43.0,20.0,20.0,20.0,50.0,16.0,21.0,20.0,29.0,26.0,20.0,23.0,120.0,20.0,35.0,3496.9,225.0,86.0,100.0,85.0,38.0,60.0,65.0,163.4,50.0,30.0],\"type\":\"sunburst\"}],                        {\"template\":{\"data\":{\"histogram2dcontour\":[{\"type\":\"histogram2dcontour\",\"colorbar\":{\"outlinewidth\":0,\"ticks\":\"\"},\"colorscale\":[[0.0,\"#0d0887\"],[0.1111111111111111,\"#46039f\"],[0.2222222222222222,\"#7201a8\"],[0.3333333333333333,\"#9c179e\"],[0.4444444444444444,\"#bd3786\"],[0.5555555555555556,\"#d8576b\"],[0.6666666666666666,\"#ed7953\"],[0.7777777777777778,\"#fb9f3a\"],[0.8888888888888888,\"#fdca26\"],[1.0,\"#f0f921\"]]}],\"choropleth\":[{\"type\":\"choropleth\",\"colorbar\":{\"outlinewidth\":0,\"ticks\":\"\"}}],\"histogram2d\":[{\"type\":\"histogram2d\",\"colorbar\":{\"outlinewidth\":0,\"ticks\":\"\"},\"colorscale\":[[0.0,\"#0d0887\"],[0.1111111111111111,\"#46039f\"],[0.2222222222222222,\"#7201a8\"],[0.3333333333333333,\"#9c179e\"],[0.4444444444444444,\"#bd3786\"],[0.5555555555555556,\"#d8576b\"],[0.6666666666666666,\"#ed7953\"],[0.7777777777777778,\"#fb9f3a\"],[0.8888888888888888,\"#fdca26\"],[1.0,\"#f0f921\"]]}],\"heatmap\":[{\"type\":\"heatmap\",\"colorbar\":{\"outlinewidth\":0,\"ticks\":\"\"},\"colorscale\":[[0.0,\"#0d0887\"],[0.1111111111111111,\"#46039f\"],[0.2222222222222222,\"#7201a8\"],[0.3333333333333333,\"#9c179e\"],[0.4444444444444444,\"#bd3786\"],[0.5555555555555556,\"#d8576b\"],[0.6666666666666666,\"#ed7953\"],[0.7777777777777778,\"#fb9f3a\"],[0.8888888888888888,\"#fdca26\"],[1.0,\"#f0f921\"]]}],\"heatmapgl\":[{\"type\":\"heatmapgl\",\"colorbar\":{\"outlinewidth\":0,\"ticks\":\"\"},\"colorscale\":[[0.0,\"#0d0887\"],[0.1111111111111111,\"#46039f\"],[0.2222222222222222,\"#7201a8\"],[0.3333333333333333,\"#9c179e\"],[0.4444444444444444,\"#bd3786\"],[0.5555555555555556,\"#d8576b\"],[0.6666666666666666,\"#ed7953\"],[0.7777777777777778,\"#fb9f3a\"],[0.8888888888888888,\"#fdca26\"],[1.0,\"#f0f921\"]]}],\"contourcarpet\":[{\"type\":\"contourcarpet\",\"colorbar\":{\"outlinewidth\":0,\"ticks\":\"\"}}],\"contour\":[{\"type\":\"contour\",\"colorbar\":{\"outlinewidth\":0,\"ticks\":\"\"},\"colorscale\":[[0.0,\"#0d0887\"],[0.1111111111111111,\"#46039f\"],[0.2222222222222222,\"#7201a8\"],[0.3333333333333333,\"#9c179e\"],[0.4444444444444444,\"#bd3786\"],[0.5555555555555556,\"#d8576b\"],[0.6666666666666666,\"#ed7953\"],[0.7777777777777778,\"#fb9f3a\"],[0.8888888888888888,\"#fdca26\"],[1.0,\"#f0f921\"]]}],\"surface\":[{\"type\":\"surface\",\"colorbar\":{\"outlinewidth\":0,\"ticks\":\"\"},\"colorscale\":[[0.0,\"#0d0887\"],[0.1111111111111111,\"#46039f\"],[0.2222222222222222,\"#7201a8\"],[0.3333333333333333,\"#9c179e\"],[0.4444444444444444,\"#bd3786\"],[0.5555555555555556,\"#d8576b\"],[0.6666666666666666,\"#ed7953\"],[0.7777777777777778,\"#fb9f3a\"],[0.8888888888888888,\"#fdca26\"],[1.0,\"#f0f921\"]]}],\"mesh3d\":[{\"type\":\"mesh3d\",\"colorbar\":{\"outlinewidth\":0,\"ticks\":\"\"}}],\"scatter\":[{\"fillpattern\":{\"fillmode\":\"overlay\",\"size\":10,\"solidity\":0.2},\"type\":\"scatter\"}],\"parcoords\":[{\"type\":\"parcoords\",\"line\":{\"colorbar\":{\"outlinewidth\":0,\"ticks\":\"\"}}}],\"scatterpolargl\":[{\"type\":\"scatterpolargl\",\"marker\":{\"colorbar\":{\"outlinewidth\":0,\"ticks\":\"\"}}}],\"bar\":[{\"error_x\":{\"color\":\"#2a3f5f\"},\"error_y\":{\"color\":\"#2a3f5f\"},\"marker\":{\"line\":{\"color\":\"#E5ECF6\",\"width\":0.5},\"pattern\":{\"fillmode\":\"overlay\",\"size\":10,\"solidity\":0.2}},\"type\":\"bar\"}],\"scattergeo\":[{\"type\":\"scattergeo\",\"marker\":{\"colorbar\":{\"outlinewidth\":0,\"ticks\":\"\"}}}],\"scatterpolar\":[{\"type\":\"scatterpolar\",\"marker\":{\"colorbar\":{\"outlinewidth\":0,\"ticks\":\"\"}}}],\"histogram\":[{\"marker\":{\"pattern\":{\"fillmode\":\"overlay\",\"size\":10,\"solidity\":0.2}},\"type\":\"histogram\"}],\"scattergl\":[{\"type\":\"scattergl\",\"marker\":{\"colorbar\":{\"outlinewidth\":0,\"ticks\":\"\"}}}],\"scatter3d\":[{\"type\":\"scatter3d\",\"line\":{\"colorbar\":{\"outlinewidth\":0,\"ticks\":\"\"}},\"marker\":{\"colorbar\":{\"outlinewidth\":0,\"ticks\":\"\"}}}],\"scattermapbox\":[{\"type\":\"scattermapbox\",\"marker\":{\"colorbar\":{\"outlinewidth\":0,\"ticks\":\"\"}}}],\"scatterternary\":[{\"type\":\"scatterternary\",\"marker\":{\"colorbar\":{\"outlinewidth\":0,\"ticks\":\"\"}}}],\"scattercarpet\":[{\"type\":\"scattercarpet\",\"marker\":{\"colorbar\":{\"outlinewidth\":0,\"ticks\":\"\"}}}],\"carpet\":[{\"aaxis\":{\"endlinecolor\":\"#2a3f5f\",\"gridcolor\":\"white\",\"linecolor\":\"white\",\"minorgridcolor\":\"white\",\"startlinecolor\":\"#2a3f5f\"},\"baxis\":{\"endlinecolor\":\"#2a3f5f\",\"gridcolor\":\"white\",\"linecolor\":\"white\",\"minorgridcolor\":\"white\",\"startlinecolor\":\"#2a3f5f\"},\"type\":\"carpet\"}],\"table\":[{\"cells\":{\"fill\":{\"color\":\"#EBF0F8\"},\"line\":{\"color\":\"white\"}},\"header\":{\"fill\":{\"color\":\"#C8D4E3\"},\"line\":{\"color\":\"white\"}},\"type\":\"table\"}],\"barpolar\":[{\"marker\":{\"line\":{\"color\":\"#E5ECF6\",\"width\":0.5},\"pattern\":{\"fillmode\":\"overlay\",\"size\":10,\"solidity\":0.2}},\"type\":\"barpolar\"}],\"pie\":[{\"automargin\":true,\"type\":\"pie\"}]},\"layout\":{\"autotypenumbers\":\"strict\",\"colorway\":[\"#636efa\",\"#EF553B\",\"#00cc96\",\"#ab63fa\",\"#FFA15A\",\"#19d3f3\",\"#FF6692\",\"#B6E880\",\"#FF97FF\",\"#FECB52\"],\"font\":{\"color\":\"#2a3f5f\"},\"hovermode\":\"closest\",\"hoverlabel\":{\"align\":\"left\"},\"paper_bgcolor\":\"white\",\"plot_bgcolor\":\"#E5ECF6\",\"polar\":{\"bgcolor\":\"#E5ECF6\",\"angularaxis\":{\"gridcolor\":\"white\",\"linecolor\":\"white\",\"ticks\":\"\"},\"radialaxis\":{\"gridcolor\":\"white\",\"linecolor\":\"white\",\"ticks\":\"\"}},\"ternary\":{\"bgcolor\":\"#E5ECF6\",\"aaxis\":{\"gridcolor\":\"white\",\"linecolor\":\"white\",\"ticks\":\"\"},\"baxis\":{\"gridcolor\":\"white\",\"linecolor\":\"white\",\"ticks\":\"\"},\"caxis\":{\"gridcolor\":\"white\",\"linecolor\":\"white\",\"ticks\":\"\"}},\"coloraxis\":{\"colorbar\":{\"outlinewidth\":0,\"ticks\":\"\"}},\"colorscale\":{\"sequential\":[[0.0,\"#0d0887\"],[0.1111111111111111,\"#46039f\"],[0.2222222222222222,\"#7201a8\"],[0.3333333333333333,\"#9c179e\"],[0.4444444444444444,\"#bd3786\"],[0.5555555555555556,\"#d8576b\"],[0.6666666666666666,\"#ed7953\"],[0.7777777777777778,\"#fb9f3a\"],[0.8888888888888888,\"#fdca26\"],[1.0,\"#f0f921\"]],\"sequentialminus\":[[0.0,\"#0d0887\"],[0.1111111111111111,\"#46039f\"],[0.2222222222222222,\"#7201a8\"],[0.3333333333333333,\"#9c179e\"],[0.4444444444444444,\"#bd3786\"],[0.5555555555555556,\"#d8576b\"],[0.6666666666666666,\"#ed7953\"],[0.7777777777777778,\"#fb9f3a\"],[0.8888888888888888,\"#fdca26\"],[1.0,\"#f0f921\"]],\"diverging\":[[0,\"#8e0152\"],[0.1,\"#c51b7d\"],[0.2,\"#de77ae\"],[0.3,\"#f1b6da\"],[0.4,\"#fde0ef\"],[0.5,\"#f7f7f7\"],[0.6,\"#e6f5d0\"],[0.7,\"#b8e186\"],[0.8,\"#7fbc41\"],[0.9,\"#4d9221\"],[1,\"#276419\"]]},\"xaxis\":{\"gridcolor\":\"white\",\"linecolor\":\"white\",\"ticks\":\"\",\"title\":{\"standoff\":15},\"zerolinecolor\":\"white\",\"automargin\":true,\"zerolinewidth\":2},\"yaxis\":{\"gridcolor\":\"white\",\"linecolor\":\"white\",\"ticks\":\"\",\"title\":{\"standoff\":15},\"zerolinecolor\":\"white\",\"automargin\":true,\"zerolinewidth\":2},\"scene\":{\"xaxis\":{\"backgroundcolor\":\"#E5ECF6\",\"gridcolor\":\"white\",\"linecolor\":\"white\",\"showbackground\":true,\"ticks\":\"\",\"zerolinecolor\":\"white\",\"gridwidth\":2},\"yaxis\":{\"backgroundcolor\":\"#E5ECF6\",\"gridcolor\":\"white\",\"linecolor\":\"white\",\"showbackground\":true,\"ticks\":\"\",\"zerolinecolor\":\"white\",\"gridwidth\":2},\"zaxis\":{\"backgroundcolor\":\"#E5ECF6\",\"gridcolor\":\"white\",\"linecolor\":\"white\",\"showbackground\":true,\"ticks\":\"\",\"zerolinecolor\":\"white\",\"gridwidth\":2}},\"shapedefaults\":{\"line\":{\"color\":\"#2a3f5f\"}},\"annotationdefaults\":{\"arrowcolor\":\"#2a3f5f\",\"arrowhead\":0,\"arrowwidth\":1},\"geo\":{\"bgcolor\":\"white\",\"landcolor\":\"#E5ECF6\",\"subunitcolor\":\"white\",\"showland\":true,\"showlakes\":true,\"lakecolor\":\"white\"},\"title\":{\"x\":0.05},\"mapbox\":{\"style\":\"light\"}}},\"coloraxis\":{\"colorbar\":{\"title\":{\"text\":\"Approximate sales in millions\"}},\"colorscale\":[[0.0,\"#0d0887\"],[0.1111111111111111,\"#46039f\"],[0.2222222222222222,\"#7201a8\"],[0.3333333333333333,\"#9c179e\"],[0.4444444444444444,\"#bd3786\"],[0.5555555555555556,\"#d8576b\"],[0.6666666666666666,\"#ed7953\"],[0.7777777777777778,\"#fb9f3a\"],[0.8888888888888888,\"#fdca26\"],[1.0,\"#f0f921\"]]},\"legend\":{\"tracegroupgap\":0},\"title\":{\"text\":\"Approximate sales of Books in millions\",\"pad\":{\"l\":330}},\"height\":600,\"width\":800},                        {\"responsive\": true}                    ).then(function(){\n",
       "                            \n",
       "var gd = document.getElementById('554bbaee-ebe5-4a88-8339-f8a9713fb07e');\n",
       "var x = new MutationObserver(function (mutations, observer) {{\n",
       "        var display = window.getComputedStyle(gd).display;\n",
       "        if (!display || display === 'none') {{\n",
       "            console.log([gd, 'removed!']);\n",
       "            Plotly.purge(gd);\n",
       "            observer.disconnect();\n",
       "        }}\n",
       "}});\n",
       "\n",
       "// Listen for the removal of the full notebook cells\n",
       "var notebookContainer = gd.closest('#notebook-container');\n",
       "if (notebookContainer) {{\n",
       "    x.observe(notebookContainer, {childList: true});\n",
       "}}\n",
       "\n",
       "// Listen for the clearing of the current output cell\n",
       "var outputEl = gd.closest('.output');\n",
       "if (outputEl) {{\n",
       "    x.observe(outputEl, {childList: true});\n",
       "}}\n",
       "\n",
       "                        })                };                });            </script>        </div>"
      ]
     },
     "metadata": {},
     "output_type": "display_data"
    }
   ],
   "source": [
    "fig=px.sunburst(df,path=['Original language', 'Genre','Author(s)'],values='Approximate sales in millions',color='Approximate sales in millions',height=600,width=800,title=\"Approximate sales of Books in millions\")\n",
    "fig.update_layout(title_pad_l=330)\n",
    "fig.show();"
   ]
  },
  {
   "cell_type": "markdown",
   "id": "completed-charles",
   "metadata": {},
   "source": [
    "# Findings"
   ]
  },
  {
   "cell_type": "markdown",
   "id": "rental-dallas",
   "metadata": {},
   "source": [
    "\n",
    "1. The most popular genre is Fantasy, followed by Novel\n",
    "2. The most popular language is English by a large margin\n",
    "3. The most lucrative year for bestsellers was 1988, followed closely by 1979\n",
    "4. The mean sales figures is 38.8 million\n",
    "5. The standard deviaition of sales is 30.3, which may be negatively influenced by outliers\n",
    "6. J.K. Rowling has the most sales as a single author, followed by Suzanne Collins, Roald Dahl, and Dan Brown\n",
    "7. Only 6 books have over 100 million in sales, and two out of those six are considered Fantasy\n",
    "8. Only 2 books have over 200 million in sales: A Tale of Two Cities and the Little Prince\n",
    "9. The newest genre to make it to the bestseller list is Young adult romantic novel"
   ]
  },
  {
   "cell_type": "markdown",
   "id": "entitled-dispatch",
   "metadata": {},
   "source": [
    "# Assertions to Test"
   ]
  },
  {
   "cell_type": "markdown",
   "id": "abroad-laundry",
   "metadata": {},
   "source": [
    "1. 6 books with over 100 million in sales may be skewing the data\n",
    "2. Fantasy may be overrepresented due to the popularity of Rowling's Harry Potter series and The Hobbit"
   ]
  },
  {
   "cell_type": "code",
   "execution_count": 31,
   "id": "classified-battlefield",
   "metadata": {},
   "outputs": [],
   "source": [
    "df2 = df.drop(df[df['Author(s)'] == 'J.K. Rowling'].index)"
   ]
  },
  {
   "cell_type": "code",
   "execution_count": 32,
   "id": "broken-trademark",
   "metadata": {},
   "outputs": [],
   "source": [
    "df2 = df.drop(df[df['Book'].str.contains('Potter')].index)"
   ]
  },
  {
   "cell_type": "code",
   "execution_count": 33,
   "id": "seven-westminster",
   "metadata": {},
   "outputs": [
    {
     "data": {
      "image/png": "[encoded data removed]",
      "text/plain": [
       "<Figure size 1296x576 with 1 Axes>"
      ]
     },
     "metadata": {
      "needs_background": "light"
     },
     "output_type": "display_data"
    }
   ],
   "source": [
    "#after removing Harry Potter, what is the most represented genre in terms of bestsellers?\n",
    "\n",
    "top_genres = df2['Genre'].value_counts().head(10)\n",
    "top_genres = top_genres.sort_values(ascending=False) \n",
    "\n",
    "plt.figure(figsize=(18, 8))\n",
    "sns.countplot(data=df2[df2['Genre'].isin(top_genres.index)], x='Genre', order=top_genres.index)\n",
    "plt.xticks(rotation=15, ha='right')\n",
    "plt.show()"
   ]
  },
  {
   "cell_type": "code",
   "execution_count": 34,
   "id": "packed-detroit",
   "metadata": {},
   "outputs": [],
   "source": [
    "#let's remove authors with over 100 million sales from the dataset to see if Fantasy remains the best represented genre amongst bestsellers\n",
    "\n",
    "df3 = df.drop(df[df['Author(s)'] == 'J.K. Rowling'].index)\n",
    "df3 = df.drop(df[df['Author(s)'] == 'Charles Dickens'].index)\n",
    "df3 = df.drop(df[df['Author(s)'] == 'Antoine de Saint-Exupéry'].index)\n",
    "df3 = df.drop(df[df['Author(s)'] == 'Agatha Christie'].index)\n",
    "df3 = df.drop(df[df['Author(s)'] == 'Cao Xueqin'].index)\n",
    "df3 = df.drop(df[df['Author(s)'] == 'J. R. R. Tolkien'].index)"
   ]
  },
  {
   "cell_type": "code",
   "execution_count": 35,
   "id": "detected-equivalent",
   "metadata": {},
   "outputs": [],
   "source": [
    "df3 = df.drop(df[df['Book'].str.contains('Potter')].index)\n",
    "df3 = df.drop(df[df['Book'] == 'A Tale of Two Cities'].index)\n",
    "df3 = df.drop(df[df['Book'] == 'The Hobbt'].index)\n",
    "df3 = df.drop(df[df['Book'] == 'Dream of the Red Chamber (紅樓夢)'].index)\n",
    "df3 = df.drop(df[df['Book'] == 'The Little Prince (Le Petit Prince)'].index)\n",
    "df3 = df.drop(df[df['Book'] == 'And Then There Were'].index)"
   ]
  },
  {
   "cell_type": "code",
   "execution_count": 36,
   "id": "leading-necessity",
   "metadata": {},
   "outputs": [
    {
     "data": {
      "image/png": "[encoded data removed]",
      "text/plain": [
       "<Figure size 1296x576 with 1 Axes>"
      ]
     },
     "metadata": {
      "needs_background": "light"
     },
     "output_type": "display_data"
    }
   ],
   "source": [
    "#after removing Harry Potter, what is the most represented genre in terms of bestsellers?\n",
    "\n",
    "top_genres = df3['Genre'].value_counts().head(10)\n",
    "top_genres = top_genres.sort_values(ascending=False) \n",
    "\n",
    "plt.figure(figsize=(18, 8))\n",
    "sns.countplot(data=df3[df3['Genre'].isin(top_genres.index)], x='Genre', order=top_genres.index)\n",
    "plt.xticks(rotation=15, ha='right')\n",
    "plt.show()"
   ]
  },
  {
   "cell_type": "markdown",
   "id": "helpful-macintosh",
   "metadata": {},
   "source": [
    "Conclusion: Removing Harry Potter shows that fantasy may be overrepresented, with Novel being the most popular genre; however, removing all books with over 100 million in sales shows that fantasy still remains the most lucrative genre for bestsellers."
   ]
  },
  {
   "cell_type": "code",
   "execution_count": null,
   "id": "latest-information",
   "metadata": {},
   "outputs": [],
   "source": []
  },
  {
   "cell_type": "code",
   "execution_count": null,
   "id": "atmospheric-serbia",
   "metadata": {},
   "outputs": [],
   "source": []
  },
  {
   "cell_type": "code",
   "execution_count": null,
   "id": "neural-first",
   "metadata": {},
   "outputs": [],
   "source": []
  },
  {
   "cell_type": "code",
   "execution_count": null,
   "id": "confused-duration",
   "metadata": {},
   "outputs": [],
   "source": []
  },
  {
   "cell_type": "code",
   "execution_count": null,
   "id": "charming-consequence",
   "metadata": {},
   "outputs": [],
   "source": []
  },
  {
   "cell_type": "code",
   "execution_count": null,
   "id": "recovered-portfolio",
   "metadata": {},
   "outputs": [],
   "source": []
  },
  {
   "cell_type": "code",
   "execution_count": null,
   "id": "essential-excerpt",
   "metadata": {},
   "outputs": [],
   "source": []
  },
  {
   "cell_type": "code",
   "execution_count": null,
   "id": "lyric-alert",
   "metadata": {},
   "outputs": [],
   "source": []
  },
  {
   "cell_type": "code",
   "execution_count": null,
   "id": "satellite-blank",
   "metadata": {},
   "outputs": [],
   "source": []
  },
  {
   "cell_type": "code",
   "execution_count": null,
   "id": "comparable-highlight",
   "metadata": {},
   "outputs": [],
   "source": []
  },
  {
   "cell_type": "code",
   "execution_count": null,
   "id": "super-logic",
   "metadata": {},
   "outputs": [],
   "source": []
  },
  {
   "cell_type": "code",
   "execution_count": null,
   "id": "accessory-jesus",
   "metadata": {},
   "outputs": [],
   "source": []
  },
  {
   "cell_type": "code",
   "execution_count": null,
   "id": "productive-teddy",
   "metadata": {},
   "outputs": [],
   "source": []
  },
  {
   "cell_type": "code",
   "execution_count": null,
   "id": "narrow-horse",
   "metadata": {},
   "outputs": [],
   "source": []
  },
  {
   "cell_type": "code",
   "execution_count": null,
   "id": "indie-storage",
   "metadata": {},
   "outputs": [],
   "source": []
  },
  {
   "cell_type": "code",
   "execution_count": null,
   "id": "blind-racing",
   "metadata": {},
   "outputs": [],
   "source": []
  },
  {
   "cell_type": "code",
   "execution_count": null,
   "id": "accomplished-strengthening",
   "metadata": {},
   "outputs": [],
   "source": []
  },
  {
   "cell_type": "code",
   "execution_count": null,
   "id": "chubby-conflict",
   "metadata": {},
   "outputs": [],
   "source": []
  },
  {
   "cell_type": "code",
   "execution_count": null,
   "id": "relevant-balance",
   "metadata": {},
   "outputs": [],
   "source": []
  },
  {
   "cell_type": "code",
   "execution_count": null,
   "id": "responsible-silence",
   "metadata": {},
   "outputs": [],
   "source": []
  },
  {
   "cell_type": "code",
   "execution_count": null,
   "id": "upper-shark",
   "metadata": {},
   "outputs": [],
   "source": []
  },
  {
   "cell_type": "code",
   "execution_count": null,
   "id": "intimate-champagne",
   "metadata": {},
   "outputs": [],
   "source": []
  },
  {
   "cell_type": "code",
   "execution_count": null,
   "id": "academic-testing",
   "metadata": {},
   "outputs": [],
   "source": []
  },
  {
   "cell_type": "code",
   "execution_count": null,
   "id": "charming-services",
   "metadata": {},
   "outputs": [],
   "source": []
  },
  {
   "cell_type": "code",
   "execution_count": null,
   "id": "certified-washington",
   "metadata": {},
   "outputs": [],
   "source": []
  },
  {
   "cell_type": "code",
   "execution_count": null,
   "id": "palestinian-orbit",
   "metadata": {},
   "outputs": [],
   "source": []
  },
  {
   "cell_type": "code",
   "execution_count": null,
   "id": "built-subcommittee",
   "metadata": {},
   "outputs": [],
   "source": []
  },
  {
   "cell_type": "code",
   "execution_count": null,
   "id": "dangerous-crisis",
   "metadata": {},
   "outputs": [],
   "source": []
  },
  {
   "cell_type": "code",
   "execution_count": null,
   "id": "objective-control",
   "metadata": {},
   "outputs": [],
   "source": []
  },
  {
   "cell_type": "code",
   "execution_count": null,
   "id": "undefined-illustration",
   "metadata": {},
   "outputs": [],
   "source": []
  }
 ],
 "metadata": {
  "kernelspec": {
   "display_name": "Python 3",
   "language": "python",
   "name": "python3"
  },
  "language_info": {
   "codemirror_mode": {
    "name": "ipython",
    "version": 3
   },
   "file_extension": ".py",
   "mimetype": "text/x-python",
   "name": "python",
   "nbconvert_exporter": "python",
   "pygments_lexer": "ipython3",
   "version": "3.7.16"
  }
 },
 "nbformat": 4,
 "nbformat_minor": 5
}
