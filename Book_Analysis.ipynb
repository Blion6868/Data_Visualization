{
 "cells": [
  {
   "cell_type": "code",
   "execution_count": 177,
   "id": "ranking-fashion",
   "metadata": {},
   "outputs": [],
   "source": [
    "import pandas as pd\n",
    "import matplotlib.pyplot as plt\n",
    "import seaborn as sns\n",
    "import numpy as np\n",
    "import plotly.express as px"
   ]
  },
  {
   "cell_type": "markdown",
   "id": "conservative-verification",
   "metadata": {},
   "source": [
    "Data courtesy of Kaggle: https://www.kaggle.com/datasets/drahulsingh/best-selling-books"
   ]
  },
  {
   "cell_type": "code",
   "execution_count": 178,
   "id": "royal-houston",
   "metadata": {},
   "outputs": [
    {
     "data": {
      "text/html": [
       "<div>\n",
       "<style scoped>\n",
       "    .dataframe tbody tr th:only-of-type {\n",
       "        vertical-align: middle;\n",
       "    }\n",
       "\n",
       "    .dataframe tbody tr th {\n",
       "        vertical-align: top;\n",
       "    }\n",
       "\n",
       "    .dataframe thead th {\n",
       "        text-align: right;\n",
       "    }\n",
       "</style>\n",
       "<table border=\"1\" class=\"dataframe\">\n",
       "  <thead>\n",
       "    <tr style=\"text-align: right;\">\n",
       "      <th></th>\n",
       "      <th>Book</th>\n",
       "      <th>Author(s)</th>\n",
       "      <th>Original language</th>\n",
       "      <th>First published</th>\n",
       "      <th>Approximate sales in millions</th>\n",
       "      <th>Genre</th>\n",
       "    </tr>\n",
       "  </thead>\n",
       "  <tbody>\n",
       "    <tr>\n",
       "      <th>0</th>\n",
       "      <td>A Tale of Two Cities</td>\n",
       "      <td>Charles Dickens</td>\n",
       "      <td>English</td>\n",
       "      <td>1859</td>\n",
       "      <td>200.0</td>\n",
       "      <td>Historical fiction</td>\n",
       "    </tr>\n",
       "    <tr>\n",
       "      <th>1</th>\n",
       "      <td>The Little Prince (Le Petit Prince)</td>\n",
       "      <td>Antoine de Saint-Exupéry</td>\n",
       "      <td>French</td>\n",
       "      <td>1943</td>\n",
       "      <td>200.0</td>\n",
       "      <td>Novella</td>\n",
       "    </tr>\n",
       "    <tr>\n",
       "      <th>2</th>\n",
       "      <td>Harry Potter and the Philosopher's Stone</td>\n",
       "      <td>J. K. Rowling</td>\n",
       "      <td>English</td>\n",
       "      <td>1997</td>\n",
       "      <td>120.0</td>\n",
       "      <td>Fantasy</td>\n",
       "    </tr>\n",
       "    <tr>\n",
       "      <th>3</th>\n",
       "      <td>And Then There Were None</td>\n",
       "      <td>Agatha Christie</td>\n",
       "      <td>English</td>\n",
       "      <td>1939</td>\n",
       "      <td>100.0</td>\n",
       "      <td>Mystery</td>\n",
       "    </tr>\n",
       "    <tr>\n",
       "      <th>4</th>\n",
       "      <td>Dream of the Red Chamber (紅樓夢)</td>\n",
       "      <td>Cao Xueqin</td>\n",
       "      <td>Chinese</td>\n",
       "      <td>1791</td>\n",
       "      <td>100.0</td>\n",
       "      <td>Novel</td>\n",
       "    </tr>\n",
       "  </tbody>\n",
       "</table>\n",
       "</div>"
      ],
      "text/plain": [
       "                                       Book                 Author(s)  \\\n",
       "0                      A Tale of Two Cities           Charles Dickens   \n",
       "1       The Little Prince (Le Petit Prince)  Antoine de Saint-Exupéry   \n",
       "2  Harry Potter and the Philosopher's Stone             J. K. Rowling   \n",
       "3                  And Then There Were None           Agatha Christie   \n",
       "4            Dream of the Red Chamber (紅樓夢)                Cao Xueqin   \n",
       "\n",
       "  Original language  First published  Approximate sales in millions  \\\n",
       "0           English             1859                          200.0   \n",
       "1            French             1943                          200.0   \n",
       "2           English             1997                          120.0   \n",
       "3           English             1939                          100.0   \n",
       "4           Chinese             1791                          100.0   \n",
       "\n",
       "                Genre  \n",
       "0  Historical fiction  \n",
       "1             Novella  \n",
       "2             Fantasy  \n",
       "3             Mystery  \n",
       "4               Novel  "
      ]
     },
     "execution_count": 178,
     "metadata": {},
     "output_type": "execute_result"
    }
   ],
   "source": [
    "#Load data\n",
    "\n",
    "df = pd.read_csv(r\"C:\\Users\\bryan\\Desktop\\Data_Viz\\books.csv\")\n",
    "df.head()"
   ]
  },
  {
   "cell_type": "code",
   "execution_count": 179,
   "id": "demonstrated-questionnaire",
   "metadata": {},
   "outputs": [
    {
     "data": {
      "text/plain": [
       "Novel                    61\n",
       "Children's Literature    23\n",
       "Self-help                14\n",
       "Fantasy                  12\n",
       "Historical fiction        9\n",
       "Young Adult               8\n",
       "Autobiography             7\n",
       "Social Science            6\n",
       "Thriller                  4\n",
       "Romance                   4\n",
       "Crime                     3\n",
       "Science fiction           3\n",
       "Poetry                    2\n",
       "Erotica                   2\n",
       "Biography                 2\n",
       "Gothic novel              2\n",
       "Popular science           2\n",
       "Memoir                    2\n",
       "Christian literature      1\n",
       "Novella                   1\n",
       "Pregnancy guide           1\n",
       "Travel literature         1\n",
       "Sexology                  1\n",
       "Adventure                 1\n",
       "Mystery                   1\n",
       "Horror                    1\n",
       "Name: Genre, dtype: int64"
      ]
     },
     "execution_count": 179,
     "metadata": {},
     "output_type": "execute_result"
    }
   ],
   "source": [
    "df['Genre'].value_counts()"
   ]
  },
  {
   "cell_type": "code",
   "execution_count": 180,
   "id": "twenty-contemporary",
   "metadata": {},
   "outputs": [
    {
     "data": {
      "text/plain": [
       "Book                             0\n",
       "Author(s)                        0\n",
       "Original language                0\n",
       "First published                  0\n",
       "Approximate sales in millions    0\n",
       "Genre                            0\n",
       "dtype: int64"
      ]
     },
     "execution_count": 180,
     "metadata": {},
     "output_type": "execute_result"
    }
   ],
   "source": [
    "#See if there are any missing values\n",
    "\n",
    "df.isnull().sum()"
   ]
  },
  {
   "cell_type": "code",
   "execution_count": 181,
   "id": "ready-mention",
   "metadata": {},
   "outputs": [
    {
     "data": {
      "text/html": [
       "<div>\n",
       "<style scoped>\n",
       "    .dataframe tbody tr th:only-of-type {\n",
       "        vertical-align: middle;\n",
       "    }\n",
       "\n",
       "    .dataframe tbody tr th {\n",
       "        vertical-align: top;\n",
       "    }\n",
       "\n",
       "    .dataframe thead th {\n",
       "        text-align: right;\n",
       "    }\n",
       "</style>\n",
       "<table border=\"1\" class=\"dataframe\">\n",
       "  <thead>\n",
       "    <tr style=\"text-align: right;\">\n",
       "      <th></th>\n",
       "      <th>First published</th>\n",
       "      <th>Approximate sales in millions</th>\n",
       "    </tr>\n",
       "  </thead>\n",
       "  <tbody>\n",
       "    <tr>\n",
       "      <th>count</th>\n",
       "      <td>174.000000</td>\n",
       "      <td>174.000000</td>\n",
       "    </tr>\n",
       "    <tr>\n",
       "      <th>mean</th>\n",
       "      <td>1962.522989</td>\n",
       "      <td>30.097126</td>\n",
       "    </tr>\n",
       "    <tr>\n",
       "      <th>std</th>\n",
       "      <td>64.268737</td>\n",
       "      <td>27.957985</td>\n",
       "    </tr>\n",
       "    <tr>\n",
       "      <th>min</th>\n",
       "      <td>1304.000000</td>\n",
       "      <td>10.000000</td>\n",
       "    </tr>\n",
       "    <tr>\n",
       "      <th>25%</th>\n",
       "      <td>1947.000000</td>\n",
       "      <td>14.000000</td>\n",
       "    </tr>\n",
       "    <tr>\n",
       "      <th>50%</th>\n",
       "      <td>1974.000000</td>\n",
       "      <td>20.000000</td>\n",
       "    </tr>\n",
       "    <tr>\n",
       "      <th>75%</th>\n",
       "      <td>1995.000000</td>\n",
       "      <td>36.300000</td>\n",
       "    </tr>\n",
       "    <tr>\n",
       "      <th>max</th>\n",
       "      <td>2018.000000</td>\n",
       "      <td>200.000000</td>\n",
       "    </tr>\n",
       "  </tbody>\n",
       "</table>\n",
       "</div>"
      ],
      "text/plain": [
       "       First published  Approximate sales in millions\n",
       "count       174.000000                     174.000000\n",
       "mean       1962.522989                      30.097126\n",
       "std          64.268737                      27.957985\n",
       "min        1304.000000                      10.000000\n",
       "25%        1947.000000                      14.000000\n",
       "50%        1974.000000                      20.000000\n",
       "75%        1995.000000                      36.300000\n",
       "max        2018.000000                     200.000000"
      ]
     },
     "execution_count": 181,
     "metadata": {},
     "output_type": "execute_result"
    }
   ],
   "source": [
    "df.describe()"
   ]
  },
  {
   "cell_type": "code",
   "execution_count": 182,
   "id": "labeled-douglas",
   "metadata": {},
   "outputs": [
    {
     "data": {
      "text/plain": [
       "0.05    10.0\n",
       "0.25    14.0\n",
       "0.50    20.0\n",
       "0.75    36.3\n",
       "0.95    80.0\n",
       "Name: Approximate sales in millions, dtype: float64"
      ]
     },
     "execution_count": 182,
     "metadata": {},
     "output_type": "execute_result"
    }
   ],
   "source": [
    "#Additional way to view quantiles\n",
    "\n",
    "df['Approximate sales in millions'].quantile([0.05, 0.25, 0.5, 0.75, 0.95])"
   ]
  },
  {
   "cell_type": "code",
   "execution_count": null,
   "id": "pressing-browse",
   "metadata": {},
   "outputs": [],
   "source": [
    "df['']"
   ]
  },
  {
   "cell_type": "code",
   "execution_count": 183,
   "id": "sonic-hierarchy",
   "metadata": {},
   "outputs": [
    {
     "data": {
      "text/plain": [
       "(174, 6)"
      ]
     },
     "execution_count": 183,
     "metadata": {},
     "output_type": "execute_result"
    }
   ],
   "source": [
    "df.shape"
   ]
  },
  {
   "cell_type": "code",
   "execution_count": 184,
   "id": "furnished-swimming",
   "metadata": {},
   "outputs": [
    {
     "name": "stdout",
     "output_type": "stream",
     "text": [
      "<class 'pandas.core.frame.DataFrame'>\n",
      "RangeIndex: 174 entries, 0 to 173\n",
      "Data columns (total 6 columns):\n",
      " #   Column                         Non-Null Count  Dtype  \n",
      "---  ------                         --------------  -----  \n",
      " 0   Book                           174 non-null    object \n",
      " 1   Author(s)                      174 non-null    object \n",
      " 2   Original language              174 non-null    object \n",
      " 3   First published                174 non-null    int64  \n",
      " 4   Approximate sales in millions  174 non-null    float64\n",
      " 5   Genre                          174 non-null    object \n",
      "dtypes: float64(1), int64(1), object(4)\n",
      "memory usage: 8.3+ KB\n"
     ]
    }
   ],
   "source": [
    "df.info()"
   ]
  },
  {
   "cell_type": "code",
   "execution_count": 185,
   "id": "anonymous-danish",
   "metadata": {},
   "outputs": [
    {
     "data": {
      "image/png": "[encoded data removed]",
      "text/plain": [
       "<Figure size 576x432 with 1 Axes>"
      ]
     },
     "metadata": {
      "needs_background": "light"
     },
     "output_type": "display_data"
    }
   ],
   "source": [
    "#Binning for bestellers sales\n",
    "\n",
    "binpop = pd.cut(df['Approximate sales in millions'], 10)\n",
    "binpop.value_counts()\n",
    "\n",
    "df['Sales Bins'] = binpop\n",
    "\n",
    "plt.figure(figsize=(8, 6))\n",
    "sns.countplot(data=df, x='Sales Bins')\n",
    "plt.xlabel('Sales Bins')\n",
    "plt.ylabel('Count')\n",
    "plt.title('Distribution of Sales Bins')\n",
    "plt.xticks(rotation=45)\n",
    "plt.show()"
   ]
  },
  {
   "cell_type": "code",
   "execution_count": 186,
   "id": "qualified-vampire",
   "metadata": {},
   "outputs": [
    {
     "data": {
      "text/plain": [
       "(9.81, 29.0]      113\n",
       "(29.0, 48.0]       28\n",
       "(48.0, 67.0]       22\n",
       "(67.0, 86.0]        5\n",
       "(86.0, 105.0]       3\n",
       "(181.0, 200.0]      2\n",
       "(105.0, 124.0]      1\n",
       "(124.0, 143.0]      0\n",
       "(143.0, 162.0]      0\n",
       "(162.0, 181.0]      0\n",
       "Name: Approximate sales in millions, dtype: int64"
      ]
     },
     "execution_count": 186,
     "metadata": {},
     "output_type": "execute_result"
    }
   ],
   "source": [
    "binpop.value_counts()"
   ]
  },
  {
   "cell_type": "markdown",
   "id": "photographic-weekend",
   "metadata": {},
   "source": [
    "The vast majority of books are found in the first bin, between 9.81 and 29.0."
   ]
  },
  {
   "cell_type": "code",
   "execution_count": 187,
   "id": "legitimate-blanket",
   "metadata": {},
   "outputs": [
    {
     "data": {
      "image/png": "[encoded data removed]",
      "text/plain": [
       "<Figure size 720x432 with 1 Axes>"
      ]
     },
     "metadata": {
      "needs_background": "light"
     },
     "output_type": "display_data"
    }
   ],
   "source": [
    "ax = (df['Approximate sales in millions'] / 1_000_000).plot.hist(figsize=(10,6))"
   ]
  },
  {
   "cell_type": "code",
   "execution_count": 188,
   "id": "fifteen-person",
   "metadata": {},
   "outputs": [
    {
     "data": {
      "text/plain": [
       "<matplotlib.collections.PathCollection at 0x29046497348>"
      ]
     },
     "execution_count": 188,
     "metadata": {},
     "output_type": "execute_result"
    },
    {
     "data": {
      "image/png": "[encoded data removed]",
      "text/plain": [
       "<Figure size 720x432 with 1 Axes>"
      ]
     },
     "metadata": {
      "needs_background": "light"
     },
     "output_type": "display_data"
    }
   ],
   "source": [
    "#Scatter plot for sales\n",
    "\n",
    "plt.figure(figsize=(10, 6))\n",
    "plt.scatter(x=df['First published'], y=df['Approximate sales in millions'])"
   ]
  },
  {
   "cell_type": "code",
   "execution_count": 189,
   "id": "announced-funds",
   "metadata": {},
   "outputs": [
    {
     "data": {
      "text/plain": [
       "1304"
      ]
     },
     "execution_count": 189,
     "metadata": {},
     "output_type": "execute_result"
    }
   ],
   "source": [
    "min(df['First published'])"
   ]
  },
  {
   "cell_type": "code",
   "execution_count": 229,
   "id": "irish-rogers",
   "metadata": {},
   "outputs": [
    {
     "data": {
      "image/png": "[encoded data removed]",
      "text/plain": [
       "<Figure size 720x432 with 1 Axes>"
      ]
     },
     "metadata": {
      "needs_background": "light"
     },
     "output_type": "display_data"
    }
   ],
   "source": [
    "#Determine top 10 books in terms of sales\n",
    "titles = df.sort_values(by='Approximate sales in millions', ascending=False).head(10)\n",
    "plt.figure(figsize=(10, 6))\n",
    "plt.bar(titles['Book'], titles['Approximate sales in millions'])\n",
    "plt.xticks(rotation=15, ha='right');"
   ]
  },
  {
   "cell_type": "code",
   "execution_count": 190,
   "id": "buried-ratio",
   "metadata": {},
   "outputs": [
    {
     "data": {
      "text/plain": [
       "'The Divine Comedy (La Divina Commedia)'"
      ]
     },
     "execution_count": 190,
     "metadata": {},
     "output_type": "execute_result"
    }
   ],
   "source": [
    "#Earliest bestseller\n",
    "\n",
    "earliest_publishing_date = df['First published'].min()\n",
    "earliest_book = df.loc[df['First published'] == earliest_publishing_date, 'Book'].iloc[0]\n",
    "earliest_book"
   ]
  },
  {
   "cell_type": "code",
   "execution_count": 191,
   "id": "documented-blame",
   "metadata": {},
   "outputs": [
    {
     "data": {
      "image/png": "[encoded data removed]",
      "text/plain": [
       "<Figure size 1296x576 with 1 Axes>"
      ]
     },
     "metadata": {
      "needs_background": "light"
     },
     "output_type": "display_data"
    }
   ],
   "source": [
    "#Plot genre count\n",
    "\n",
    "plt.figure(figsize=(18, 8))\n",
    "sns.countplot(data=df, x='Genre')\n",
    "plt.xticks(rotation=90)\n",
    "plt.show()"
   ]
  },
  {
   "cell_type": "markdown",
   "id": "needed-charger",
   "metadata": {},
   "source": [
    "Clearly the most popular genre is the Novel, followed by Children's Literature, Self-Help, and Fantasy"
   ]
  },
  {
   "cell_type": "markdown",
   "id": "healthy-variation",
   "metadata": {},
   "source": [
    "We can now see that Fantasy is the most popular genre in terms of sales, followed by the Novel and self-help"
   ]
  },
  {
   "cell_type": "code",
   "execution_count": 192,
   "id": "located-punch",
   "metadata": {},
   "outputs": [
    {
     "data": {
      "text/html": [
       "<div>\n",
       "<style scoped>\n",
       "    .dataframe tbody tr th:only-of-type {\n",
       "        vertical-align: middle;\n",
       "    }\n",
       "\n",
       "    .dataframe tbody tr th {\n",
       "        vertical-align: top;\n",
       "    }\n",
       "\n",
       "    .dataframe thead th {\n",
       "        text-align: right;\n",
       "    }\n",
       "</style>\n",
       "<table border=\"1\" class=\"dataframe\">\n",
       "  <thead>\n",
       "    <tr style=\"text-align: right;\">\n",
       "      <th></th>\n",
       "      <th>First published</th>\n",
       "      <th>Approximate sales in millions</th>\n",
       "    </tr>\n",
       "    <tr>\n",
       "      <th>Genre</th>\n",
       "      <th></th>\n",
       "      <th></th>\n",
       "    </tr>\n",
       "  </thead>\n",
       "  <tbody>\n",
       "    <tr>\n",
       "      <th>Adventure</th>\n",
       "      <td>1887.000000</td>\n",
       "      <td>83.000000</td>\n",
       "    </tr>\n",
       "    <tr>\n",
       "      <th>Autobiography</th>\n",
       "      <td>1981.142857</td>\n",
       "      <td>15.142857</td>\n",
       "    </tr>\n",
       "    <tr>\n",
       "      <th>Biography</th>\n",
       "      <td>1963.000000</td>\n",
       "      <td>17.500000</td>\n",
       "    </tr>\n",
       "    <tr>\n",
       "      <th>Children's Literature</th>\n",
       "      <td>1952.826087</td>\n",
       "      <td>24.652174</td>\n",
       "    </tr>\n",
       "    <tr>\n",
       "      <th>Christian literature</th>\n",
       "      <td>2002.000000</td>\n",
       "      <td>33.000000</td>\n",
       "    </tr>\n",
       "    <tr>\n",
       "      <th>Crime</th>\n",
       "      <td>1991.000000</td>\n",
       "      <td>40.333333</td>\n",
       "    </tr>\n",
       "    <tr>\n",
       "      <th>Erotica</th>\n",
       "      <td>2011.500000</td>\n",
       "      <td>12.800000</td>\n",
       "    </tr>\n",
       "    <tr>\n",
       "      <th>Fantasy</th>\n",
       "      <td>1978.083333</td>\n",
       "      <td>71.416667</td>\n",
       "    </tr>\n",
       "    <tr>\n",
       "      <th>Gothic novel</th>\n",
       "      <td>1958.500000</td>\n",
       "      <td>35.000000</td>\n",
       "    </tr>\n",
       "    <tr>\n",
       "      <th>Historical fiction</th>\n",
       "      <td>1938.666667</td>\n",
       "      <td>50.144444</td>\n",
       "    </tr>\n",
       "    <tr>\n",
       "      <th>Horror</th>\n",
       "      <td>1971.000000</td>\n",
       "      <td>11.000000</td>\n",
       "    </tr>\n",
       "    <tr>\n",
       "      <th>Memoir</th>\n",
       "      <td>1935.000000</td>\n",
       "      <td>30.000000</td>\n",
       "    </tr>\n",
       "    <tr>\n",
       "      <th>Mystery</th>\n",
       "      <td>1939.000000</td>\n",
       "      <td>100.000000</td>\n",
       "    </tr>\n",
       "    <tr>\n",
       "      <th>Novel</th>\n",
       "      <td>1962.049180</td>\n",
       "      <td>22.483607</td>\n",
       "    </tr>\n",
       "    <tr>\n",
       "      <th>Novella</th>\n",
       "      <td>1943.000000</td>\n",
       "      <td>200.000000</td>\n",
       "    </tr>\n",
       "    <tr>\n",
       "      <th>Poetry</th>\n",
       "      <td>1613.500000</td>\n",
       "      <td>11.250000</td>\n",
       "    </tr>\n",
       "    <tr>\n",
       "      <th>Popular science</th>\n",
       "      <td>1984.000000</td>\n",
       "      <td>32.500000</td>\n",
       "    </tr>\n",
       "    <tr>\n",
       "      <th>Pregnancy guide</th>\n",
       "      <td>1984.000000</td>\n",
       "      <td>20.000000</td>\n",
       "    </tr>\n",
       "    <tr>\n",
       "      <th>Romance</th>\n",
       "      <td>1978.000000</td>\n",
       "      <td>33.500000</td>\n",
       "    </tr>\n",
       "    <tr>\n",
       "      <th>Science fiction</th>\n",
       "      <td>1967.000000</td>\n",
       "      <td>18.000000</td>\n",
       "    </tr>\n",
       "    <tr>\n",
       "      <th>Self-help</th>\n",
       "      <td>1976.500000</td>\n",
       "      <td>26.857143</td>\n",
       "    </tr>\n",
       "    <tr>\n",
       "      <th>Sexology</th>\n",
       "      <td>1976.000000</td>\n",
       "      <td>50.000000</td>\n",
       "    </tr>\n",
       "    <tr>\n",
       "      <th>Social Science</th>\n",
       "      <td>1976.000000</td>\n",
       "      <td>12.000000</td>\n",
       "    </tr>\n",
       "    <tr>\n",
       "      <th>Thriller</th>\n",
       "      <td>1998.000000</td>\n",
       "      <td>40.500000</td>\n",
       "    </tr>\n",
       "    <tr>\n",
       "      <th>Travel literature</th>\n",
       "      <td>1950.000000</td>\n",
       "      <td>20.000000</td>\n",
       "    </tr>\n",
       "    <tr>\n",
       "      <th>Young Adult</th>\n",
       "      <td>1992.250000</td>\n",
       "      <td>21.250000</td>\n",
       "    </tr>\n",
       "  </tbody>\n",
       "</table>\n",
       "</div>"
      ],
      "text/plain": [
       "                       First published  Approximate sales in millions\n",
       "Genre                                                                \n",
       "Adventure                  1887.000000                      83.000000\n",
       "Autobiography              1981.142857                      15.142857\n",
       "Biography                  1963.000000                      17.500000\n",
       "Children's Literature      1952.826087                      24.652174\n",
       "Christian literature       2002.000000                      33.000000\n",
       "Crime                      1991.000000                      40.333333\n",
       "Erotica                    2011.500000                      12.800000\n",
       "Fantasy                    1978.083333                      71.416667\n",
       "Gothic novel               1958.500000                      35.000000\n",
       "Historical fiction         1938.666667                      50.144444\n",
       "Horror                     1971.000000                      11.000000\n",
       "Memoir                     1935.000000                      30.000000\n",
       "Mystery                    1939.000000                     100.000000\n",
       "Novel                      1962.049180                      22.483607\n",
       "Novella                    1943.000000                     200.000000\n",
       "Poetry                     1613.500000                      11.250000\n",
       "Popular science            1984.000000                      32.500000\n",
       "Pregnancy guide            1984.000000                      20.000000\n",
       "Romance                    1978.000000                      33.500000\n",
       "Science fiction            1967.000000                      18.000000\n",
       "Self-help                  1976.500000                      26.857143\n",
       "Sexology                   1976.000000                      50.000000\n",
       "Social Science             1976.000000                      12.000000\n",
       "Thriller                   1998.000000                      40.500000\n",
       "Travel literature          1950.000000                      20.000000\n",
       "Young Adult                1992.250000                      21.250000"
      ]
     },
     "execution_count": 192,
     "metadata": {},
     "output_type": "execute_result"
    }
   ],
   "source": [
    "#Determine the mean sales for each genre\n",
    "\n",
    "df.groupby('Genre').mean()"
   ]
  },
  {
   "cell_type": "code",
   "execution_count": 193,
   "id": "earlier-siemens",
   "metadata": {},
   "outputs": [
    {
     "data": {
      "image/png": "[encoded data removed]",
      "text/plain": [
       "<Figure size 1296x576 with 1 Axes>"
      ]
     },
     "metadata": {
      "needs_background": "light"
     },
     "output_type": "display_data"
    }
   ],
   "source": [
    "#Determine the top 10 genres\n",
    "\n",
    "top_genres = df['Genre'].value_counts().head(10)\n",
    "top_genres = top_genres.sort_values(ascending=False) \n",
    "\n",
    "plt.figure(figsize=(18, 8))\n",
    "sns.countplot(data=df[df['Genre'].isin(top_genres.index)], x='Genre', order=top_genres.index)\n",
    "plt.xticks(rotation=15, ha='right')\n",
    "plt.show()"
   ]
  },
  {
   "cell_type": "code",
   "execution_count": 194,
   "id": "bottom-seating",
   "metadata": {},
   "outputs": [
    {
     "data": {
      "image/png": "[encoded data removed]",
      "text/plain": [
       "<Figure size 1440x720 with 1 Axes>"
      ]
     },
     "metadata": {},
     "output_type": "display_data"
    }
   ],
   "source": [
    "top_genre = df['Genre'].value_counts().head(10)\n",
    "top_genre = top_genre.sort_values(ascending=False)\n",
    "\n",
    "plt.figure(figsize=(20, 10))\n",
    "top_genre.plot(kind='pie', autopct='%1.1f%%', startangle=140)\n",
    "plt.axis('equal')  \n",
    "plt.show()"
   ]
  },
  {
   "cell_type": "code",
   "execution_count": 195,
   "id": "short-response",
   "metadata": {},
   "outputs": [
    {
     "data": {
      "text/plain": [
       "2              Harry Potter and the Philosopher's Stone\n",
       "5                                            The Hobbit\n",
       "6                  The Lion, the Witch and the Wardrobe\n",
       "10              Harry Potter and the Chamber of Secrets\n",
       "11             Harry Potter and the Prisoner of Azkaban\n",
       "12                  Harry Potter and the Goblet of Fire\n",
       "13            Harry Potter and the Order of the Phoenix\n",
       "14               Harry Potter and the Half-Blood Prince\n",
       "15                 Harry Potter and the Deathly Hallows\n",
       "16                         The Alchemist (O Alquimista)\n",
       "29                                       Watership Down\n",
       "45    The Adventures of Pinocchio (Le avventure di P...\n",
       "Name: Book, dtype: object"
      ]
     },
     "execution_count": 195,
     "metadata": {},
     "output_type": "execute_result"
    }
   ],
   "source": [
    "#Determine titles for the Fantasy genre\n",
    "\n",
    "df[df['Genre'] == 'Fantasy']['Book']"
   ]
  },
  {
   "cell_type": "code",
   "execution_count": 196,
   "id": "collect-spanking",
   "metadata": {},
   "outputs": [
    {
     "data": {
      "text/plain": [
       "4                         Dream of the Red Chamber (紅樓夢)\n",
       "17                                The Catcher in the Rye\n",
       "21     One Hundred Years of Solitude (Cien años de so...\n",
       "22                                                Lolita\n",
       "28                                  The Eagle Has Landed\n",
       "                             ...                        \n",
       "159                                      The Total Woman\n",
       "167                                           Life of Pi\n",
       "168                                     The Front Runner\n",
       "170                                       Fahrenheit 451\n",
       "173                                Bridget Jones's Diary\n",
       "Name: Book, Length: 61, dtype: object"
      ]
     },
     "execution_count": 196,
     "metadata": {},
     "output_type": "execute_result"
    }
   ],
   "source": [
    "#dDtermine titles for the novel genre\n",
    "\n",
    "df[df['Genre'] == 'Novel']['Book']"
   ]
  },
  {
   "cell_type": "code",
   "execution_count": 197,
   "id": "diagnostic-winter",
   "metadata": {},
   "outputs": [
    {
     "data": {
      "image/png": "[encoded data removed]",
      "text/plain": [
       "<Figure size 1296x576 with 1 Axes>"
      ]
     },
     "metadata": {
      "needs_background": "light"
     },
     "output_type": "display_data"
    }
   ],
   "source": [
    "#Determine authors with the most books on the best seller list\n",
    "\n",
    "top_authors = df['Author(s)'].value_counts().head(10)\n",
    "top_authors = top_authors.sort_values(ascending=False) \n",
    "\n",
    "plt.figure(figsize=(18, 8))\n",
    "sns.countplot(data=df[df['Author(s)'].isin(top_authors.index)], x='Author(s)', order=top_authors.index)\n",
    "plt.xticks(rotation=15, ha='right')\n",
    "plt.show()"
   ]
  },
  {
   "cell_type": "code",
   "execution_count": 198,
   "id": "union-chess",
   "metadata": {},
   "outputs": [
    {
     "data": {
      "text/html": [
       "<div>\n",
       "<style scoped>\n",
       "    .dataframe tbody tr th:only-of-type {\n",
       "        vertical-align: middle;\n",
       "    }\n",
       "\n",
       "    .dataframe tbody tr th {\n",
       "        vertical-align: top;\n",
       "    }\n",
       "\n",
       "    .dataframe thead th {\n",
       "        text-align: right;\n",
       "    }\n",
       "</style>\n",
       "<table border=\"1\" class=\"dataframe\">\n",
       "  <thead>\n",
       "    <tr style=\"text-align: right;\">\n",
       "      <th></th>\n",
       "      <th>First published</th>\n",
       "      <th>Approximate sales in millions</th>\n",
       "    </tr>\n",
       "    <tr>\n",
       "      <th>Author(s)</th>\n",
       "      <th></th>\n",
       "      <th></th>\n",
       "    </tr>\n",
       "  </thead>\n",
       "  <tbody>\n",
       "    <tr>\n",
       "      <th>Agatha Christie</th>\n",
       "      <td>1939.0</td>\n",
       "      <td>100.0</td>\n",
       "    </tr>\n",
       "    <tr>\n",
       "      <th>Albert Camus</th>\n",
       "      <td>1944.5</td>\n",
       "      <td>11.0</td>\n",
       "    </tr>\n",
       "    <tr>\n",
       "      <th>Alex Comfort</th>\n",
       "      <td>1972.0</td>\n",
       "      <td>10.0</td>\n",
       "    </tr>\n",
       "    <tr>\n",
       "      <th>Alexander Alexandrovich Fadeyev</th>\n",
       "      <td>1945.0</td>\n",
       "      <td>26.0</td>\n",
       "    </tr>\n",
       "    <tr>\n",
       "      <th>Alice Sebold</th>\n",
       "      <td>2002.0</td>\n",
       "      <td>10.0</td>\n",
       "    </tr>\n",
       "    <tr>\n",
       "      <th>...</th>\n",
       "      <td>...</td>\n",
       "      <td>...</td>\n",
       "    </tr>\n",
       "    <tr>\n",
       "      <th>William Peter Blatty</th>\n",
       "      <td>1971.0</td>\n",
       "      <td>11.0</td>\n",
       "    </tr>\n",
       "    <tr>\n",
       "      <th>Xaviera Hollander</th>\n",
       "      <td>1971.0</td>\n",
       "      <td>20.0</td>\n",
       "    </tr>\n",
       "    <tr>\n",
       "      <th>Xue Muqiao</th>\n",
       "      <td>1979.0</td>\n",
       "      <td>10.0</td>\n",
       "    </tr>\n",
       "    <tr>\n",
       "      <th>Yann Martel</th>\n",
       "      <td>2001.0</td>\n",
       "      <td>10.0</td>\n",
       "    </tr>\n",
       "    <tr>\n",
       "      <th>Yu Dan</th>\n",
       "      <td>2006.0</td>\n",
       "      <td>10.0</td>\n",
       "    </tr>\n",
       "  </tbody>\n",
       "</table>\n",
       "<p>157 rows × 2 columns</p>\n",
       "</div>"
      ],
      "text/plain": [
       "                                 First published  \\\n",
       "Author(s)                                          \n",
       "Agatha Christie                           1939.0   \n",
       "Albert Camus                              1944.5   \n",
       "Alex Comfort                              1972.0   \n",
       "Alexander Alexandrovich Fadeyev           1945.0   \n",
       "Alice Sebold                              2002.0   \n",
       "...                                          ...   \n",
       "William Peter Blatty                      1971.0   \n",
       "Xaviera Hollander                         1971.0   \n",
       "Xue Muqiao                                1979.0   \n",
       "Yann Martel                               2001.0   \n",
       "Yu Dan                                    2006.0   \n",
       "\n",
       "                                 Approximate sales in millions  \n",
       "Author(s)                                                       \n",
       "Agatha Christie                                          100.0  \n",
       "Albert Camus                                              11.0  \n",
       "Alex Comfort                                              10.0  \n",
       "Alexander Alexandrovich Fadeyev                           26.0  \n",
       "Alice Sebold                                              10.0  \n",
       "...                                                        ...  \n",
       "William Peter Blatty                                      11.0  \n",
       "Xaviera Hollander                                         20.0  \n",
       "Xue Muqiao                                                10.0  \n",
       "Yann Martel                                               10.0  \n",
       "Yu Dan                                                    10.0  \n",
       "\n",
       "[157 rows x 2 columns]"
      ]
     },
     "execution_count": 198,
     "metadata": {},
     "output_type": "execute_result"
    }
   ],
   "source": [
    "df.groupby('Author(s)').mean()"
   ]
  },
  {
   "cell_type": "code",
   "execution_count": 199,
   "id": "after-undergraduate",
   "metadata": {},
   "outputs": [
    {
     "data": {
      "text/plain": [
       "2      Harry Potter and the Philosopher's Stone\n",
       "10      Harry Potter and the Chamber of Secrets\n",
       "11     Harry Potter and the Prisoner of Azkaban\n",
       "12          Harry Potter and the Goblet of Fire\n",
       "13    Harry Potter and the Order of the Phoenix\n",
       "14       Harry Potter and the Half-Blood Prince\n",
       "15         Harry Potter and the Deathly Hallows\n",
       "Name: Book, dtype: object"
      ]
     },
     "execution_count": 199,
     "metadata": {},
     "output_type": "execute_result"
    }
   ],
   "source": [
    "#Determine titels for J.K. Rowling's books\n",
    "\n",
    "df[df['Author(s)'] == 'J. K. Rowling']['Book']"
   ]
  },
  {
   "cell_type": "code",
   "execution_count": 200,
   "id": "understanding-distinction",
   "metadata": {},
   "outputs": [
    {
     "data": {
      "image/png": "[encoded data removed]",
      "text/plain": [
       "<Figure size 1296x576 with 1 Axes>"
      ]
     },
     "metadata": {
      "needs_background": "light"
     },
     "output_type": "display_data"
    }
   ],
   "source": [
    "#Plot the sales in millions\n",
    "\n",
    "plt.figure(figsize=(18, 8))\n",
    "sns.histplot(data=df, x='Approximate sales in millions', bins=30, kde=True)\n",
    "plt.show()"
   ]
  },
  {
   "cell_type": "code",
   "execution_count": 201,
   "id": "dominant-employer",
   "metadata": {},
   "outputs": [
    {
     "data": {
      "text/plain": [
       "30.097126436781608"
      ]
     },
     "execution_count": 201,
     "metadata": {},
     "output_type": "execute_result"
    }
   ],
   "source": [
    "df['Approximate sales in millions'].mean()"
   ]
  },
  {
   "cell_type": "markdown",
   "id": "metric-snowboard",
   "metadata": {},
   "source": [
    "Clearly, there are a number of outliers around 200 million. To isolate these further, let's use a boxplot"
   ]
  },
  {
   "cell_type": "code",
   "execution_count": 202,
   "id": "exotic-balance",
   "metadata": {},
   "outputs": [
    {
     "data": {
      "text/plain": [
       "<AxesSubplot:xlabel='Approximate sales in millions'>"
      ]
     },
     "execution_count": 202,
     "metadata": {},
     "output_type": "execute_result"
    },
    {
     "data": {
      "image/png": "[encoded data removed]",
      "text/plain": [
       "<Figure size 1296x576 with 1 Axes>"
      ]
     },
     "metadata": {
      "needs_background": "light"
     },
     "output_type": "display_data"
    }
   ],
   "source": [
    "plt.figure(figsize=(18, 8))\n",
    "sns.boxplot(data=df, x=\"Approximate sales in millions\", hue=\"Book\")"
   ]
  },
  {
   "cell_type": "code",
   "execution_count": 231,
   "id": "supported-costa",
   "metadata": {},
   "outputs": [
    {
     "data": {
      "text/html": [
       "<div>\n",
       "<style scoped>\n",
       "    .dataframe tbody tr th:only-of-type {\n",
       "        vertical-align: middle;\n",
       "    }\n",
       "\n",
       "    .dataframe tbody tr th {\n",
       "        vertical-align: top;\n",
       "    }\n",
       "\n",
       "    .dataframe thead th {\n",
       "        text-align: right;\n",
       "    }\n",
       "</style>\n",
       "<table border=\"1\" class=\"dataframe\">\n",
       "  <thead>\n",
       "    <tr style=\"text-align: right;\">\n",
       "      <th></th>\n",
       "      <th>Book</th>\n",
       "      <th>Author(s)</th>\n",
       "      <th>Original language</th>\n",
       "      <th>First published</th>\n",
       "      <th>Approximate sales in millions</th>\n",
       "      <th>Genre</th>\n",
       "      <th>Sales Bins</th>\n",
       "    </tr>\n",
       "  </thead>\n",
       "  <tbody>\n",
       "    <tr>\n",
       "      <th>0</th>\n",
       "      <td>A Tale of Two Cities</td>\n",
       "      <td>Charles Dickens</td>\n",
       "      <td>English</td>\n",
       "      <td>1859</td>\n",
       "      <td>200.0</td>\n",
       "      <td>Historical fiction</td>\n",
       "      <td>(181.0, 200.0]</td>\n",
       "    </tr>\n",
       "    <tr>\n",
       "      <th>1</th>\n",
       "      <td>The Little Prince (Le Petit Prince)</td>\n",
       "      <td>Antoine de Saint-Exupéry</td>\n",
       "      <td>French</td>\n",
       "      <td>1943</td>\n",
       "      <td>200.0</td>\n",
       "      <td>Novella</td>\n",
       "      <td>(181.0, 200.0]</td>\n",
       "    </tr>\n",
       "    <tr>\n",
       "      <th>2</th>\n",
       "      <td>Harry Potter and the Philosopher's Stone</td>\n",
       "      <td>J. K. Rowling</td>\n",
       "      <td>English</td>\n",
       "      <td>1997</td>\n",
       "      <td>120.0</td>\n",
       "      <td>Fantasy</td>\n",
       "      <td>(105.0, 124.0]</td>\n",
       "    </tr>\n",
       "    <tr>\n",
       "      <th>3</th>\n",
       "      <td>And Then There Were None</td>\n",
       "      <td>Agatha Christie</td>\n",
       "      <td>English</td>\n",
       "      <td>1939</td>\n",
       "      <td>100.0</td>\n",
       "      <td>Mystery</td>\n",
       "      <td>(86.0, 105.0]</td>\n",
       "    </tr>\n",
       "    <tr>\n",
       "      <th>4</th>\n",
       "      <td>Dream of the Red Chamber (紅樓夢)</td>\n",
       "      <td>Cao Xueqin</td>\n",
       "      <td>Chinese</td>\n",
       "      <td>1791</td>\n",
       "      <td>100.0</td>\n",
       "      <td>Novel</td>\n",
       "      <td>(86.0, 105.0]</td>\n",
       "    </tr>\n",
       "    <tr>\n",
       "      <th>5</th>\n",
       "      <td>The Hobbit</td>\n",
       "      <td>J. R. R. Tolkien</td>\n",
       "      <td>English</td>\n",
       "      <td>1937</td>\n",
       "      <td>100.0</td>\n",
       "      <td>Fantasy</td>\n",
       "      <td>(86.0, 105.0]</td>\n",
       "    </tr>\n",
       "    <tr>\n",
       "      <th>6</th>\n",
       "      <td>The Lion, the Witch and the Wardrobe</td>\n",
       "      <td>C. S. Lewis</td>\n",
       "      <td>English</td>\n",
       "      <td>1950</td>\n",
       "      <td>85.0</td>\n",
       "      <td>Fantasy</td>\n",
       "      <td>(67.0, 86.0]</td>\n",
       "    </tr>\n",
       "    <tr>\n",
       "      <th>7</th>\n",
       "      <td>She: A History of Adventure</td>\n",
       "      <td>H. Rider Haggard</td>\n",
       "      <td>English</td>\n",
       "      <td>1887</td>\n",
       "      <td>83.0</td>\n",
       "      <td>Adventure</td>\n",
       "      <td>(67.0, 86.0]</td>\n",
       "    </tr>\n",
       "    <tr>\n",
       "      <th>8</th>\n",
       "      <td>Vardi Wala Gunda (वर्दी वाला गुंडा)</td>\n",
       "      <td>Ved Prakash Sharma</td>\n",
       "      <td>Hindi</td>\n",
       "      <td>1992</td>\n",
       "      <td>80.0</td>\n",
       "      <td>Crime</td>\n",
       "      <td>(67.0, 86.0]</td>\n",
       "    </tr>\n",
       "    <tr>\n",
       "      <th>9</th>\n",
       "      <td>The Da Vinci Code</td>\n",
       "      <td>Dan Brown</td>\n",
       "      <td>English</td>\n",
       "      <td>2003</td>\n",
       "      <td>80.0</td>\n",
       "      <td>Thriller</td>\n",
       "      <td>(67.0, 86.0]</td>\n",
       "    </tr>\n",
       "    <tr>\n",
       "      <th>10</th>\n",
       "      <td>Harry Potter and the Chamber of Secrets</td>\n",
       "      <td>J. K. Rowling</td>\n",
       "      <td>English</td>\n",
       "      <td>1998</td>\n",
       "      <td>77.0</td>\n",
       "      <td>Fantasy</td>\n",
       "      <td>(67.0, 86.0]</td>\n",
       "    </tr>\n",
       "  </tbody>\n",
       "</table>\n",
       "</div>"
      ],
      "text/plain": [
       "                                        Book                 Author(s)  \\\n",
       "0                       A Tale of Two Cities           Charles Dickens   \n",
       "1        The Little Prince (Le Petit Prince)  Antoine de Saint-Exupéry   \n",
       "2   Harry Potter and the Philosopher's Stone             J. K. Rowling   \n",
       "3                   And Then There Were None           Agatha Christie   \n",
       "4             Dream of the Red Chamber (紅樓夢)                Cao Xueqin   \n",
       "5                                 The Hobbit          J. R. R. Tolkien   \n",
       "6       The Lion, the Witch and the Wardrobe               C. S. Lewis   \n",
       "7                She: A History of Adventure          H. Rider Haggard   \n",
       "8        Vardi Wala Gunda (वर्दी वाला गुंडा)        Ved Prakash Sharma   \n",
       "9                          The Da Vinci Code                 Dan Brown   \n",
       "10   Harry Potter and the Chamber of Secrets             J. K. Rowling   \n",
       "\n",
       "   Original language  First published  Approximate sales in millions  \\\n",
       "0            English             1859                          200.0   \n",
       "1             French             1943                          200.0   \n",
       "2            English             1997                          120.0   \n",
       "3            English             1939                          100.0   \n",
       "4            Chinese             1791                          100.0   \n",
       "5            English             1937                          100.0   \n",
       "6            English             1950                           85.0   \n",
       "7            English             1887                           83.0   \n",
       "8              Hindi             1992                           80.0   \n",
       "9            English             2003                           80.0   \n",
       "10           English             1998                           77.0   \n",
       "\n",
       "                 Genre      Sales Bins  \n",
       "0   Historical fiction  (181.0, 200.0]  \n",
       "1              Novella  (181.0, 200.0]  \n",
       "2              Fantasy  (105.0, 124.0]  \n",
       "3              Mystery   (86.0, 105.0]  \n",
       "4                Novel   (86.0, 105.0]  \n",
       "5              Fantasy   (86.0, 105.0]  \n",
       "6              Fantasy    (67.0, 86.0]  \n",
       "7            Adventure    (67.0, 86.0]  \n",
       "8                Crime    (67.0, 86.0]  \n",
       "9             Thriller    (67.0, 86.0]  \n",
       "10             Fantasy    (67.0, 86.0]  "
      ]
     },
     "execution_count": 231,
     "metadata": {},
     "output_type": "execute_result"
    }
   ],
   "source": [
    "#Determine outliers\n",
    "\n",
    "df[df['Approximate sales in millions'] >= 75.0]"
   ]
  },
  {
   "cell_type": "code",
   "execution_count": 204,
   "id": "vocal-redhead",
   "metadata": {},
   "outputs": [
    {
     "data": {
      "text/plain": [
       "Fantasy               4\n",
       "Historical fiction    1\n",
       "Novella               1\n",
       "Mystery               1\n",
       "Novel                 1\n",
       "Adventure             1\n",
       "Crime                 1\n",
       "Thriller              1\n",
       "Name: Genre, dtype: int64"
      ]
     },
     "execution_count": 204,
     "metadata": {},
     "output_type": "execute_result"
    }
   ],
   "source": [
    "df[df['Approximate sales in millions'] >= 75.0]['Genre'].value_counts()"
   ]
  },
  {
   "cell_type": "markdown",
   "id": "renewable-temple",
   "metadata": {},
   "source": [
    "In the top ten, there are four Fantasy books represented. The rest are single entries, solodifying Fantasy as the best selling genre (outside of Unknown)"
   ]
  },
  {
   "cell_type": "code",
   "execution_count": 205,
   "id": "brave-indication",
   "metadata": {},
   "outputs": [
    {
     "data": {
      "image/png": "[encoded data removed]",
      "text/plain": [
       "<Figure size 1296x576 with 1 Axes>"
      ]
     },
     "metadata": {
      "needs_background": "light"
     },
     "output_type": "display_data"
    }
   ],
   "source": [
    "#Determine the top 10 years with the most bestsellers\n",
    "\n",
    "top_years = df['First published'].value_counts().head(10)\n",
    "top_years = top_years.sort_values(ascending=False)\n",
    "\n",
    "plt.figure(figsize=(18, 8))\n",
    "sns.countplot(data=df[df['First published'].isin(top_years.index)], x='First published', order = top_years.index)\n",
    "plt.xticks(rotation=0)\n",
    "plt.show()"
   ]
  },
  {
   "cell_type": "code",
   "execution_count": 206,
   "id": "continuous-knife",
   "metadata": {},
   "outputs": [
    {
     "data": {
      "text/plain": [
       "38                                  Flowers in the Attic\n",
       "42                                         Kane and Abel\n",
       "112    The Neverending Story (Die unendliche Geschichte)\n",
       "125                 The Hitchhiker's Guide to the Galaxy\n",
       "161    Problems in China's Socialist Economy (中国社会主义经...\n",
       "Name: Book, dtype: object"
      ]
     },
     "execution_count": 206,
     "metadata": {},
     "output_type": "execute_result"
    }
   ],
   "source": [
    "#What are the bestseller titles in 1979?\n",
    "\n",
    "df[df['First published'] == 1979]['Book']"
   ]
  },
  {
   "cell_type": "code",
   "execution_count": 207,
   "id": "legislative-inclusion",
   "metadata": {},
   "outputs": [
    {
     "data": {
      "text/plain": [
       "38              Gothic novel\n",
       "42                     Novel\n",
       "112    Children's Literature\n",
       "125          Science fiction\n",
       "161           Social Science\n",
       "Name: Genre, dtype: object"
      ]
     },
     "execution_count": 207,
     "metadata": {},
     "output_type": "execute_result"
    }
   ],
   "source": [
    "df[df['First published'] == 1979]['Genre']"
   ]
  },
  {
   "cell_type": "code",
   "execution_count": 208,
   "id": "basic-repair",
   "metadata": {},
   "outputs": [
    {
     "data": {
      "text/plain": [
       "16     The Alchemist (O Alquimista)\n",
       "65          A Brief History of Time\n",
       "80                   Kitchen (キッチン)\n",
       "108                         Matilda\n",
       "Name: Book, dtype: object"
      ]
     },
     "execution_count": 208,
     "metadata": {},
     "output_type": "execute_result"
    }
   ],
   "source": [
    "#What are the bestseller titles in 1988?\n",
    "\n",
    "df[df['First published'] == 1988]['Book']"
   ]
  },
  {
   "cell_type": "code",
   "execution_count": 209,
   "id": "separate-funds",
   "metadata": {},
   "outputs": [
    {
     "data": {
      "text/plain": [
       "16                   Fantasy\n",
       "65           Popular science\n",
       "80                     Novel\n",
       "108    Children's Literature\n",
       "Name: Genre, dtype: object"
      ]
     },
     "execution_count": 209,
     "metadata": {},
     "output_type": "execute_result"
    }
   ],
   "source": [
    "df[df['First published'] == 1988]['Genre']"
   ]
  },
  {
   "cell_type": "code",
   "execution_count": 210,
   "id": "framed-residence",
   "metadata": {},
   "outputs": [],
   "source": [
    "#Bestsellers from the 20th century\n",
    "\n",
    "years_to_select = list(range(1900, 2000))\n",
    "twenty_cen = df[df['First published'].isin(years_to_select)]['Genre'].value_counts()"
   ]
  },
  {
   "cell_type": "code",
   "execution_count": 211,
   "id": "qualified-grave",
   "metadata": {},
   "outputs": [
    {
     "data": {
      "image/png": "[encoded data removed]",
      "text/plain": [
       "<Figure size 1440x720 with 1 Axes>"
      ]
     },
     "metadata": {},
     "output_type": "display_data"
    }
   ],
   "source": [
    "plt.figure(figsize=(20, 10))\n",
    "twenty_cen.plot(kind='pie', autopct='%1.1f%%', startangle=140)\n",
    "plt.axis('equal')  \n",
    "plt.show()"
   ]
  },
  {
   "cell_type": "code",
   "execution_count": 212,
   "id": "collect-laugh",
   "metadata": {},
   "outputs": [
    {
     "data": {
      "text/plain": [
       "9                                      The Da Vinci Code\n",
       "12                   Harry Potter and the Goblet of Fire\n",
       "13             Harry Potter and the Order of the Phoenix\n",
       "14                Harry Potter and the Half-Blood Prince\n",
       "15                  Harry Potter and the Deathly Hallows\n",
       "41                                       Angels & Demons\n",
       "49                               The Purpose Driven Life\n",
       "50                                       The Kite Runner\n",
       "59     The Girl with the Dragon Tattoo (Män som hatar...\n",
       "60                                       The Lost Symbol\n",
       "61                                      The Hunger Games\n",
       "72                                The Fault in Our Stars\n",
       "73                                 The Girl on the Train\n",
       "74                                             The Shack\n",
       "78                                         Catching Fire\n",
       "79                                            Mockingjay\n",
       "83                                             Gone Girl\n",
       "88                                      Wolf Totem (狼图腾)\n",
       "101                                           The Secret\n",
       "106                              Where the Crawdads Sing\n",
       "109                                       The Book Thief\n",
       "113                          All the Light We Cannot See\n",
       "114                                 Fifty Shades of Grey\n",
       "122        The Shadow of the Wind (La sombra del viento)\n",
       "123                              Interpreter of Maladies\n",
       "124                                             Becoming\n",
       "135                                        Me Before You\n",
       "142                       The Boy in the Striped Pyjamas\n",
       "145                                  Fifty Shades Darker\n",
       "150                                             The Help\n",
       "154                                     The Lovely Bones\n",
       "158                  Confucius from the Heart (于丹《论语》心得)\n",
       "163                                       The Dukan Diet\n",
       "166                  The Subtle Art of Not Giving a Fuck\n",
       "167                                           Life of Pi\n",
       "Name: Book, dtype: object"
      ]
     },
     "execution_count": 212,
     "metadata": {},
     "output_type": "execute_result"
    }
   ],
   "source": [
    "#Bestsellers from the 21st century\n",
    "\n",
    "years_to_select = [2000, 2001, 2002, 2003, 2004, 2005, 2006, 2007, 2008, 2009, 2010, 2011,\n",
    "                  2012, 2013, 2014, 2015, 2016, 2017, 2018, 2019, 2020, 2021, 2022, 2023]\n",
    "df[df['First published'].isin(years_to_select)]['Book']"
   ]
  },
  {
   "cell_type": "code",
   "execution_count": 213,
   "id": "proof-foster",
   "metadata": {},
   "outputs": [],
   "source": [
    "years_to_select = [2000, 2001, 2002, 2003, 2004, 2005, 2006, 2007, 2008, 2009, 2010, 2011,\n",
    "                  2012, 2013, 2014, 2015, 2016, 2017, 2018, 2019, 2020, 2021, 2022, 2023]\n",
    "twenty_first = df[df['First published'].isin(years_to_select)]['Genre'].value_counts()"
   ]
  },
  {
   "cell_type": "code",
   "execution_count": 214,
   "id": "reasonable-orleans",
   "metadata": {},
   "outputs": [
    {
     "data": {
      "image/png": "[encoded data removed]",
      "text/plain": [
       "<Figure size 1440x720 with 1 Axes>"
      ]
     },
     "metadata": {},
     "output_type": "display_data"
    }
   ],
   "source": [
    "#pie chart for the 21st_century\n",
    "\n",
    "plt.figure(figsize=(20, 10))\n",
    "twenty_first.plot(kind='pie', autopct='%1.1f%%', startangle=140)\n",
    "plt.axis('equal')  \n",
    "plt.show()"
   ]
  },
  {
   "cell_type": "markdown",
   "id": "classified-charity",
   "metadata": {},
   "source": [
    "The Novel has been the most popular genre from the 20th century on, with Young Adult fiction taking over Children's Literature as the second most lucrative genre. "
   ]
  },
  {
   "cell_type": "code",
   "execution_count": 215,
   "id": "neither-silly",
   "metadata": {},
   "outputs": [
    {
     "data": {
      "text/plain": [
       "31     Children's Literature\n",
       "100                Self-help\n",
       "131                    Novel\n",
       "Name: Genre, dtype: object"
      ]
     },
     "execution_count": 215,
     "metadata": {},
     "output_type": "execute_result"
    }
   ],
   "source": [
    "#Most popular genres in 1952?\n",
    "\n",
    "df[df['First published'] == 1952]['Genre']"
   ]
  },
  {
   "cell_type": "code",
   "execution_count": 216,
   "id": "artistic-official",
   "metadata": {},
   "outputs": [
    {
     "data": {
      "image/png": "[encoded data removed]",
      "text/plain": [
       "<Figure size 1296x576 with 1 Axes>"
      ]
     },
     "metadata": {
      "needs_background": "light"
     },
     "output_type": "display_data"
    }
   ],
   "source": [
    "#Top language\n",
    "\n",
    "top_language = df['Original language'].value_counts().head(10)\n",
    "top_language = top_language.sort_values(ascending=False)\n",
    "\n",
    "plt.figure(figsize=(18, 8))\n",
    "sns.countplot(data=df[df['Original language'].isin(top_language.index)], x='Original language', order = top_language.index)\n",
    "plt.xticks(rotation=0)\n",
    "plt.show()"
   ]
  },
  {
   "cell_type": "code",
   "execution_count": 217,
   "id": "bottom-recruitment",
   "metadata": {},
   "outputs": [
    {
     "data": {
      "image/png": "[encoded data removed]",
      "text/plain": [
       "<Figure size 1440x720 with 1 Axes>"
      ]
     },
     "metadata": {},
     "output_type": "display_data"
    }
   ],
   "source": [
    "plt.figure(figsize=(20, 10))\n",
    "top_language.plot(kind='pie', autopct='%1.1f%%', startangle=140)\n",
    "plt.axis('equal')  \n",
    "plt.show()"
   ]
  },
  {
   "cell_type": "markdown",
   "id": "bottom-model",
   "metadata": {},
   "source": [
    "English language books are the vast majority with 78.4% of sales"
   ]
  },
  {
   "cell_type": "code",
   "execution_count": 218,
   "id": "micro-digit",
   "metadata": {},
   "outputs": [
    {
     "data": {
      "image/png": "[encoded data removed]",
      "text/plain": [
       "<Figure size 1296x576 with 1 Axes>"
      ]
     },
     "metadata": {
      "needs_background": "light"
     },
     "output_type": "display_data"
    }
   ],
   "source": [
    "#Becasue English is so overrepresented, I removed English to get a better sense of the spread of language\n",
    "\n",
    "top_languages = df[df['Original language'] != 'English']['Original language'].value_counts().head(10)\n",
    "top_languages = top_languages.sort_values(ascending=False)\n",
    "\n",
    "plt.figure(figsize=(18, 8))\n",
    "sns.countplot(data=df[df['Original language'].isin(top_languages.index)], x='Original language', order=top_languages.index)\n",
    "plt.xticks(rotation=0)\n",
    "plt.show()"
   ]
  },
  {
   "cell_type": "code",
   "execution_count": 219,
   "id": "innovative-forwarding",
   "metadata": {},
   "outputs": [
    {
     "data": {
      "application/vnd.plotly.v1+json": {
       "config": {
        "plotlyServerURL": "https://plot.ly"
       },
       "data": [
        {
         "branchvalues": "total",
         "customdata": [
          [
           100
          ],
          [
           11.090909090909092
          ],
          [
           10
          ],
          [
           26
          ],
          [
           10
          ],
          [
           10
          ],
          [
           50
          ],
          [
           35
          ],
          [
           15.3
          ],
          [
           200
          ],
          [
           20
          ],
          [
           10
          ],
          [
           20
          ],
          [
           45
          ],
          [
           50
          ],
          [
           30
          ],
          [
           85
          ],
          [
           100
          ],
          [
           40
          ],
          [
           35
          ],
          [
           15
          ],
          [
           20
          ],
          [
           200
          ],
          [
           20
          ],
          [
           33
          ],
          [
           30
          ],
          [
           30
          ],
          [
           66.56302521008404
          ],
          [
           11.5
          ],
          [
           30
          ],
          [
           18
          ],
          [
           20
          ],
          [
           14
          ],
          [
           10.5
          ],
          [
           50
          ],
          [
           13.249999999999998
          ],
          [
           40
          ],
          [
           10
          ],
          [
           10
          ],
          [
           43
          ],
          [
           20
          ],
          [
           20
          ],
          [
           21
          ],
          [
           13
          ],
          [
           12.333333333333334
          ],
          [
           30
          ],
          [
           20
          ],
          [
           10
          ],
          [
           50
          ],
          [
           26
          ],
          [
           20
          ],
          [
           12.1
          ],
          [
           83
          ],
          [
           40
          ],
          [
           12
          ],
          [
           10
          ],
          [
           25
          ],
          [
           20
          ],
          [
           65
          ],
          [
           79.41379310344827
          ],
          [
           50
          ],
          [
           100
          ],
          [
           50
          ],
          [
           31
          ],
          [
           25
          ],
          [
           15
          ],
          [
           23
          ],
          [
           20
          ],
          [
           15
          ],
          [
           20
          ],
          [
           37
          ],
          [
           15
          ],
          [
           20
          ],
          [
           50
          ],
          [
           11
          ],
          [
           23
          ],
          [
           15
          ],
          [
           12
          ],
          [
           10
          ],
          [
           40
          ],
          [
           10.5
          ],
          [
           10
          ],
          [
           11
          ],
          [
           10
          ],
          [
           15
          ],
          [
           10
          ],
          [
           25
          ],
          [
           31.5
          ],
          [
           36
          ],
          [
           50
          ],
          [
           12
          ],
          [
           50
          ],
          [
           50
          ],
          [
           14
          ],
          [
           10
          ],
          [
           30
          ],
          [
           16
          ],
          [
           20
          ],
          [
           21
          ],
          [
           10
          ],
          [
           20
          ],
          [
           16
          ],
          [
           20
          ],
          [
           16
          ],
          [
           14
          ],
          [
           24
          ],
          [
           14
          ],
          [
           10
          ],
          [
           14
          ],
          [
           16
          ],
          [
           36.4
          ],
          [
           20
          ],
          [
           12
          ],
          [
           20
          ],
          [
           10
          ],
          [
           15
          ],
          [
           23
          ],
          [
           65
          ],
          [
           20
          ],
          [
           10
          ],
          [
           10
          ],
          [
           13
          ],
          [
           20
          ],
          [
           50
          ],
          [
           44
          ],
          [
           10
          ],
          [
           33
          ],
          [
           22.661538461538463
          ],
          [
           60
          ],
          [
           10
          ],
          [
           20
          ],
          [
           15
          ],
          [
           15
          ],
          [
           21
          ],
          [
           50
          ],
          [
           29
          ],
          [
           25
          ],
          [
           25
          ],
          [
           30
          ],
          [
           20
          ],
          [
           14
          ],
          [
           24.02857142857143
          ],
          [
           10
          ],
          [
           18
          ],
          [
           20
          ],
          [
           10
          ],
          [
           50
          ],
          [
           40
          ],
          [
           80
          ],
          [
           12
          ],
          [
           50
          ],
          [
           35
          ],
          [
           30
          ],
          [
           22.5
          ],
          [
           11
          ],
          [
           20
          ],
          [
           10
          ],
          [
           10
          ],
          [
           10
          ],
          [
           83
          ],
          [
           20
          ],
          [
           12.947368421052632
          ],
          [
           10
          ],
          [
           20
          ],
          [
           18
          ],
          [
           20.714285714285715
          ],
          [
           32.740625
          ],
          [
           41.75757575757576
          ],
          [
           21
          ],
          [
           33
          ],
          [
           20.51219512195122
          ],
          [
           80
          ],
          [
           13.249999999999998
          ],
          [
           80.81770145310436
          ],
          [
           35
          ],
          [
           65
          ],
          [
           35.714285714285715
          ],
          [
           35
          ],
          [
           133.99663941871026
          ],
          [
           50
          ],
          [
           36
          ],
          [
           11
          ],
          [
           33.333333333333336
          ],
          [
           100
          ],
          [
           100
          ],
          [
           20
          ],
          [
           30.05632547116578
          ],
          [
           18.48936170212766
          ],
          [
           17.857142857142858
          ],
          [
           14
          ],
          [
           15.636363636363637
          ],
          [
           40
          ],
          [
           31.472847682119202
          ],
          [
           37.666666666666664
          ],
          [
           25
          ],
          [
           10
          ],
          [
           200
          ],
          [
           11
          ],
          [
           11.5
          ],
          [
           34.23076923076923
          ],
          [
           20
          ],
          [
           41.26865671641791
          ],
          [
           17.529411764705884
          ],
          [
           20
          ],
          [
           34.41530054644809
          ],
          [
           10
          ],
          [
           50
          ],
          [
           10
          ],
          [
           16.666666666666668
          ],
          [
           12
          ],
          [
           10
          ],
          [
           54.629629629629626
          ],
          [
           20
          ],
          [
           21.47222222222222
          ],
          [
           26
          ],
          [
           75.71428571428571
          ],
          [
           20
          ],
          [
           35
          ],
          [
           52.74652042360061
          ],
          [
           159.4124513618677
          ],
          [
           31.194690265486727
          ],
          [
           10
          ],
          [
           68
          ],
          [
           36.68099547511312
          ],
          [
           15.444444444444445
          ],
          [
           33.333333333333336
          ],
          [
           65
          ],
          [
           28.84920440636475
          ],
          [
           37.666666666666664
          ],
          [
           25
          ],
          [
           10
          ]
         ],
         "domain": {
          "x": [
           0,
           1
          ],
          "y": [
           0,
           1
          ]
         },
         "hovertemplate": "labels=%{label}<br>Approximate sales in millions_sum=%{value}<br>parent=%{parent}<br>id=%{id}<br>Approximate sales in millions=%{color}<extra></extra>",
         "ids": [
          "English/Mystery/Agatha Christie",
          "French/Novel/Albert Camus",
          "English/Social Science/Alex Comfort",
          "Russian/Young Adult/Alexander Alexandrovich Fadeyev",
          "English/Novel/Alice Sebold",
          "English/Biography/Andrew Morton",
          "English/Children's Literature/Anna Sewell",
          "Dutch/Historical fiction/Anne Frank",
          "English/Historical fiction/Anthony Doerr",
          "French/Novella/Antoine de Saint-Exupéry",
          "English/Pregnancy guide/Arlene Eisenberg and Heidi Murkoff",
          "Swedish/Novel/Astrid Lindgren",
          "Japanese/Novel/Banana Yoshimoto",
          "English/Children's Literature/Beatrix Potter",
          "English/Self-help/Benjamin Spock",
          "English/Self-help/Bill Wilson",
          "English/Fantasy/C. S. Lewis",
          "Chinese/Novel/Cao Xueqin",
          "English/Popular science/Carl Sagan",
          "Italian/Fantasy/Carlo Collodi",
          "Spanish/Novel/Carlos Ruiz Zafón",
          "English/Historical fiction/Charles Berlitz",
          "English/Historical fiction/Charles Dickens",
          "English/Novel/Chinua Achebe",
          "English/Romance/Colleen McCullough",
          "English/Self-help/Dale Carnegie",
          "English/Novel/Dan Brown",
          "English/Thriller/Dan Brown",
          "Italian/Poetry/Dante Alighieri",
          "English/Gothic novel/Daphne du Maurier",
          "English/Novel/Delia Owens",
          "English/Social Science/Desmond Morris",
          "English/Science fiction/Douglas Adams",
          "English/Children's Literature/Dr. Seuss",
          "English/Children's Literature/E. B. White; illustrated by Garth Williams",
          "English/Erotica/E. L. James",
          "English/Memoir/Elbert Hubbard",
          "Yiddish/Novel/Elie Wiesel",
          "English/Self-help/Eliyahu M. Goldratt",
          "English/Children's Literature/Eric Carle",
          "English/Romance/Erica Jong",
          "German/Novel/Erich Maria Remarque",
          "English/Romance/Erich Segal",
          "English/Novel/Ernest Hemingway",
          "English/Novel/Erskine Caldwell",
          "English/Novel/F. Scott Fitzgerald",
          "English/Science fiction/Frank Herbert",
          "English/Autobiography/Frank McCourt",
          "Spanish/Novel/Gabriel García Márquez",
          "English/Novel/George Orwell",
          "English/Crime/Gillian Flynn",
          "English/Novel/Grace Metalious",
          "English/Adventure/H. Rider Haggard",
          "English/Novel/Harper Lee",
          "Japanese/Novel/Haruki Murakami",
          "English/Novel/Helen Fielding",
          "English/Biography/Irving Stone",
          "Russian/Science fiction/Ivan Yefremov",
          "English/Novel/J. D. Salinger",
          "English/Fantasy/J. K. Rowling",
          "English/Novel/J. P. Donleavy",
          "English/Fantasy/J. R. R. Tolkien",
          "English/Novel/Jack Higgins",
          "English/Novel/Jacqueline Susann",
          "French/Novel/Jacques-Henri Bernardin de Saint-Pierre",
          "English/Novel/James Clavell",
          "English/Novel/James Redfield",
          "English/Novel/Jane Austen",
          "English/Children's Literature/Janette Sebring Lowrey",
          "Czech/Novel/Jaroslav Hašek",
          "English/Novel/Jeffrey Archer",
          "English/Novel/Jhumpa Lahiri",
          "Chinese/Autobiography/Jiang Rong",
          "German/Children's Literature/Johanna Spyri",
          "English/Children's Literature/John Boyne",
          "English/Young Adult/John Green",
          "English/Novel/John Steinbeck",
          "English/Novel/Jojo Moyes",
          "English/Novel/Joseph Heller",
          "Norwegian/Novel/Jostein Gaarder",
          "English/Children's Literature/Julia Donaldson",
          "English/Novel/Jung Chang",
          "English/Poetry/Kahlil Gibran",
          "English/Novel/Kathryn Stockett",
          "English/Historical fiction/Ken Follett",
          "English/Novel/Ken Follett",
          "English/Children's Literature/Kenneth Grahame",
          "English/Novel/Khaled Hosseini",
          "Russian/Historical fiction/Leo Tolstoy",
          "English/Historical fiction/Lew Wallace",
          "English/Novel/Lois Lowry",
          "English/Self-help/Louise Hay",
          "English/Children's Literature/Lucy Maud Montgomery",
          "English/Children's Literature/Madeleine L'Engle",
          "English/Novel/Marabel Morgan",
          "English/Historical fiction/Margaret Mitchell",
          "English/Children's Literature/Margaret Wise Brown",
          "English/Novel/Marilyn French",
          "English/Crime/Mario Puzo",
          "English/Self-help/Mark Manson",
          "English/Novel/Mark Twain",
          "English/Young Adult/Markus Zusak",
          "English/Children's Literature/Maurice Sendak",
          "German/Children's Literature/Michael Ende",
          "English/Autobiography/Michelle Obama",
          "Russian/Novel/Mikhail Sholokhov",
          "English/Novel/Mitch Albom",
          "Gujarati/Autobiography/Mohandas Karamchand Gandhi",
          "English/Autobiography/Nelson Mandela",
          "English/Novel/Nicholas Evans",
          "Russian/Novel/Nikolai Ostrovsky",
          "English/Self-help/Norman Vincent Peale",
          "Japanese/Novel/Osamu Dazai",
          "Hindi/Autobiography/Paramahansa Yogananda",
          "English/Novel/Patricia Nell Warren",
          "German/Novel/Patrick Süskind",
          "English/Thriller/Paula Hawkins",
          "Portuguese/Fantasy/Paulo Coelho",
          "English/Thriller/Peter Benchley",
          "French/Self-help/Pierre Dukan",
          "English/Novel/Ray Bradbury",
          "English/Self-help/Raymond Moody",
          "English/Self-help/Rhonda Byrne",
          "English/Fantasy/Richard Adams",
          "English/Self-help/Richard Bach",
          "English/Children's Literature/Richard Nelson Bolles",
          "English/Christian literature/Rick Warren",
          "English/Children's Literature/Roald Dahl",
          "English/Romance/Robert James Waller",
          "English/Children's Literature/Robert L. Short",
          "English/Children's Literature/Robert Munsch",
          "English/Young Adult/S. E. Hinton",
          "English/Children's Literature/Sam McBratney",
          "Russian/Children's Literature/Sergey Mikhalkov",
          "English/Sexology/Shere Hite",
          "English/Self-help/Spencer Johnson",
          "English/Popular science/Stephen Hawking",
          "English/Self-help/Stephen R. Covey",
          "Swedish/Novel/Stieg Larsson",
          "English/Young Adult/Sue Townsend",
          "Italian/Novel/Susanna Tamaro",
          "English/Young Adult/Suzanne Collins",
          "Japanese/Social Science/Taichi Sakaiya",
          "Japanese/Autobiography/Tetsuko Kuroyanagi",
          "Norwegian/Travel literature/Thor Heyerdahl",
          "Spanish/Novel/Tomás Eloy Martínez",
          "Italian/Historical fiction/Umberto Eco",
          "English/Gothic novel/V. C. Andrews",
          "Hindi/Crime/Ved Prakash Sharma",
          "German/Social Science/Viktor Frankl",
          "English/Novel/Vladimir Nabokov",
          "English/Self-help/Wayne Dyer",
          "English/Novel/William Bradford Huie",
          "English/Novel/William P. Young",
          "English/Horror/William Peter Blatty",
          "English/Memoir/Xaviera Hollander",
          "Chinese/Social Science/Xue Muqiao",
          "English/Novel/Yann Martel",
          "Chinese/Social Science/Yu Dan",
          "English/Adventure",
          "Chinese/Autobiography",
          "English/Autobiography",
          "Gujarati/Autobiography",
          "Hindi/Autobiography",
          "Japanese/Autobiography",
          "English/Biography",
          "English/Children's Literature",
          "German/Children's Literature",
          "Russian/Children's Literature",
          "English/Christian literature",
          "English/Crime",
          "Hindi/Crime",
          "English/Erotica",
          "English/Fantasy",
          "Italian/Fantasy",
          "Portuguese/Fantasy",
          "English/Gothic novel",
          "Dutch/Historical fiction",
          "English/Historical fiction",
          "Italian/Historical fiction",
          "Russian/Historical fiction",
          "English/Horror",
          "English/Memoir",
          "English/Mystery",
          "Chinese/Novel",
          "Czech/Novel",
          "English/Novel",
          "French/Novel",
          "German/Novel",
          "Italian/Novel",
          "Japanese/Novel",
          "Norwegian/Novel",
          "Russian/Novel",
          "Spanish/Novel",
          "Swedish/Novel",
          "Yiddish/Novel",
          "French/Novella",
          "English/Poetry",
          "Italian/Poetry",
          "English/Popular science",
          "English/Pregnancy guide",
          "English/Romance",
          "English/Science fiction",
          "Russian/Science fiction",
          "English/Self-help",
          "French/Self-help",
          "English/Sexology",
          "Chinese/Social Science",
          "English/Social Science",
          "German/Social Science",
          "Japanese/Social Science",
          "English/Thriller",
          "Norwegian/Travel literature",
          "English/Young Adult",
          "Russian/Young Adult",
          "Chinese",
          "Czech",
          "Dutch",
          "English",
          "French",
          "German",
          "Gujarati",
          "Hindi",
          "Italian",
          "Japanese",
          "Norwegian",
          "Portuguese",
          "Russian",
          "Spanish",
          "Swedish",
          "Yiddish"
         ],
         "labels": [
          "Agatha Christie",
          "Albert Camus",
          "Alex Comfort",
          "Alexander Alexandrovich Fadeyev",
          "Alice Sebold",
          "Andrew Morton",
          "Anna Sewell",
          "Anne Frank",
          "Anthony Doerr",
          "Antoine de Saint-Exupéry",
          "Arlene Eisenberg and Heidi Murkoff",
          "Astrid Lindgren",
          "Banana Yoshimoto",
          "Beatrix Potter",
          "Benjamin Spock",
          "Bill Wilson",
          "C. S. Lewis",
          "Cao Xueqin",
          "Carl Sagan",
          "Carlo Collodi",
          "Carlos Ruiz Zafón",
          "Charles Berlitz",
          "Charles Dickens",
          "Chinua Achebe",
          "Colleen McCullough",
          "Dale Carnegie",
          "Dan Brown",
          "Dan Brown",
          "Dante Alighieri",
          "Daphne du Maurier",
          "Delia Owens",
          "Desmond Morris",
          "Douglas Adams",
          "Dr. Seuss",
          "E. B. White; illustrated by Garth Williams",
          "E. L. James",
          "Elbert Hubbard",
          "Elie Wiesel",
          "Eliyahu M. Goldratt",
          "Eric Carle",
          "Erica Jong",
          "Erich Maria Remarque",
          "Erich Segal",
          "Ernest Hemingway",
          "Erskine Caldwell",
          "F. Scott Fitzgerald",
          "Frank Herbert",
          "Frank McCourt",
          "Gabriel García Márquez",
          "George Orwell",
          "Gillian Flynn",
          "Grace Metalious",
          "H. Rider Haggard",
          "Harper Lee",
          "Haruki Murakami",
          "Helen Fielding",
          "Irving Stone",
          "Ivan Yefremov",
          "J. D. Salinger",
          "J. K. Rowling",
          "J. P. Donleavy",
          "J. R. R. Tolkien",
          "Jack Higgins",
          "Jacqueline Susann",
          "Jacques-Henri Bernardin de Saint-Pierre",
          "James Clavell",
          "James Redfield",
          "Jane Austen",
          "Janette Sebring Lowrey",
          "Jaroslav Hašek",
          "Jeffrey Archer",
          "Jhumpa Lahiri",
          "Jiang Rong",
          "Johanna Spyri",
          "John Boyne",
          "John Green",
          "John Steinbeck",
          "Jojo Moyes",
          "Joseph Heller",
          "Jostein Gaarder",
          "Julia Donaldson",
          "Jung Chang",
          "Kahlil Gibran",
          "Kathryn Stockett",
          "Ken Follett",
          "Ken Follett",
          "Kenneth Grahame",
          "Khaled Hosseini",
          "Leo Tolstoy",
          "Lew Wallace",
          "Lois Lowry",
          "Louise Hay",
          "Lucy Maud Montgomery",
          "Madeleine L'Engle",
          "Marabel Morgan",
          "Margaret Mitchell",
          "Margaret Wise Brown",
          "Marilyn French",
          "Mario Puzo",
          "Mark Manson",
          "Mark Twain",
          "Markus Zusak",
          "Maurice Sendak",
          "Michael Ende",
          "Michelle Obama",
          "Mikhail Sholokhov",
          "Mitch Albom",
          "Mohandas Karamchand Gandhi",
          "Nelson Mandela",
          "Nicholas Evans",
          "Nikolai Ostrovsky",
          "Norman Vincent Peale",
          "Osamu Dazai",
          "Paramahansa Yogananda",
          "Patricia Nell Warren",
          "Patrick Süskind",
          "Paula Hawkins",
          "Paulo Coelho",
          "Peter Benchley",
          "Pierre Dukan",
          "Ray Bradbury",
          "Raymond Moody",
          "Rhonda Byrne",
          "Richard Adams",
          "Richard Bach",
          "Richard Nelson Bolles",
          "Rick Warren",
          "Roald Dahl",
          "Robert James Waller",
          "Robert L. Short",
          "Robert Munsch",
          "S. E. Hinton",
          "Sam McBratney",
          "Sergey Mikhalkov",
          "Shere Hite",
          "Spencer Johnson",
          "Stephen Hawking",
          "Stephen R. Covey",
          "Stieg Larsson",
          "Sue Townsend",
          "Susanna Tamaro",
          "Suzanne Collins",
          "Taichi Sakaiya",
          "Tetsuko Kuroyanagi",
          "Thor Heyerdahl",
          "Tomás Eloy Martínez",
          "Umberto Eco",
          "V. C. Andrews",
          "Ved Prakash Sharma",
          "Viktor Frankl",
          "Vladimir Nabokov",
          "Wayne Dyer",
          "William Bradford Huie",
          "William P. Young",
          "William Peter Blatty",
          "Xaviera Hollander",
          "Xue Muqiao",
          "Yann Martel",
          "Yu Dan",
          "Adventure",
          "Autobiography",
          "Autobiography",
          "Autobiography",
          "Autobiography",
          "Autobiography",
          "Biography",
          "Children's Literature",
          "Children's Literature",
          "Children's Literature",
          "Christian literature",
          "Crime",
          "Crime",
          "Erotica",
          "Fantasy",
          "Fantasy",
          "Fantasy",
          "Gothic novel",
          "Historical fiction",
          "Historical fiction",
          "Historical fiction",
          "Historical fiction",
          "Horror",
          "Memoir",
          "Mystery",
          "Novel",
          "Novel",
          "Novel",
          "Novel",
          "Novel",
          "Novel",
          "Novel",
          "Novel",
          "Novel",
          "Novel",
          "Novel",
          "Novel",
          "Novella",
          "Poetry",
          "Poetry",
          "Popular science",
          "Pregnancy guide",
          "Romance",
          "Science fiction",
          "Science fiction",
          "Self-help",
          "Self-help",
          "Sexology",
          "Social Science",
          "Social Science",
          "Social Science",
          "Social Science",
          "Thriller",
          "Travel literature",
          "Young Adult",
          "Young Adult",
          "Chinese",
          "Czech",
          "Dutch",
          "English",
          "French",
          "German",
          "Gujarati",
          "Hindi",
          "Italian",
          "Japanese",
          "Norwegian",
          "Portuguese",
          "Russian",
          "Spanish",
          "Swedish",
          "Yiddish"
         ],
         "marker": {
          "coloraxis": "coloraxis",
          "colors": [
           100,
           11.090909090909092,
           10,
           26,
           10,
           10,
           50,
           35,
           15.3,
           200,
           20,
           10,
           20,
           45,
           50,
           30,
           85,
           100,
           40,
           35,
           15,
           20,
           200,
           20,
           33,
           30,
           30,
           66.56302521008404,
           11.5,
           30,
           18,
           20,
           14,
           10.5,
           50,
           13.249999999999998,
           40,
           10,
           10,
           43,
           20,
           20,
           21,
           13,
           12.333333333333334,
           30,
           20,
           10,
           50,
           26,
           20,
           12.1,
           83,
           40,
           12,
           10,
           25,
           20,
           65,
           79.41379310344827,
           50,
           100,
           50,
           31,
           25,
           15,
           23,
           20,
           15,
           20,
           37,
           15,
           20,
           50,
           11,
           23,
           15,
           12,
           10,
           40,
           10.5,
           10,
           11,
           10,
           15,
           10,
           25,
           31.5,
           36,
           50,
           12,
           50,
           50,
           14,
           10,
           30,
           16,
           20,
           21,
           10,
           20,
           16,
           20,
           16,
           14,
           24,
           14,
           10,
           14,
           16,
           36.4,
           20,
           12,
           20,
           10,
           15,
           23,
           65,
           20,
           10,
           10,
           13,
           20,
           50,
           44,
           10,
           33,
           22.661538461538463,
           60,
           10,
           20,
           15,
           15,
           21,
           50,
           29,
           25,
           25,
           30,
           20,
           14,
           24.02857142857143,
           10,
           18,
           20,
           10,
           50,
           40,
           80,
           12,
           50,
           35,
           30,
           22.5,
           11,
           20,
           10,
           10,
           10,
           83,
           20,
           12.947368421052632,
           10,
           20,
           18,
           20.714285714285715,
           32.740625,
           41.75757575757576,
           21,
           33,
           20.51219512195122,
           80,
           13.249999999999998,
           80.81770145310436,
           35,
           65,
           35.714285714285715,
           35,
           133.99663941871026,
           50,
           36,
           11,
           33.333333333333336,
           100,
           100,
           20,
           30.05632547116578,
           18.48936170212766,
           17.857142857142858,
           14,
           15.636363636363637,
           40,
           31.472847682119202,
           37.666666666666664,
           25,
           10,
           200,
           11,
           11.5,
           34.23076923076923,
           20,
           41.26865671641791,
           17.529411764705884,
           20,
           34.41530054644809,
           10,
           50,
           10,
           16.666666666666668,
           12,
           10,
           54.629629629629626,
           20,
           21.47222222222222,
           26,
           75.71428571428571,
           20,
           35,
           52.74652042360061,
           159.4124513618677,
           31.194690265486727,
           10,
           68,
           36.68099547511312,
           15.444444444444445,
           33.333333333333336,
           65,
           28.84920440636475,
           37.666666666666664,
           25,
           10
          ]
         },
         "name": "",
         "parents": [
          "English/Mystery",
          "French/Novel",
          "English/Social Science",
          "Russian/Young Adult",
          "English/Novel",
          "English/Biography",
          "English/Children's Literature",
          "Dutch/Historical fiction",
          "English/Historical fiction",
          "French/Novella",
          "English/Pregnancy guide",
          "Swedish/Novel",
          "Japanese/Novel",
          "English/Children's Literature",
          "English/Self-help",
          "English/Self-help",
          "English/Fantasy",
          "Chinese/Novel",
          "English/Popular science",
          "Italian/Fantasy",
          "Spanish/Novel",
          "English/Historical fiction",
          "English/Historical fiction",
          "English/Novel",
          "English/Romance",
          "English/Self-help",
          "English/Novel",
          "English/Thriller",
          "Italian/Poetry",
          "English/Gothic novel",
          "English/Novel",
          "English/Social Science",
          "English/Science fiction",
          "English/Children's Literature",
          "English/Children's Literature",
          "English/Erotica",
          "English/Memoir",
          "Yiddish/Novel",
          "English/Self-help",
          "English/Children's Literature",
          "English/Romance",
          "German/Novel",
          "English/Romance",
          "English/Novel",
          "English/Novel",
          "English/Novel",
          "English/Science fiction",
          "English/Autobiography",
          "Spanish/Novel",
          "English/Novel",
          "English/Crime",
          "English/Novel",
          "English/Adventure",
          "English/Novel",
          "Japanese/Novel",
          "English/Novel",
          "English/Biography",
          "Russian/Science fiction",
          "English/Novel",
          "English/Fantasy",
          "English/Novel",
          "English/Fantasy",
          "English/Novel",
          "English/Novel",
          "French/Novel",
          "English/Novel",
          "English/Novel",
          "English/Novel",
          "English/Children's Literature",
          "Czech/Novel",
          "English/Novel",
          "English/Novel",
          "Chinese/Autobiography",
          "German/Children's Literature",
          "English/Children's Literature",
          "English/Young Adult",
          "English/Novel",
          "English/Novel",
          "English/Novel",
          "Norwegian/Novel",
          "English/Children's Literature",
          "English/Novel",
          "English/Poetry",
          "English/Novel",
          "English/Historical fiction",
          "English/Novel",
          "English/Children's Literature",
          "English/Novel",
          "Russian/Historical fiction",
          "English/Historical fiction",
          "English/Novel",
          "English/Self-help",
          "English/Children's Literature",
          "English/Children's Literature",
          "English/Novel",
          "English/Historical fiction",
          "English/Children's Literature",
          "English/Novel",
          "English/Crime",
          "English/Self-help",
          "English/Novel",
          "English/Young Adult",
          "English/Children's Literature",
          "German/Children's Literature",
          "English/Autobiography",
          "Russian/Novel",
          "English/Novel",
          "Gujarati/Autobiography",
          "English/Autobiography",
          "English/Novel",
          "Russian/Novel",
          "English/Self-help",
          "Japanese/Novel",
          "Hindi/Autobiography",
          "English/Novel",
          "German/Novel",
          "English/Thriller",
          "Portuguese/Fantasy",
          "English/Thriller",
          "French/Self-help",
          "English/Novel",
          "English/Self-help",
          "English/Self-help",
          "English/Fantasy",
          "English/Self-help",
          "English/Children's Literature",
          "English/Christian literature",
          "English/Children's Literature",
          "English/Romance",
          "English/Children's Literature",
          "English/Children's Literature",
          "English/Young Adult",
          "English/Children's Literature",
          "Russian/Children's Literature",
          "English/Sexology",
          "English/Self-help",
          "English/Popular science",
          "English/Self-help",
          "Swedish/Novel",
          "English/Young Adult",
          "Italian/Novel",
          "English/Young Adult",
          "Japanese/Social Science",
          "Japanese/Autobiography",
          "Norwegian/Travel literature",
          "Spanish/Novel",
          "Italian/Historical fiction",
          "English/Gothic novel",
          "Hindi/Crime",
          "German/Social Science",
          "English/Novel",
          "English/Self-help",
          "English/Novel",
          "English/Novel",
          "English/Horror",
          "English/Memoir",
          "Chinese/Social Science",
          "English/Novel",
          "Chinese/Social Science",
          "English",
          "Chinese",
          "English",
          "Gujarati",
          "Hindi",
          "Japanese",
          "English",
          "English",
          "German",
          "Russian",
          "English",
          "English",
          "Hindi",
          "English",
          "English",
          "Italian",
          "Portuguese",
          "English",
          "Dutch",
          "English",
          "Italian",
          "Russian",
          "English",
          "English",
          "English",
          "Chinese",
          "Czech",
          "English",
          "French",
          "German",
          "Italian",
          "Japanese",
          "Norwegian",
          "Russian",
          "Spanish",
          "Swedish",
          "Yiddish",
          "French",
          "English",
          "Italian",
          "English",
          "English",
          "English",
          "English",
          "Russian",
          "English",
          "French",
          "English",
          "Chinese",
          "English",
          "German",
          "Japanese",
          "English",
          "Norwegian",
          "English",
          "Russian",
          "",
          "",
          "",
          "",
          "",
          "",
          "",
          "",
          "",
          "",
          "",
          "",
          "",
          "",
          "",
          ""
         ],
         "type": "sunburst",
         "values": [
          100,
          22,
          10,
          26,
          10,
          10,
          50,
          35,
          15.3,
          200,
          20,
          10,
          20,
          45,
          50,
          30,
          85,
          100,
          40,
          35,
          15,
          20,
          200,
          20,
          33,
          30,
          30,
          119,
          11.5,
          30,
          18,
          20,
          14,
          10.5,
          50,
          25.6,
          40,
          10,
          10,
          43,
          20,
          20,
          21,
          13,
          24,
          30,
          20,
          10,
          50,
          50,
          20,
          12.1,
          83,
          40,
          12,
          10,
          25,
          20,
          65,
          522,
          50,
          100,
          50,
          31,
          25,
          15,
          23,
          20,
          15,
          20,
          37,
          15,
          20,
          50,
          11,
          23,
          15,
          12,
          10,
          40,
          10.5,
          10,
          11,
          10,
          15,
          10,
          25,
          31.5,
          36,
          50,
          12,
          50,
          50,
          14,
          10,
          30,
          16,
          20,
          21,
          10,
          20,
          16,
          20,
          16,
          14,
          24,
          14,
          10,
          14,
          16,
          36.4,
          20,
          12,
          20,
          10,
          15,
          23,
          65,
          20,
          10,
          10,
          13,
          20,
          50,
          44,
          10,
          33,
          65,
          60,
          10,
          20,
          15,
          15,
          21,
          50,
          29,
          25,
          25,
          30,
          20,
          14,
          70,
          10,
          18,
          20,
          10,
          50,
          40,
          80,
          12,
          50,
          35,
          30,
          22.5,
          11,
          20,
          10,
          10,
          10,
          83,
          20,
          38,
          10,
          20,
          18,
          35,
          480,
          66,
          21,
          33,
          41,
          80,
          25.6,
          757,
          35,
          65,
          70,
          35,
          330.3,
          50,
          36,
          11,
          60,
          100,
          100,
          20,
          886.1,
          47,
          35,
          14,
          44,
          40,
          60.4,
          75,
          40,
          10,
          200,
          11,
          11.5,
          65,
          20,
          134,
          34,
          20,
          366,
          10,
          50,
          20,
          30,
          12,
          10,
          162,
          20,
          144,
          26,
          140,
          20,
          35,
          3966,
          257,
          113,
          10,
          100,
          110.5,
          72,
          60,
          65,
          163.4,
          75,
          40,
          10
         ]
        }
       ],
       "layout": {
        "coloraxis": {
         "colorbar": {
          "title": {
           "text": "Approximate sales in millions"
          }
         },
         "colorscale": [
          [
           0,
           "#0d0887"
          ],
          [
           0.1111111111111111,
           "#46039f"
          ],
          [
           0.2222222222222222,
           "#7201a8"
          ],
          [
           0.3333333333333333,
           "#9c179e"
          ],
          [
           0.4444444444444444,
           "#bd3786"
          ],
          [
           0.5555555555555556,
           "#d8576b"
          ],
          [
           0.6666666666666666,
           "#ed7953"
          ],
          [
           0.7777777777777778,
           "#fb9f3a"
          ],
          [
           0.8888888888888888,
           "#fdca26"
          ],
          [
           1,
           "#f0f921"
          ]
         ]
        },
        "height": 1200,
        "legend": {
         "tracegroupgap": 0
        },
        "margin": {
         "t": 60
        },
        "template": {
         "data": {
          "bar": [
           {
            "error_x": {
             "color": "#2a3f5f"
            },
            "error_y": {
             "color": "#2a3f5f"
            },
            "marker": {
             "line": {
              "color": "#E5ECF6",
              "width": 0.5
             },
             "pattern": {
              "fillmode": "overlay",
              "size": 10,
              "solidity": 0.2
             }
            },
            "type": "bar"
           }
          ],
          "barpolar": [
           {
            "marker": {
             "line": {
              "color": "#E5ECF6",
              "width": 0.5
             },
             "pattern": {
              "fillmode": "overlay",
              "size": 10,
              "solidity": 0.2
             }
            },
            "type": "barpolar"
           }
          ],
          "carpet": [
           {
            "aaxis": {
             "endlinecolor": "#2a3f5f",
             "gridcolor": "white",
             "linecolor": "white",
             "minorgridcolor": "white",
             "startlinecolor": "#2a3f5f"
            },
            "baxis": {
             "endlinecolor": "#2a3f5f",
             "gridcolor": "white",
             "linecolor": "white",
             "minorgridcolor": "white",
             "startlinecolor": "#2a3f5f"
            },
            "type": "carpet"
           }
          ],
          "choropleth": [
           {
            "colorbar": {
             "outlinewidth": 0,
             "ticks": ""
            },
            "type": "choropleth"
           }
          ],
          "contour": [
           {
            "colorbar": {
             "outlinewidth": 0,
             "ticks": ""
            },
            "colorscale": [
             [
              0,
              "#0d0887"
             ],
             [
              0.1111111111111111,
              "#46039f"
             ],
             [
              0.2222222222222222,
              "#7201a8"
             ],
             [
              0.3333333333333333,
              "#9c179e"
             ],
             [
              0.4444444444444444,
              "#bd3786"
             ],
             [
              0.5555555555555556,
              "#d8576b"
             ],
             [
              0.6666666666666666,
              "#ed7953"
             ],
             [
              0.7777777777777778,
              "#fb9f3a"
             ],
             [
              0.8888888888888888,
              "#fdca26"
             ],
             [
              1,
              "#f0f921"
             ]
            ],
            "type": "contour"
           }
          ],
          "contourcarpet": [
           {
            "colorbar": {
             "outlinewidth": 0,
             "ticks": ""
            },
            "type": "contourcarpet"
           }
          ],
          "heatmap": [
           {
            "colorbar": {
             "outlinewidth": 0,
             "ticks": ""
            },
            "colorscale": [
             [
              0,
              "#0d0887"
             ],
             [
              0.1111111111111111,
              "#46039f"
             ],
             [
              0.2222222222222222,
              "#7201a8"
             ],
             [
              0.3333333333333333,
              "#9c179e"
             ],
             [
              0.4444444444444444,
              "#bd3786"
             ],
             [
              0.5555555555555556,
              "#d8576b"
             ],
             [
              0.6666666666666666,
              "#ed7953"
             ],
             [
              0.7777777777777778,
              "#fb9f3a"
             ],
             [
              0.8888888888888888,
              "#fdca26"
             ],
             [
              1,
              "#f0f921"
             ]
            ],
            "type": "heatmap"
           }
          ],
          "heatmapgl": [
           {
            "colorbar": {
             "outlinewidth": 0,
             "ticks": ""
            },
            "colorscale": [
             [
              0,
              "#0d0887"
             ],
             [
              0.1111111111111111,
              "#46039f"
             ],
             [
              0.2222222222222222,
              "#7201a8"
             ],
             [
              0.3333333333333333,
              "#9c179e"
             ],
             [
              0.4444444444444444,
              "#bd3786"
             ],
             [
              0.5555555555555556,
              "#d8576b"
             ],
             [
              0.6666666666666666,
              "#ed7953"
             ],
             [
              0.7777777777777778,
              "#fb9f3a"
             ],
             [
              0.8888888888888888,
              "#fdca26"
             ],
             [
              1,
              "#f0f921"
             ]
            ],
            "type": "heatmapgl"
           }
          ],
          "histogram": [
           {
            "marker": {
             "pattern": {
              "fillmode": "overlay",
              "size": 10,
              "solidity": 0.2
             }
            },
            "type": "histogram"
           }
          ],
          "histogram2d": [
           {
            "colorbar": {
             "outlinewidth": 0,
             "ticks": ""
            },
            "colorscale": [
             [
              0,
              "#0d0887"
             ],
             [
              0.1111111111111111,
              "#46039f"
             ],
             [
              0.2222222222222222,
              "#7201a8"
             ],
             [
              0.3333333333333333,
              "#9c179e"
             ],
             [
              0.4444444444444444,
              "#bd3786"
             ],
             [
              0.5555555555555556,
              "#d8576b"
             ],
             [
              0.6666666666666666,
              "#ed7953"
             ],
             [
              0.7777777777777778,
              "#fb9f3a"
             ],
             [
              0.8888888888888888,
              "#fdca26"
             ],
             [
              1,
              "#f0f921"
             ]
            ],
            "type": "histogram2d"
           }
          ],
          "histogram2dcontour": [
           {
            "colorbar": {
             "outlinewidth": 0,
             "ticks": ""
            },
            "colorscale": [
             [
              0,
              "#0d0887"
             ],
             [
              0.1111111111111111,
              "#46039f"
             ],
             [
              0.2222222222222222,
              "#7201a8"
             ],
             [
              0.3333333333333333,
              "#9c179e"
             ],
             [
              0.4444444444444444,
              "#bd3786"
             ],
             [
              0.5555555555555556,
              "#d8576b"
             ],
             [
              0.6666666666666666,
              "#ed7953"
             ],
             [
              0.7777777777777778,
              "#fb9f3a"
             ],
             [
              0.8888888888888888,
              "#fdca26"
             ],
             [
              1,
              "#f0f921"
             ]
            ],
            "type": "histogram2dcontour"
           }
          ],
          "mesh3d": [
           {
            "colorbar": {
             "outlinewidth": 0,
             "ticks": ""
            },
            "type": "mesh3d"
           }
          ],
          "parcoords": [
           {
            "line": {
             "colorbar": {
              "outlinewidth": 0,
              "ticks": ""
             }
            },
            "type": "parcoords"
           }
          ],
          "pie": [
           {
            "automargin": true,
            "type": "pie"
           }
          ],
          "scatter": [
           {
            "fillpattern": {
             "fillmode": "overlay",
             "size": 10,
             "solidity": 0.2
            },
            "type": "scatter"
           }
          ],
          "scatter3d": [
           {
            "line": {
             "colorbar": {
              "outlinewidth": 0,
              "ticks": ""
             }
            },
            "marker": {
             "colorbar": {
              "outlinewidth": 0,
              "ticks": ""
             }
            },
            "type": "scatter3d"
           }
          ],
          "scattercarpet": [
           {
            "marker": {
             "colorbar": {
              "outlinewidth": 0,
              "ticks": ""
             }
            },
            "type": "scattercarpet"
           }
          ],
          "scattergeo": [
           {
            "marker": {
             "colorbar": {
              "outlinewidth": 0,
              "ticks": ""
             }
            },
            "type": "scattergeo"
           }
          ],
          "scattergl": [
           {
            "marker": {
             "colorbar": {
              "outlinewidth": 0,
              "ticks": ""
             }
            },
            "type": "scattergl"
           }
          ],
          "scattermapbox": [
           {
            "marker": {
             "colorbar": {
              "outlinewidth": 0,
              "ticks": ""
             }
            },
            "type": "scattermapbox"
           }
          ],
          "scatterpolar": [
           {
            "marker": {
             "colorbar": {
              "outlinewidth": 0,
              "ticks": ""
             }
            },
            "type": "scatterpolar"
           }
          ],
          "scatterpolargl": [
           {
            "marker": {
             "colorbar": {
              "outlinewidth": 0,
              "ticks": ""
             }
            },
            "type": "scatterpolargl"
           }
          ],
          "scatterternary": [
           {
            "marker": {
             "colorbar": {
              "outlinewidth": 0,
              "ticks": ""
             }
            },
            "type": "scatterternary"
           }
          ],
          "surface": [
           {
            "colorbar": {
             "outlinewidth": 0,
             "ticks": ""
            },
            "colorscale": [
             [
              0,
              "#0d0887"
             ],
             [
              0.1111111111111111,
              "#46039f"
             ],
             [
              0.2222222222222222,
              "#7201a8"
             ],
             [
              0.3333333333333333,
              "#9c179e"
             ],
             [
              0.4444444444444444,
              "#bd3786"
             ],
             [
              0.5555555555555556,
              "#d8576b"
             ],
             [
              0.6666666666666666,
              "#ed7953"
             ],
             [
              0.7777777777777778,
              "#fb9f3a"
             ],
             [
              0.8888888888888888,
              "#fdca26"
             ],
             [
              1,
              "#f0f921"
             ]
            ],
            "type": "surface"
           }
          ],
          "table": [
           {
            "cells": {
             "fill": {
              "color": "#EBF0F8"
             },
             "line": {
              "color": "white"
             }
            },
            "header": {
             "fill": {
              "color": "#C8D4E3"
             },
             "line": {
              "color": "white"
             }
            },
            "type": "table"
           }
          ]
         },
         "layout": {
          "annotationdefaults": {
           "arrowcolor": "#2a3f5f",
           "arrowhead": 0,
           "arrowwidth": 1
          },
          "autotypenumbers": "strict",
          "coloraxis": {
           "colorbar": {
            "outlinewidth": 0,
            "ticks": ""
           }
          },
          "colorscale": {
           "diverging": [
            [
             0,
             "#8e0152"
            ],
            [
             0.1,
             "#c51b7d"
            ],
            [
             0.2,
             "#de77ae"
            ],
            [
             0.3,
             "#f1b6da"
            ],
            [
             0.4,
             "#fde0ef"
            ],
            [
             0.5,
             "#f7f7f7"
            ],
            [
             0.6,
             "#e6f5d0"
            ],
            [
             0.7,
             "#b8e186"
            ],
            [
             0.8,
             "#7fbc41"
            ],
            [
             0.9,
             "#4d9221"
            ],
            [
             1,
             "#276419"
            ]
           ],
           "sequential": [
            [
             0,
             "#0d0887"
            ],
            [
             0.1111111111111111,
             "#46039f"
            ],
            [
             0.2222222222222222,
             "#7201a8"
            ],
            [
             0.3333333333333333,
             "#9c179e"
            ],
            [
             0.4444444444444444,
             "#bd3786"
            ],
            [
             0.5555555555555556,
             "#d8576b"
            ],
            [
             0.6666666666666666,
             "#ed7953"
            ],
            [
             0.7777777777777778,
             "#fb9f3a"
            ],
            [
             0.8888888888888888,
             "#fdca26"
            ],
            [
             1,
             "#f0f921"
            ]
           ],
           "sequentialminus": [
            [
             0,
             "#0d0887"
            ],
            [
             0.1111111111111111,
             "#46039f"
            ],
            [
             0.2222222222222222,
             "#7201a8"
            ],
            [
             0.3333333333333333,
             "#9c179e"
            ],
            [
             0.4444444444444444,
             "#bd3786"
            ],
            [
             0.5555555555555556,
             "#d8576b"
            ],
            [
             0.6666666666666666,
             "#ed7953"
            ],
            [
             0.7777777777777778,
             "#fb9f3a"
            ],
            [
             0.8888888888888888,
             "#fdca26"
            ],
            [
             1,
             "#f0f921"
            ]
           ]
          },
          "colorway": [
           "#636efa",
           "#EF553B",
           "#00cc96",
           "#ab63fa",
           "#FFA15A",
           "#19d3f3",
           "#FF6692",
           "#B6E880",
           "#FF97FF",
           "#FECB52"
          ],
          "font": {
           "color": "#2a3f5f"
          },
          "geo": {
           "bgcolor": "white",
           "lakecolor": "white",
           "landcolor": "#E5ECF6",
           "showlakes": true,
           "showland": true,
           "subunitcolor": "white"
          },
          "hoverlabel": {
           "align": "left"
          },
          "hovermode": "closest",
          "mapbox": {
           "style": "light"
          },
          "paper_bgcolor": "white",
          "plot_bgcolor": "#E5ECF6",
          "polar": {
           "angularaxis": {
            "gridcolor": "white",
            "linecolor": "white",
            "ticks": ""
           },
           "bgcolor": "#E5ECF6",
           "radialaxis": {
            "gridcolor": "white",
            "linecolor": "white",
            "ticks": ""
           }
          },
          "scene": {
           "xaxis": {
            "backgroundcolor": "#E5ECF6",
            "gridcolor": "white",
            "gridwidth": 2,
            "linecolor": "white",
            "showbackground": true,
            "ticks": "",
            "zerolinecolor": "white"
           },
           "yaxis": {
            "backgroundcolor": "#E5ECF6",
            "gridcolor": "white",
            "gridwidth": 2,
            "linecolor": "white",
            "showbackground": true,
            "ticks": "",
            "zerolinecolor": "white"
           },
           "zaxis": {
            "backgroundcolor": "#E5ECF6",
            "gridcolor": "white",
            "gridwidth": 2,
            "linecolor": "white",
            "showbackground": true,
            "ticks": "",
            "zerolinecolor": "white"
           }
          },
          "shapedefaults": {
           "line": {
            "color": "#2a3f5f"
           }
          },
          "ternary": {
           "aaxis": {
            "gridcolor": "white",
            "linecolor": "white",
            "ticks": ""
           },
           "baxis": {
            "gridcolor": "white",
            "linecolor": "white",
            "ticks": ""
           },
           "bgcolor": "#E5ECF6",
           "caxis": {
            "gridcolor": "white",
            "linecolor": "white",
            "ticks": ""
           }
          },
          "title": {
           "x": 0.05
          },
          "xaxis": {
           "automargin": true,
           "gridcolor": "white",
           "linecolor": "white",
           "ticks": "",
           "title": {
            "standoff": 15
           },
           "zerolinecolor": "white",
           "zerolinewidth": 2
          },
          "yaxis": {
           "automargin": true,
           "gridcolor": "white",
           "linecolor": "white",
           "ticks": "",
           "title": {
            "standoff": 15
           },
           "zerolinecolor": "white",
           "zerolinewidth": 2
          }
         }
        },
        "title": {
         "pad": {
          "l": 330
         }
        },
        "width": 1200
       }
      },
      "text/html": [
       "<div>                            <div id=\"81c2e0b2-3388-4622-ac2e-af5b7c732d49\" class=\"plotly-graph-div\" style=\"height:1200px; width:1200px;\"></div>            <script type=\"text/javascript\">                require([\"plotly\"], function(Plotly) {                    window.PLOTLYENV=window.PLOTLYENV || {};                                    if (document.getElementById(\"81c2e0b2-3388-4622-ac2e-af5b7c732d49\")) {                    Plotly.newPlot(                        \"81c2e0b2-3388-4622-ac2e-af5b7c732d49\",                        [{\"branchvalues\":\"total\",\"customdata\":[[100.0],[11.090909090909092],[10.0],[26.0],[10.0],[10.0],[50.0],[35.0],[15.3],[200.0],[20.0],[10.0],[20.0],[45.0],[50.0],[30.0],[85.0],[100.0],[40.0],[35.0],[15.0],[20.0],[200.0],[20.0],[33.0],[30.0],[30.0],[66.56302521008404],[11.5],[30.0],[18.0],[20.0],[14.0],[10.5],[50.0],[13.249999999999998],[40.0],[10.0],[10.0],[43.0],[20.0],[20.0],[21.0],[13.0],[12.333333333333334],[30.0],[20.0],[10.0],[50.0],[26.0],[20.0],[12.1],[83.0],[40.0],[12.0],[10.0],[25.0],[20.0],[65.0],[79.41379310344827],[50.0],[100.0],[50.0],[31.0],[25.0],[15.0],[23.0],[20.0],[15.0],[20.0],[37.0],[15.0],[20.0],[50.0],[11.0],[23.0],[15.0],[12.0],[10.0],[40.0],[10.5],[10.0],[11.0],[10.0],[15.0],[10.0],[25.0],[31.5],[36.0],[50.0],[12.0],[50.0],[50.0],[14.0],[10.0],[30.0],[16.0],[20.0],[21.0],[10.0],[20.0],[16.0],[20.0],[16.0],[14.0],[24.0],[14.0],[10.0],[14.0],[16.0],[36.4],[20.0],[12.0],[20.0],[10.0],[15.0],[23.0],[65.0],[20.0],[10.0],[10.0],[13.0],[20.0],[50.0],[44.0],[10.0],[33.0],[22.661538461538463],[60.0],[10.0],[20.0],[15.0],[15.0],[21.0],[50.0],[29.0],[25.0],[25.0],[30.0],[20.0],[14.0],[24.02857142857143],[10.0],[18.0],[20.0],[10.0],[50.0],[40.0],[80.0],[12.0],[50.0],[35.0],[30.0],[22.5],[11.0],[20.0],[10.0],[10.0],[10.0],[83.0],[20.0],[12.947368421052632],[10.0],[20.0],[18.0],[20.714285714285715],[32.740625],[41.75757575757576],[21.0],[33.0],[20.51219512195122],[80.0],[13.249999999999998],[80.81770145310436],[35.0],[65.0],[35.714285714285715],[35.0],[133.99663941871026],[50.0],[36.0],[11.0],[33.333333333333336],[100.0],[100.0],[20.0],[30.05632547116578],[18.48936170212766],[17.857142857142858],[14.0],[15.636363636363637],[40.0],[31.472847682119202],[37.666666666666664],[25.0],[10.0],[200.0],[11.0],[11.5],[34.23076923076923],[20.0],[41.26865671641791],[17.529411764705884],[20.0],[34.41530054644809],[10.0],[50.0],[10.0],[16.666666666666668],[12.0],[10.0],[54.629629629629626],[20.0],[21.47222222222222],[26.0],[75.71428571428571],[20.0],[35.0],[52.74652042360061],[159.4124513618677],[31.194690265486727],[10.0],[68.0],[36.68099547511312],[15.444444444444445],[33.333333333333336],[65.0],[28.84920440636475],[37.666666666666664],[25.0],[10.0]],\"domain\":{\"x\":[0.0,1.0],\"y\":[0.0,1.0]},\"hovertemplate\":\"labels=%{label}<br>Approximate sales in millions_sum=%{value}<br>parent=%{parent}<br>id=%{id}<br>Approximate sales in millions=%{color}<extra></extra>\",\"ids\":[\"English/Mystery/Agatha Christie\",\"French/Novel/Albert Camus\",\"English/Social Science/Alex Comfort\",\"Russian/Young Adult/Alexander Alexandrovich Fadeyev\",\"English/Novel/Alice Sebold\",\"English/Biography/Andrew Morton\",\"English/Children's Literature/Anna Sewell\",\"Dutch/Historical fiction/Anne Frank\",\"English/Historical fiction/Anthony Doerr\",\"French/Novella/Antoine de Saint-Exup\\u00e9ry\",\"English/Pregnancy guide/Arlene Eisenberg and Heidi Murkoff\",\"Swedish/Novel/Astrid Lindgren\",\"Japanese/Novel/Banana Yoshimoto\",\"English/Children's Literature/Beatrix Potter\",\"English/Self-help/Benjamin Spock\",\"English/Self-help/Bill Wilson\",\"English/Fantasy/C. S. Lewis\",\"Chinese/Novel/Cao Xueqin\",\"English/Popular science/Carl Sagan\",\"Italian/Fantasy/Carlo Collodi\",\"Spanish/Novel/Carlos Ruiz Zaf\\u00f3n\",\"English/Historical fiction/Charles Berlitz\",\"English/Historical fiction/Charles Dickens\",\"English/Novel/Chinua Achebe\",\"English/Romance/Colleen McCullough\",\"English/Self-help/Dale Carnegie\",\"English/Novel/Dan Brown\",\"English/Thriller/Dan Brown\",\"Italian/Poetry/Dante Alighieri\",\"English/Gothic novel/Daphne du Maurier\",\"English/Novel/Delia Owens\",\"English/Social Science/Desmond Morris\",\"English/Science fiction/Douglas Adams\",\"English/Children's Literature/Dr. Seuss\",\"English/Children's Literature/E. B. White; illustrated by Garth Williams\",\"English/Erotica/E. L. James\",\"English/Memoir/Elbert Hubbard\",\"Yiddish/Novel/Elie Wiesel\",\"English/Self-help/Eliyahu M. Goldratt\",\"English/Children's Literature/Eric Carle\",\"English/Romance/Erica Jong\",\"German/Novel/Erich Maria Remarque\",\"English/Romance/Erich Segal\",\"English/Novel/Ernest Hemingway\",\"English/Novel/Erskine Caldwell\",\"English/Novel/F. Scott Fitzgerald\",\"English/Science fiction/Frank Herbert\",\"English/Autobiography/Frank McCourt\",\"Spanish/Novel/Gabriel Garc\\u00eda M\\u00e1rquez\",\"English/Novel/George Orwell\",\"English/Crime/Gillian Flynn\",\"English/Novel/Grace Metalious\",\"English/Adventure/H. Rider Haggard\",\"English/Novel/Harper Lee\",\"Japanese/Novel/Haruki Murakami\",\"English/Novel/Helen Fielding\",\"English/Biography/Irving Stone\",\"Russian/Science fiction/Ivan Yefremov\",\"English/Novel/J. D. Salinger\",\"English/Fantasy/J. K. Rowling\",\"English/Novel/J. P. Donleavy\",\"English/Fantasy/J. R. R. Tolkien\",\"English/Novel/Jack Higgins\",\"English/Novel/Jacqueline Susann\",\"French/Novel/Jacques-Henri Bernardin de Saint-Pierre\",\"English/Novel/James Clavell\",\"English/Novel/James Redfield\",\"English/Novel/Jane Austen\",\"English/Children's Literature/Janette Sebring Lowrey\",\"Czech/Novel/Jaroslav Ha\\u0161ek\",\"English/Novel/Jeffrey Archer\",\"English/Novel/Jhumpa Lahiri\",\"Chinese/Autobiography/Jiang Rong\",\"German/Children's Literature/Johanna Spyri\",\"English/Children's Literature/John Boyne\",\"English/Young Adult/John Green\",\"English/Novel/John Steinbeck\",\"English/Novel/Jojo Moyes\",\"English/Novel/Joseph Heller\",\"Norwegian/Novel/Jostein Gaarder\",\"English/Children's Literature/Julia Donaldson\",\"English/Novel/Jung Chang\",\"English/Poetry/Kahlil Gibran\",\"English/Novel/Kathryn Stockett\",\"English/Historical fiction/Ken Follett\",\"English/Novel/Ken Follett\",\"English/Children's Literature/Kenneth Grahame\",\"English/Novel/Khaled Hosseini\",\"Russian/Historical fiction/Leo Tolstoy\",\"English/Historical fiction/Lew Wallace\",\"English/Novel/Lois Lowry\",\"English/Self-help/Louise Hay\",\"English/Children's Literature/Lucy Maud Montgomery\",\"English/Children's Literature/Madeleine L'Engle\",\"English/Novel/Marabel Morgan\",\"English/Historical fiction/Margaret Mitchell\",\"English/Children's Literature/Margaret Wise Brown\",\"English/Novel/Marilyn French\",\"English/Crime/Mario Puzo\",\"English/Self-help/Mark Manson\",\"English/Novel/Mark Twain\",\"English/Young Adult/Markus Zusak\",\"English/Children's Literature/Maurice Sendak\",\"German/Children's Literature/Michael Ende\",\"English/Autobiography/Michelle Obama\",\"Russian/Novel/Mikhail Sholokhov\",\"English/Novel/Mitch Albom\",\"Gujarati/Autobiography/Mohandas Karamchand Gandhi\",\"English/Autobiography/Nelson Mandela\",\"English/Novel/Nicholas Evans\",\"Russian/Novel/Nikolai Ostrovsky\",\"English/Self-help/Norman Vincent Peale\",\"Japanese/Novel/Osamu Dazai\",\"Hindi/Autobiography/Paramahansa Yogananda\",\"English/Novel/Patricia Nell Warren\",\"German/Novel/Patrick S\\u00fcskind\",\"English/Thriller/Paula Hawkins\",\"Portuguese/Fantasy/Paulo Coelho\",\"English/Thriller/Peter Benchley\",\"French/Self-help/Pierre Dukan\",\"English/Novel/Ray Bradbury\",\"English/Self-help/Raymond Moody\",\"English/Self-help/Rhonda Byrne\",\"English/Fantasy/Richard Adams\",\"English/Self-help/Richard Bach\",\"English/Children's Literature/Richard Nelson Bolles\",\"English/Christian literature/Rick Warren\",\"English/Children's Literature/Roald Dahl\",\"English/Romance/Robert James Waller\",\"English/Children's Literature/Robert L. Short\",\"English/Children's Literature/Robert Munsch\",\"English/Young Adult/S. E. Hinton\",\"English/Children's Literature/Sam McBratney\",\"Russian/Children's Literature/Sergey Mikhalkov\",\"English/Sexology/Shere Hite\",\"English/Self-help/Spencer Johnson\",\"English/Popular science/Stephen Hawking\",\"English/Self-help/Stephen R. Covey\",\"Swedish/Novel/Stieg Larsson\",\"English/Young Adult/Sue Townsend\",\"Italian/Novel/Susanna Tamaro\",\"English/Young Adult/Suzanne Collins\",\"Japanese/Social Science/Taichi Sakaiya\",\"Japanese/Autobiography/Tetsuko Kuroyanagi\",\"Norwegian/Travel literature/Thor Heyerdahl\",\"Spanish/Novel/Tom\\u00e1s Eloy Mart\\u00ednez\",\"Italian/Historical fiction/Umberto Eco\",\"English/Gothic novel/V. C. Andrews\",\"Hindi/Crime/Ved Prakash Sharma\",\"German/Social Science/Viktor Frankl\",\"English/Novel/Vladimir Nabokov\",\"English/Self-help/Wayne Dyer\",\"English/Novel/William Bradford Huie\",\"English/Novel/William P. Young\",\"English/Horror/William Peter Blatty\",\"English/Memoir/Xaviera Hollander\",\"Chinese/Social Science/Xue Muqiao\",\"English/Novel/Yann Martel\",\"Chinese/Social Science/Yu Dan\",\"English/Adventure\",\"Chinese/Autobiography\",\"English/Autobiography\",\"Gujarati/Autobiography\",\"Hindi/Autobiography\",\"Japanese/Autobiography\",\"English/Biography\",\"English/Children's Literature\",\"German/Children's Literature\",\"Russian/Children's Literature\",\"English/Christian literature\",\"English/Crime\",\"Hindi/Crime\",\"English/Erotica\",\"English/Fantasy\",\"Italian/Fantasy\",\"Portuguese/Fantasy\",\"English/Gothic novel\",\"Dutch/Historical fiction\",\"English/Historical fiction\",\"Italian/Historical fiction\",\"Russian/Historical fiction\",\"English/Horror\",\"English/Memoir\",\"English/Mystery\",\"Chinese/Novel\",\"Czech/Novel\",\"English/Novel\",\"French/Novel\",\"German/Novel\",\"Italian/Novel\",\"Japanese/Novel\",\"Norwegian/Novel\",\"Russian/Novel\",\"Spanish/Novel\",\"Swedish/Novel\",\"Yiddish/Novel\",\"French/Novella\",\"English/Poetry\",\"Italian/Poetry\",\"English/Popular science\",\"English/Pregnancy guide\",\"English/Romance\",\"English/Science fiction\",\"Russian/Science fiction\",\"English/Self-help\",\"French/Self-help\",\"English/Sexology\",\"Chinese/Social Science\",\"English/Social Science\",\"German/Social Science\",\"Japanese/Social Science\",\"English/Thriller\",\"Norwegian/Travel literature\",\"English/Young Adult\",\"Russian/Young Adult\",\"Chinese\",\"Czech\",\"Dutch\",\"English\",\"French\",\"German\",\"Gujarati\",\"Hindi\",\"Italian\",\"Japanese\",\"Norwegian\",\"Portuguese\",\"Russian\",\"Spanish\",\"Swedish\",\"Yiddish\"],\"labels\":[\"Agatha Christie\",\"Albert Camus\",\"Alex Comfort\",\"Alexander Alexandrovich Fadeyev\",\"Alice Sebold\",\"Andrew Morton\",\"Anna Sewell\",\"Anne Frank\",\"Anthony Doerr\",\"Antoine de Saint-Exup\\u00e9ry\",\"Arlene Eisenberg and Heidi Murkoff\",\"Astrid Lindgren\",\"Banana Yoshimoto\",\"Beatrix Potter\",\"Benjamin Spock\",\"Bill Wilson\",\"C. S. Lewis\",\"Cao Xueqin\",\"Carl Sagan\",\"Carlo Collodi\",\"Carlos Ruiz Zaf\\u00f3n\",\"Charles Berlitz\",\"Charles Dickens\",\"Chinua Achebe\",\"Colleen McCullough\",\"Dale Carnegie\",\"Dan Brown\",\"Dan Brown\",\"Dante Alighieri\",\"Daphne du Maurier\",\"Delia Owens\",\"Desmond Morris\",\"Douglas Adams\",\"Dr. Seuss\",\"E. B. White; illustrated by Garth Williams\",\"E. L. James\",\"Elbert Hubbard\",\"Elie Wiesel\",\"Eliyahu M. Goldratt\",\"Eric Carle\",\"Erica Jong\",\"Erich Maria Remarque\",\"Erich Segal\",\"Ernest Hemingway\",\"Erskine Caldwell\",\"F. Scott Fitzgerald\",\"Frank Herbert\",\"Frank McCourt\",\"Gabriel Garc\\u00eda M\\u00e1rquez\",\"George Orwell\",\"Gillian Flynn\",\"Grace Metalious\",\"H. Rider Haggard\",\"Harper Lee\",\"Haruki Murakami\",\"Helen Fielding\",\"Irving Stone\",\"Ivan Yefremov\",\"J. D. Salinger\",\"J. K. Rowling\",\"J. P. Donleavy\",\"J. R. R. Tolkien\",\"Jack Higgins\",\"Jacqueline Susann\",\"Jacques-Henri Bernardin de Saint-Pierre\",\"James Clavell\",\"James Redfield\",\"Jane Austen\",\"Janette Sebring Lowrey\",\"Jaroslav Ha\\u0161ek\",\"Jeffrey Archer\",\"Jhumpa Lahiri\",\"Jiang Rong\",\"Johanna Spyri\",\"John Boyne\",\"John Green\",\"John Steinbeck\",\"Jojo Moyes\",\"Joseph Heller\",\"Jostein Gaarder\",\"Julia Donaldson\",\"Jung Chang\",\"Kahlil Gibran\",\"Kathryn Stockett\",\"Ken Follett\",\"Ken Follett\",\"Kenneth Grahame\",\"Khaled Hosseini\",\"Leo Tolstoy\",\"Lew Wallace\",\"Lois Lowry\",\"Louise Hay\",\"Lucy Maud Montgomery\",\"Madeleine L'Engle\",\"Marabel Morgan\",\"Margaret Mitchell\",\"Margaret Wise Brown\",\"Marilyn French\",\"Mario Puzo\",\"Mark Manson\",\"Mark Twain\",\"Markus Zusak\",\"Maurice Sendak\",\"Michael Ende\",\"Michelle Obama\",\"Mikhail Sholokhov\",\"Mitch Albom\",\"Mohandas Karamchand Gandhi\",\"Nelson Mandela\",\"Nicholas Evans\",\"Nikolai Ostrovsky\",\"Norman Vincent Peale\",\"Osamu Dazai\",\"Paramahansa Yogananda\",\"Patricia Nell Warren\",\"Patrick S\\u00fcskind\",\"Paula Hawkins\",\"Paulo Coelho\",\"Peter Benchley\",\"Pierre Dukan\",\"Ray Bradbury\",\"Raymond Moody\",\"Rhonda Byrne\",\"Richard Adams\",\"Richard Bach\",\"Richard Nelson Bolles\",\"Rick Warren\",\"Roald Dahl\",\"Robert James Waller\",\"Robert L. Short\",\"Robert Munsch\",\"S. E. Hinton\",\"Sam McBratney\",\"Sergey Mikhalkov\",\"Shere Hite\",\"Spencer Johnson\",\"Stephen Hawking\",\"Stephen R. Covey\",\"Stieg Larsson\",\"Sue Townsend\",\"Susanna Tamaro\",\"Suzanne Collins\",\"Taichi Sakaiya\",\"Tetsuko Kuroyanagi\",\"Thor Heyerdahl\",\"Tom\\u00e1s Eloy Mart\\u00ednez\",\"Umberto Eco\",\"V. C. Andrews\",\"Ved Prakash Sharma\",\"Viktor Frankl\",\"Vladimir Nabokov\",\"Wayne Dyer\",\"William Bradford Huie\",\"William P. Young\",\"William Peter Blatty\",\"Xaviera Hollander\",\"Xue Muqiao\",\"Yann Martel\",\"Yu Dan\",\"Adventure\",\"Autobiography\",\"Autobiography\",\"Autobiography\",\"Autobiography\",\"Autobiography\",\"Biography\",\"Children's Literature\",\"Children's Literature\",\"Children's Literature\",\"Christian literature\",\"Crime\",\"Crime\",\"Erotica\",\"Fantasy\",\"Fantasy\",\"Fantasy\",\"Gothic novel\",\"Historical fiction\",\"Historical fiction\",\"Historical fiction\",\"Historical fiction\",\"Horror\",\"Memoir\",\"Mystery\",\"Novel\",\"Novel\",\"Novel\",\"Novel\",\"Novel\",\"Novel\",\"Novel\",\"Novel\",\"Novel\",\"Novel\",\"Novel\",\"Novel\",\"Novella\",\"Poetry\",\"Poetry\",\"Popular science\",\"Pregnancy guide\",\"Romance\",\"Science fiction\",\"Science fiction\",\"Self-help\",\"Self-help\",\"Sexology\",\"Social Science\",\"Social Science\",\"Social Science\",\"Social Science\",\"Thriller\",\"Travel literature\",\"Young Adult\",\"Young Adult\",\"Chinese\",\"Czech\",\"Dutch\",\"English\",\"French\",\"German\",\"Gujarati\",\"Hindi\",\"Italian\",\"Japanese\",\"Norwegian\",\"Portuguese\",\"Russian\",\"Spanish\",\"Swedish\",\"Yiddish\"],\"marker\":{\"coloraxis\":\"coloraxis\",\"colors\":[100.0,11.090909090909092,10.0,26.0,10.0,10.0,50.0,35.0,15.3,200.0,20.0,10.0,20.0,45.0,50.0,30.0,85.0,100.0,40.0,35.0,15.0,20.0,200.0,20.0,33.0,30.0,30.0,66.56302521008404,11.5,30.0,18.0,20.0,14.0,10.5,50.0,13.249999999999998,40.0,10.0,10.0,43.0,20.0,20.0,21.0,13.0,12.333333333333334,30.0,20.0,10.0,50.0,26.0,20.0,12.1,83.0,40.0,12.0,10.0,25.0,20.0,65.0,79.41379310344827,50.0,100.0,50.0,31.0,25.0,15.0,23.0,20.0,15.0,20.0,37.0,15.0,20.0,50.0,11.0,23.0,15.0,12.0,10.0,40.0,10.5,10.0,11.0,10.0,15.0,10.0,25.0,31.5,36.0,50.0,12.0,50.0,50.0,14.0,10.0,30.0,16.0,20.0,21.0,10.0,20.0,16.0,20.0,16.0,14.0,24.0,14.0,10.0,14.0,16.0,36.4,20.0,12.0,20.0,10.0,15.0,23.0,65.0,20.0,10.0,10.0,13.0,20.0,50.0,44.0,10.0,33.0,22.661538461538463,60.0,10.0,20.0,15.0,15.0,21.0,50.0,29.0,25.0,25.0,30.0,20.0,14.0,24.02857142857143,10.0,18.0,20.0,10.0,50.0,40.0,80.0,12.0,50.0,35.0,30.0,22.5,11.0,20.0,10.0,10.0,10.0,83.0,20.0,12.947368421052632,10.0,20.0,18.0,20.714285714285715,32.740625,41.75757575757576,21.0,33.0,20.51219512195122,80.0,13.249999999999998,80.81770145310436,35.0,65.0,35.714285714285715,35.0,133.99663941871026,50.0,36.0,11.0,33.333333333333336,100.0,100.0,20.0,30.05632547116578,18.48936170212766,17.857142857142858,14.0,15.636363636363637,40.0,31.472847682119202,37.666666666666664,25.0,10.0,200.0,11.0,11.5,34.23076923076923,20.0,41.26865671641791,17.529411764705884,20.0,34.41530054644809,10.0,50.0,10.0,16.666666666666668,12.0,10.0,54.629629629629626,20.0,21.47222222222222,26.0,75.71428571428571,20.0,35.0,52.74652042360061,159.4124513618677,31.194690265486727,10.0,68.0,36.68099547511312,15.444444444444445,33.333333333333336,65.0,28.84920440636475,37.666666666666664,25.0,10.0]},\"name\":\"\",\"parents\":[\"English/Mystery\",\"French/Novel\",\"English/Social Science\",\"Russian/Young Adult\",\"English/Novel\",\"English/Biography\",\"English/Children's Literature\",\"Dutch/Historical fiction\",\"English/Historical fiction\",\"French/Novella\",\"English/Pregnancy guide\",\"Swedish/Novel\",\"Japanese/Novel\",\"English/Children's Literature\",\"English/Self-help\",\"English/Self-help\",\"English/Fantasy\",\"Chinese/Novel\",\"English/Popular science\",\"Italian/Fantasy\",\"Spanish/Novel\",\"English/Historical fiction\",\"English/Historical fiction\",\"English/Novel\",\"English/Romance\",\"English/Self-help\",\"English/Novel\",\"English/Thriller\",\"Italian/Poetry\",\"English/Gothic novel\",\"English/Novel\",\"English/Social Science\",\"English/Science fiction\",\"English/Children's Literature\",\"English/Children's Literature\",\"English/Erotica\",\"English/Memoir\",\"Yiddish/Novel\",\"English/Self-help\",\"English/Children's Literature\",\"English/Romance\",\"German/Novel\",\"English/Romance\",\"English/Novel\",\"English/Novel\",\"English/Novel\",\"English/Science fiction\",\"English/Autobiography\",\"Spanish/Novel\",\"English/Novel\",\"English/Crime\",\"English/Novel\",\"English/Adventure\",\"English/Novel\",\"Japanese/Novel\",\"English/Novel\",\"English/Biography\",\"Russian/Science fiction\",\"English/Novel\",\"English/Fantasy\",\"English/Novel\",\"English/Fantasy\",\"English/Novel\",\"English/Novel\",\"French/Novel\",\"English/Novel\",\"English/Novel\",\"English/Novel\",\"English/Children's Literature\",\"Czech/Novel\",\"English/Novel\",\"English/Novel\",\"Chinese/Autobiography\",\"German/Children's Literature\",\"English/Children's Literature\",\"English/Young Adult\",\"English/Novel\",\"English/Novel\",\"English/Novel\",\"Norwegian/Novel\",\"English/Children's Literature\",\"English/Novel\",\"English/Poetry\",\"English/Novel\",\"English/Historical fiction\",\"English/Novel\",\"English/Children's Literature\",\"English/Novel\",\"Russian/Historical fiction\",\"English/Historical fiction\",\"English/Novel\",\"English/Self-help\",\"English/Children's Literature\",\"English/Children's Literature\",\"English/Novel\",\"English/Historical fiction\",\"English/Children's Literature\",\"English/Novel\",\"English/Crime\",\"English/Self-help\",\"English/Novel\",\"English/Young Adult\",\"English/Children's Literature\",\"German/Children's Literature\",\"English/Autobiography\",\"Russian/Novel\",\"English/Novel\",\"Gujarati/Autobiography\",\"English/Autobiography\",\"English/Novel\",\"Russian/Novel\",\"English/Self-help\",\"Japanese/Novel\",\"Hindi/Autobiography\",\"English/Novel\",\"German/Novel\",\"English/Thriller\",\"Portuguese/Fantasy\",\"English/Thriller\",\"French/Self-help\",\"English/Novel\",\"English/Self-help\",\"English/Self-help\",\"English/Fantasy\",\"English/Self-help\",\"English/Children's Literature\",\"English/Christian literature\",\"English/Children's Literature\",\"English/Romance\",\"English/Children's Literature\",\"English/Children's Literature\",\"English/Young Adult\",\"English/Children's Literature\",\"Russian/Children's Literature\",\"English/Sexology\",\"English/Self-help\",\"English/Popular science\",\"English/Self-help\",\"Swedish/Novel\",\"English/Young Adult\",\"Italian/Novel\",\"English/Young Adult\",\"Japanese/Social Science\",\"Japanese/Autobiography\",\"Norwegian/Travel literature\",\"Spanish/Novel\",\"Italian/Historical fiction\",\"English/Gothic novel\",\"Hindi/Crime\",\"German/Social Science\",\"English/Novel\",\"English/Self-help\",\"English/Novel\",\"English/Novel\",\"English/Horror\",\"English/Memoir\",\"Chinese/Social Science\",\"English/Novel\",\"Chinese/Social Science\",\"English\",\"Chinese\",\"English\",\"Gujarati\",\"Hindi\",\"Japanese\",\"English\",\"English\",\"German\",\"Russian\",\"English\",\"English\",\"Hindi\",\"English\",\"English\",\"Italian\",\"Portuguese\",\"English\",\"Dutch\",\"English\",\"Italian\",\"Russian\",\"English\",\"English\",\"English\",\"Chinese\",\"Czech\",\"English\",\"French\",\"German\",\"Italian\",\"Japanese\",\"Norwegian\",\"Russian\",\"Spanish\",\"Swedish\",\"Yiddish\",\"French\",\"English\",\"Italian\",\"English\",\"English\",\"English\",\"English\",\"Russian\",\"English\",\"French\",\"English\",\"Chinese\",\"English\",\"German\",\"Japanese\",\"English\",\"Norwegian\",\"English\",\"Russian\",\"\",\"\",\"\",\"\",\"\",\"\",\"\",\"\",\"\",\"\",\"\",\"\",\"\",\"\",\"\",\"\"],\"values\":[100.0,22.0,10.0,26.0,10.0,10.0,50.0,35.0,15.3,200.0,20.0,10.0,20.0,45.0,50.0,30.0,85.0,100.0,40.0,35.0,15.0,20.0,200.0,20.0,33.0,30.0,30.0,119.0,11.5,30.0,18.0,20.0,14.0,10.5,50.0,25.6,40.0,10.0,10.0,43.0,20.0,20.0,21.0,13.0,24.0,30.0,20.0,10.0,50.0,50.0,20.0,12.1,83.0,40.0,12.0,10.0,25.0,20.0,65.0,522.0,50.0,100.0,50.0,31.0,25.0,15.0,23.0,20.0,15.0,20.0,37.0,15.0,20.0,50.0,11.0,23.0,15.0,12.0,10.0,40.0,10.5,10.0,11.0,10.0,15.0,10.0,25.0,31.5,36.0,50.0,12.0,50.0,50.0,14.0,10.0,30.0,16.0,20.0,21.0,10.0,20.0,16.0,20.0,16.0,14.0,24.0,14.0,10.0,14.0,16.0,36.4,20.0,12.0,20.0,10.0,15.0,23.0,65.0,20.0,10.0,10.0,13.0,20.0,50.0,44.0,10.0,33.0,65.0,60.0,10.0,20.0,15.0,15.0,21.0,50.0,29.0,25.0,25.0,30.0,20.0,14.0,70.0,10.0,18.0,20.0,10.0,50.0,40.0,80.0,12.0,50.0,35.0,30.0,22.5,11.0,20.0,10.0,10.0,10.0,83.0,20.0,38.0,10.0,20.0,18.0,35.0,480.0,66.0,21.0,33.0,41.0,80.0,25.6,757.0,35.0,65.0,70.0,35.0,330.3,50.0,36.0,11.0,60.0,100.0,100.0,20.0,886.1,47.0,35.0,14.0,44.0,40.0,60.4,75.0,40.0,10.0,200.0,11.0,11.5,65.0,20.0,134.0,34.0,20.0,366.0,10.0,50.0,20.0,30.0,12.0,10.0,162.0,20.0,144.0,26.0,140.0,20.0,35.0,3966.0,257.0,113.0,10.0,100.0,110.5,72.0,60.0,65.0,163.4,75.0,40.0,10.0],\"type\":\"sunburst\"}],                        {\"template\":{\"data\":{\"histogram2dcontour\":[{\"type\":\"histogram2dcontour\",\"colorbar\":{\"outlinewidth\":0,\"ticks\":\"\"},\"colorscale\":[[0.0,\"#0d0887\"],[0.1111111111111111,\"#46039f\"],[0.2222222222222222,\"#7201a8\"],[0.3333333333333333,\"#9c179e\"],[0.4444444444444444,\"#bd3786\"],[0.5555555555555556,\"#d8576b\"],[0.6666666666666666,\"#ed7953\"],[0.7777777777777778,\"#fb9f3a\"],[0.8888888888888888,\"#fdca26\"],[1.0,\"#f0f921\"]]}],\"choropleth\":[{\"type\":\"choropleth\",\"colorbar\":{\"outlinewidth\":0,\"ticks\":\"\"}}],\"histogram2d\":[{\"type\":\"histogram2d\",\"colorbar\":{\"outlinewidth\":0,\"ticks\":\"\"},\"colorscale\":[[0.0,\"#0d0887\"],[0.1111111111111111,\"#46039f\"],[0.2222222222222222,\"#7201a8\"],[0.3333333333333333,\"#9c179e\"],[0.4444444444444444,\"#bd3786\"],[0.5555555555555556,\"#d8576b\"],[0.6666666666666666,\"#ed7953\"],[0.7777777777777778,\"#fb9f3a\"],[0.8888888888888888,\"#fdca26\"],[1.0,\"#f0f921\"]]}],\"heatmap\":[{\"type\":\"heatmap\",\"colorbar\":{\"outlinewidth\":0,\"ticks\":\"\"},\"colorscale\":[[0.0,\"#0d0887\"],[0.1111111111111111,\"#46039f\"],[0.2222222222222222,\"#7201a8\"],[0.3333333333333333,\"#9c179e\"],[0.4444444444444444,\"#bd3786\"],[0.5555555555555556,\"#d8576b\"],[0.6666666666666666,\"#ed7953\"],[0.7777777777777778,\"#fb9f3a\"],[0.8888888888888888,\"#fdca26\"],[1.0,\"#f0f921\"]]}],\"heatmapgl\":[{\"type\":\"heatmapgl\",\"colorbar\":{\"outlinewidth\":0,\"ticks\":\"\"},\"colorscale\":[[0.0,\"#0d0887\"],[0.1111111111111111,\"#46039f\"],[0.2222222222222222,\"#7201a8\"],[0.3333333333333333,\"#9c179e\"],[0.4444444444444444,\"#bd3786\"],[0.5555555555555556,\"#d8576b\"],[0.6666666666666666,\"#ed7953\"],[0.7777777777777778,\"#fb9f3a\"],[0.8888888888888888,\"#fdca26\"],[1.0,\"#f0f921\"]]}],\"contourcarpet\":[{\"type\":\"contourcarpet\",\"colorbar\":{\"outlinewidth\":0,\"ticks\":\"\"}}],\"contour\":[{\"type\":\"contour\",\"colorbar\":{\"outlinewidth\":0,\"ticks\":\"\"},\"colorscale\":[[0.0,\"#0d0887\"],[0.1111111111111111,\"#46039f\"],[0.2222222222222222,\"#7201a8\"],[0.3333333333333333,\"#9c179e\"],[0.4444444444444444,\"#bd3786\"],[0.5555555555555556,\"#d8576b\"],[0.6666666666666666,\"#ed7953\"],[0.7777777777777778,\"#fb9f3a\"],[0.8888888888888888,\"#fdca26\"],[1.0,\"#f0f921\"]]}],\"surface\":[{\"type\":\"surface\",\"colorbar\":{\"outlinewidth\":0,\"ticks\":\"\"},\"colorscale\":[[0.0,\"#0d0887\"],[0.1111111111111111,\"#46039f\"],[0.2222222222222222,\"#7201a8\"],[0.3333333333333333,\"#9c179e\"],[0.4444444444444444,\"#bd3786\"],[0.5555555555555556,\"#d8576b\"],[0.6666666666666666,\"#ed7953\"],[0.7777777777777778,\"#fb9f3a\"],[0.8888888888888888,\"#fdca26\"],[1.0,\"#f0f921\"]]}],\"mesh3d\":[{\"type\":\"mesh3d\",\"colorbar\":{\"outlinewidth\":0,\"ticks\":\"\"}}],\"scatter\":[{\"fillpattern\":{\"fillmode\":\"overlay\",\"size\":10,\"solidity\":0.2},\"type\":\"scatter\"}],\"parcoords\":[{\"type\":\"parcoords\",\"line\":{\"colorbar\":{\"outlinewidth\":0,\"ticks\":\"\"}}}],\"scatterpolargl\":[{\"type\":\"scatterpolargl\",\"marker\":{\"colorbar\":{\"outlinewidth\":0,\"ticks\":\"\"}}}],\"bar\":[{\"error_x\":{\"color\":\"#2a3f5f\"},\"error_y\":{\"color\":\"#2a3f5f\"},\"marker\":{\"line\":{\"color\":\"#E5ECF6\",\"width\":0.5},\"pattern\":{\"fillmode\":\"overlay\",\"size\":10,\"solidity\":0.2}},\"type\":\"bar\"}],\"scattergeo\":[{\"type\":\"scattergeo\",\"marker\":{\"colorbar\":{\"outlinewidth\":0,\"ticks\":\"\"}}}],\"scatterpolar\":[{\"type\":\"scatterpolar\",\"marker\":{\"colorbar\":{\"outlinewidth\":0,\"ticks\":\"\"}}}],\"histogram\":[{\"marker\":{\"pattern\":{\"fillmode\":\"overlay\",\"size\":10,\"solidity\":0.2}},\"type\":\"histogram\"}],\"scattergl\":[{\"type\":\"scattergl\",\"marker\":{\"colorbar\":{\"outlinewidth\":0,\"ticks\":\"\"}}}],\"scatter3d\":[{\"type\":\"scatter3d\",\"line\":{\"colorbar\":{\"outlinewidth\":0,\"ticks\":\"\"}},\"marker\":{\"colorbar\":{\"outlinewidth\":0,\"ticks\":\"\"}}}],\"scattermapbox\":[{\"type\":\"scattermapbox\",\"marker\":{\"colorbar\":{\"outlinewidth\":0,\"ticks\":\"\"}}}],\"scatterternary\":[{\"type\":\"scatterternary\",\"marker\":{\"colorbar\":{\"outlinewidth\":0,\"ticks\":\"\"}}}],\"scattercarpet\":[{\"type\":\"scattercarpet\",\"marker\":{\"colorbar\":{\"outlinewidth\":0,\"ticks\":\"\"}}}],\"carpet\":[{\"aaxis\":{\"endlinecolor\":\"#2a3f5f\",\"gridcolor\":\"white\",\"linecolor\":\"white\",\"minorgridcolor\":\"white\",\"startlinecolor\":\"#2a3f5f\"},\"baxis\":{\"endlinecolor\":\"#2a3f5f\",\"gridcolor\":\"white\",\"linecolor\":\"white\",\"minorgridcolor\":\"white\",\"startlinecolor\":\"#2a3f5f\"},\"type\":\"carpet\"}],\"table\":[{\"cells\":{\"fill\":{\"color\":\"#EBF0F8\"},\"line\":{\"color\":\"white\"}},\"header\":{\"fill\":{\"color\":\"#C8D4E3\"},\"line\":{\"color\":\"white\"}},\"type\":\"table\"}],\"barpolar\":[{\"marker\":{\"line\":{\"color\":\"#E5ECF6\",\"width\":0.5},\"pattern\":{\"fillmode\":\"overlay\",\"size\":10,\"solidity\":0.2}},\"type\":\"barpolar\"}],\"pie\":[{\"automargin\":true,\"type\":\"pie\"}]},\"layout\":{\"autotypenumbers\":\"strict\",\"colorway\":[\"#636efa\",\"#EF553B\",\"#00cc96\",\"#ab63fa\",\"#FFA15A\",\"#19d3f3\",\"#FF6692\",\"#B6E880\",\"#FF97FF\",\"#FECB52\"],\"font\":{\"color\":\"#2a3f5f\"},\"hovermode\":\"closest\",\"hoverlabel\":{\"align\":\"left\"},\"paper_bgcolor\":\"white\",\"plot_bgcolor\":\"#E5ECF6\",\"polar\":{\"bgcolor\":\"#E5ECF6\",\"angularaxis\":{\"gridcolor\":\"white\",\"linecolor\":\"white\",\"ticks\":\"\"},\"radialaxis\":{\"gridcolor\":\"white\",\"linecolor\":\"white\",\"ticks\":\"\"}},\"ternary\":{\"bgcolor\":\"#E5ECF6\",\"aaxis\":{\"gridcolor\":\"white\",\"linecolor\":\"white\",\"ticks\":\"\"},\"baxis\":{\"gridcolor\":\"white\",\"linecolor\":\"white\",\"ticks\":\"\"},\"caxis\":{\"gridcolor\":\"white\",\"linecolor\":\"white\",\"ticks\":\"\"}},\"coloraxis\":{\"colorbar\":{\"outlinewidth\":0,\"ticks\":\"\"}},\"colorscale\":{\"sequential\":[[0.0,\"#0d0887\"],[0.1111111111111111,\"#46039f\"],[0.2222222222222222,\"#7201a8\"],[0.3333333333333333,\"#9c179e\"],[0.4444444444444444,\"#bd3786\"],[0.5555555555555556,\"#d8576b\"],[0.6666666666666666,\"#ed7953\"],[0.7777777777777778,\"#fb9f3a\"],[0.8888888888888888,\"#fdca26\"],[1.0,\"#f0f921\"]],\"sequentialminus\":[[0.0,\"#0d0887\"],[0.1111111111111111,\"#46039f\"],[0.2222222222222222,\"#7201a8\"],[0.3333333333333333,\"#9c179e\"],[0.4444444444444444,\"#bd3786\"],[0.5555555555555556,\"#d8576b\"],[0.6666666666666666,\"#ed7953\"],[0.7777777777777778,\"#fb9f3a\"],[0.8888888888888888,\"#fdca26\"],[1.0,\"#f0f921\"]],\"diverging\":[[0,\"#8e0152\"],[0.1,\"#c51b7d\"],[0.2,\"#de77ae\"],[0.3,\"#f1b6da\"],[0.4,\"#fde0ef\"],[0.5,\"#f7f7f7\"],[0.6,\"#e6f5d0\"],[0.7,\"#b8e186\"],[0.8,\"#7fbc41\"],[0.9,\"#4d9221\"],[1,\"#276419\"]]},\"xaxis\":{\"gridcolor\":\"white\",\"linecolor\":\"white\",\"ticks\":\"\",\"title\":{\"standoff\":15},\"zerolinecolor\":\"white\",\"automargin\":true,\"zerolinewidth\":2},\"yaxis\":{\"gridcolor\":\"white\",\"linecolor\":\"white\",\"ticks\":\"\",\"title\":{\"standoff\":15},\"zerolinecolor\":\"white\",\"automargin\":true,\"zerolinewidth\":2},\"scene\":{\"xaxis\":{\"backgroundcolor\":\"#E5ECF6\",\"gridcolor\":\"white\",\"linecolor\":\"white\",\"showbackground\":true,\"ticks\":\"\",\"zerolinecolor\":\"white\",\"gridwidth\":2},\"yaxis\":{\"backgroundcolor\":\"#E5ECF6\",\"gridcolor\":\"white\",\"linecolor\":\"white\",\"showbackground\":true,\"ticks\":\"\",\"zerolinecolor\":\"white\",\"gridwidth\":2},\"zaxis\":{\"backgroundcolor\":\"#E5ECF6\",\"gridcolor\":\"white\",\"linecolor\":\"white\",\"showbackground\":true,\"ticks\":\"\",\"zerolinecolor\":\"white\",\"gridwidth\":2}},\"shapedefaults\":{\"line\":{\"color\":\"#2a3f5f\"}},\"annotationdefaults\":{\"arrowcolor\":\"#2a3f5f\",\"arrowhead\":0,\"arrowwidth\":1},\"geo\":{\"bgcolor\":\"white\",\"landcolor\":\"#E5ECF6\",\"subunitcolor\":\"white\",\"showland\":true,\"showlakes\":true,\"lakecolor\":\"white\"},\"title\":{\"x\":0.05},\"mapbox\":{\"style\":\"light\"}}},\"coloraxis\":{\"colorbar\":{\"title\":{\"text\":\"Approximate sales in millions\"}},\"colorscale\":[[0.0,\"#0d0887\"],[0.1111111111111111,\"#46039f\"],[0.2222222222222222,\"#7201a8\"],[0.3333333333333333,\"#9c179e\"],[0.4444444444444444,\"#bd3786\"],[0.5555555555555556,\"#d8576b\"],[0.6666666666666666,\"#ed7953\"],[0.7777777777777778,\"#fb9f3a\"],[0.8888888888888888,\"#fdca26\"],[1.0,\"#f0f921\"]]},\"legend\":{\"tracegroupgap\":0},\"margin\":{\"t\":60},\"height\":1200,\"width\":1200,\"title\":{\"pad\":{\"l\":330}}},                        {\"responsive\": true}                    ).then(function(){\n",
       "                            \n",
       "var gd = document.getElementById('81c2e0b2-3388-4622-ac2e-af5b7c732d49');\n",
       "var x = new MutationObserver(function (mutations, observer) {{\n",
       "        var display = window.getComputedStyle(gd).display;\n",
       "        if (!display || display === 'none') {{\n",
       "            console.log([gd, 'removed!']);\n",
       "            Plotly.purge(gd);\n",
       "            observer.disconnect();\n",
       "        }}\n",
       "}});\n",
       "\n",
       "// Listen for the removal of the full notebook cells\n",
       "var notebookContainer = gd.closest('#notebook-container');\n",
       "if (notebookContainer) {{\n",
       "    x.observe(notebookContainer, {childList: true});\n",
       "}}\n",
       "\n",
       "// Listen for the clearing of the current output cell\n",
       "var outputEl = gd.closest('.output');\n",
       "if (outputEl) {{\n",
       "    x.observe(outputEl, {childList: true});\n",
       "}}\n",
       "\n",
       "                        })                };                });            </script>        </div>"
      ]
     },
     "metadata": {},
     "output_type": "display_data"
    }
   ],
   "source": [
    "#suburst plot, showing Language, Genre, and author\n",
    "\n",
    "fig=px.sunburst(df,path=['Original language', 'Genre','Author(s)'],values='Approximate sales in millions',\n",
    "                color='Approximate sales in millions',height=1200,width=1200)\n",
    "fig.update_layout(title_pad_l=330)\n",
    "fig.show();"
   ]
  },
  {
   "cell_type": "markdown",
   "id": "completed-charles",
   "metadata": {},
   "source": [
    "# Findings"
   ]
  },
  {
   "cell_type": "markdown",
   "id": "rental-dallas",
   "metadata": {},
   "source": [
    "\n",
    "1. The most popular genre is the Novel (41.2%), followed by Children's Literature (15.5%), Self-Help (9.5%), and Fantasy (8.1%)\n",
    "2. Young Adult fiction has taken over Children's Literature as the second most lucrative genre in the 21st century. \n",
    "3. The most popular language is English by a large margin (78.4%), followed by Russian (3.6%)\n",
    "4. The most lucrative year for bestsellers was 1988, followed closely by 1979\n",
    "5. The mean sales figures is 30.1 million\n",
    "6. The standard deviaition of sales is 27.95, which is influenced by extreme outliers, such as The Little Prince and A Tale of Two Cities\n",
    "7. J.K. Rowling has the most sales as a single author, followed by Suzanne Collins, Roald Dahl, and Dan Brown\n",
    "8. Only 6 books have over 100 million in sales, and two out of those six are considered Fantasy\n",
    "9. Only 2 books have over 200 million in sales: A Tale of Two Cities and the Little Prince\n",
    "10. The newest genre to make it to the bestseller list is Young adult romantic novel\n",
    "11. Only 1 book in this dataset was written before 1700, which is Dante's The Divine Comedy"
   ]
  },
  {
   "cell_type": "markdown",
   "id": "entitled-dispatch",
   "metadata": {},
   "source": [
    "# Assertions to Test"
   ]
  },
  {
   "cell_type": "markdown",
   "id": "abroad-laundry",
   "metadata": {},
   "source": [
    "1. 11 books with over 100 million in sales may be skewing the data\n",
    "2. Fantasy may be overrepresented due to the popularity of Rowling's Harry Potter series and The Hobbit"
   ]
  },
  {
   "cell_type": "code",
   "execution_count": 233,
   "id": "classified-battlefield",
   "metadata": {},
   "outputs": [],
   "source": [
    "df2 = df.drop(df[df['Author(s)'] == 'J.K. Rowling'].index)"
   ]
  },
  {
   "cell_type": "code",
   "execution_count": 234,
   "id": "broken-trademark",
   "metadata": {},
   "outputs": [],
   "source": [
    "df2 = df.drop(df[df['Book'].str.contains('Potter')].index)"
   ]
  },
  {
   "cell_type": "code",
   "execution_count": 235,
   "id": "seven-westminster",
   "metadata": {},
   "outputs": [
    {
     "data": {
      "image/png": "[encoded data removed]",
      "text/plain": [
       "<Figure size 1296x576 with 1 Axes>"
      ]
     },
     "metadata": {
      "needs_background": "light"
     },
     "output_type": "display_data"
    }
   ],
   "source": [
    "#After removing Harry Potter and the Novel, what is the most represented genre in terms of bestsellers?\n",
    "\n",
    "top_genres = df2['Genre'].value_counts().head(10)\n",
    "top_genres = top_genres.sort_values(ascending=False) \n",
    "\n",
    "plt.figure(figsize=(18, 8))\n",
    "sns.countplot(data=df2[df2['Genre'].isin(top_genres.index)], x='Genre', order=top_genres.index)\n",
    "plt.xticks(rotation=15, ha='right')\n",
    "plt.show()"
   ]
  },
  {
   "cell_type": "code",
   "execution_count": 224,
   "id": "packed-detroit",
   "metadata": {},
   "outputs": [],
   "source": [
    "#let's remove authors with over 100 million sales from the dataset to see if Fantasy remains the best represented genre amongst bestsellers\n",
    "\n",
    "df3 = df.drop(df[df['Author(s)'] == 'J.K. Rowling'].index)\n",
    "df3 = df.drop(df[df['Author(s)'] == 'Charles Dickens'].index)\n",
    "df3 = df.drop(df[df['Author(s)'] == 'Antoine de Saint-Exupéry'].index)\n",
    "df3 = df.drop(df[df['Author(s)'] == 'Agatha Christie'].index)\n",
    "df3 = df.drop(df[df['Author(s)'] == 'Cao Xueqin'].index)\n",
    "df3 = df.drop(df[df['Author(s)'] == 'J. R. R. Tolkien'].index)"
   ]
  },
  {
   "cell_type": "code",
   "execution_count": 225,
   "id": "detected-equivalent",
   "metadata": {},
   "outputs": [],
   "source": [
    "df3 = df.drop(df[df['Book'].str.contains('Potter')].index)\n",
    "df3 = df.drop(df[df['Book'] == 'A Tale of Two Cities'].index)\n",
    "df3 = df.drop(df[df['Book'] == 'The Hobbt'].index)\n",
    "df3 = df.drop(df[df['Book'] == 'Dream of the Red Chamber (紅樓夢)'].index)\n",
    "df3 = df.drop(df[df['Book'] == 'The Little Prince (Le Petit Prince)'].index)\n",
    "df3 = df.drop(df[df['Book'] == 'And Then There Were'].index)"
   ]
  },
  {
   "cell_type": "code",
   "execution_count": 226,
   "id": "leading-necessity",
   "metadata": {},
   "outputs": [
    {
     "data": {
      "image/png": "[encoded data removed]",
      "text/plain": [
       "<Figure size 1296x576 with 1 Axes>"
      ]
     },
     "metadata": {
      "needs_background": "light"
     },
     "output_type": "display_data"
    }
   ],
   "source": [
    "#after removing Harry Potter, what is the most represented genre in terms of bestsellers?\n",
    "\n",
    "top_genres = df3['Genre'].value_counts().head(10)\n",
    "top_genres = top_genres.sort_values(ascending=False) \n",
    "\n",
    "plt.figure(figsize=(18, 8))\n",
    "sns.countplot(data=df3[df3['Genre'].isin(top_genres.index)], x='Genre', order=top_genres.index)\n",
    "plt.xticks(rotation=15, ha='right')\n",
    "plt.show()"
   ]
  },
  {
   "cell_type": "markdown",
   "id": "ignored-elevation",
   "metadata": {},
   "source": [
    "Conclusion: Even after removing J.K. Rowling and authors with over 100 million in sales, the novel remains the most lucrative genre, which makes sense, given that the novel is perhaps the most broad genre. With that being said, the growing popularity of Young Adult and Fantasy, it would be smart to promote these genres. "
   ]
  },
  {
   "cell_type": "code",
   "execution_count": null,
   "id": "atmospheric-serbia",
   "metadata": {},
   "outputs": [],
   "source": []
  },
  {
   "cell_type": "code",
   "execution_count": null,
   "id": "neural-first",
   "metadata": {},
   "outputs": [],
   "source": []
  },
  {
   "cell_type": "code",
   "execution_count": null,
   "id": "confused-duration",
   "metadata": {},
   "outputs": [],
   "source": []
  },
  {
   "cell_type": "code",
   "execution_count": null,
   "id": "charming-consequence",
   "metadata": {},
   "outputs": [],
   "source": []
  },
  {
   "cell_type": "code",
   "execution_count": null,
   "id": "recovered-portfolio",
   "metadata": {},
   "outputs": [],
   "source": []
  },
  {
   "cell_type": "code",
   "execution_count": null,
   "id": "essential-excerpt",
   "metadata": {},
   "outputs": [],
   "source": []
  },
  {
   "cell_type": "code",
   "execution_count": null,
   "id": "lyric-alert",
   "metadata": {},
   "outputs": [],
   "source": []
  },
  {
   "cell_type": "code",
   "execution_count": null,
   "id": "satellite-blank",
   "metadata": {},
   "outputs": [],
   "source": []
  },
  {
   "cell_type": "code",
   "execution_count": null,
   "id": "comparable-highlight",
   "metadata": {},
   "outputs": [],
   "source": []
  },
  {
   "cell_type": "code",
   "execution_count": null,
   "id": "super-logic",
   "metadata": {},
   "outputs": [],
   "source": []
  },
  {
   "cell_type": "code",
   "execution_count": null,
   "id": "accessory-jesus",
   "metadata": {},
   "outputs": [],
   "source": []
  },
  {
   "cell_type": "code",
   "execution_count": null,
   "id": "productive-teddy",
   "metadata": {},
   "outputs": [],
   "source": []
  },
  {
   "cell_type": "code",
   "execution_count": null,
   "id": "narrow-horse",
   "metadata": {},
   "outputs": [],
   "source": []
  },
  {
   "cell_type": "code",
   "execution_count": null,
   "id": "indie-storage",
   "metadata": {},
   "outputs": [],
   "source": []
  },
  {
   "cell_type": "code",
   "execution_count": null,
   "id": "blind-racing",
   "metadata": {},
   "outputs": [],
   "source": []
  },
  {
   "cell_type": "code",
   "execution_count": null,
   "id": "accomplished-strengthening",
   "metadata": {},
   "outputs": [],
   "source": []
  },
  {
   "cell_type": "code",
   "execution_count": null,
   "id": "chubby-conflict",
   "metadata": {},
   "outputs": [],
   "source": []
  },
  {
   "cell_type": "code",
   "execution_count": null,
   "id": "relevant-balance",
   "metadata": {},
   "outputs": [],
   "source": []
  },
  {
   "cell_type": "code",
   "execution_count": null,
   "id": "responsible-silence",
   "metadata": {},
   "outputs": [],
   "source": []
  },
  {
   "cell_type": "code",
   "execution_count": null,
   "id": "upper-shark",
   "metadata": {},
   "outputs": [],
   "source": []
  },
  {
   "cell_type": "code",
   "execution_count": null,
   "id": "intimate-champagne",
   "metadata": {},
   "outputs": [],
   "source": []
  },
  {
   "cell_type": "code",
   "execution_count": null,
   "id": "academic-testing",
   "metadata": {},
   "outputs": [],
   "source": []
  },
  {
   "cell_type": "code",
   "execution_count": null,
   "id": "charming-services",
   "metadata": {},
   "outputs": [],
   "source": []
  },
  {
   "cell_type": "code",
   "execution_count": null,
   "id": "certified-washington",
   "metadata": {},
   "outputs": [],
   "source": []
  },
  {
   "cell_type": "code",
   "execution_count": null,
   "id": "palestinian-orbit",
   "metadata": {},
   "outputs": [],
   "source": []
  },
  {
   "cell_type": "code",
   "execution_count": null,
   "id": "built-subcommittee",
   "metadata": {},
   "outputs": [],
   "source": []
  },
  {
   "cell_type": "code",
   "execution_count": null,
   "id": "dangerous-crisis",
   "metadata": {},
   "outputs": [],
   "source": []
  },
  {
   "cell_type": "code",
   "execution_count": null,
   "id": "objective-control",
   "metadata": {},
   "outputs": [],
   "source": []
  },
  {
   "cell_type": "code",
   "execution_count": null,
   "id": "undefined-illustration",
   "metadata": {},
   "outputs": [],
   "source": []
  }
 ],
 "metadata": {
  "kernelspec": {
   "display_name": "Python 3",
   "language": "python",
   "name": "python3"
  },
  "language_info": {
   "codemirror_mode": {
    "name": "ipython",
    "version": 3
   },
   "file_extension": ".py",
   "mimetype": "text/x-python",
   "name": "python",
   "nbconvert_exporter": "python",
   "pygments_lexer": "ipython3",
   "version": "3.7.16"
  }
 },
 "nbformat": 4,
 "nbformat_minor": 5
}
